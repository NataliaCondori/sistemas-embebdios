{
  "nbformat": 4,
  "nbformat_minor": 0,
  "metadata": {
    "colab": {
      "provenance": [],
      "mount_file_id": "1B8erpPXMxEZUj67r2OIfvTLdendSRDvB",
      "authorship_tag": "ABX9TyO9HYY6obAaVLuH/dM8jWpS",
      "include_colab_link": true
    },
    "kernelspec": {
      "name": "python3",
      "display_name": "Python 3"
    },
    "language_info": {
      "name": "python"
    }
  },
  "cells": [
    {
      "cell_type": "markdown",
      "metadata": {
        "id": "view-in-github",
        "colab_type": "text"
      },
      "source": [
        "<a href=\"https://colab.research.google.com/github/NataliaCondori/sistemas-embebdios/blob/main/prueba1.ipynb\" target=\"_parent\"><img src=\"https://colab.research.google.com/assets/colab-badge.svg\" alt=\"Open In Colab\"/></a>"
      ]
    },
    {
      "cell_type": "code",
      "execution_count": 2,
      "metadata": {
        "colab": {
          "base_uri": "https://localhost:8080/"
        },
        "id": "67P3JgFtU2Zu",
        "outputId": "ebef5d26-b923-4a66-d242-06cc3525e5dc"
      },
      "outputs": [
        {
          "output_type": "stream",
          "name": "stdout",
          "text": [
            "Drive already mounted at /content/gdrive; to attempt to forcibly remount, call drive.mount(\"/content/gdrive\", force_remount=True).\n",
            "Processing video /content/gdrive/MyDrive/VISIONAAAAA/Dataset Proyecto /02 Muchas_gracias/muchas_gracias1 - Made with Clipchamp.mp4...\n",
            "Moviepy - Building video /content/gdrive/MyDrive/VISIONAAAAA/Dataset Proyecto /02 Muchas_gracias/normalized_muchas_gracias1 - Made with Clipchamp.mp4.\n",
            "Moviepy - Writing video /content/gdrive/MyDrive/VISIONAAAAA/Dataset Proyecto /02 Muchas_gracias/normalized_muchas_gracias1 - Made with Clipchamp.mp4\n",
            "\n"
          ]
        },
        {
          "output_type": "stream",
          "name": "stderr",
          "text": []
        },
        {
          "output_type": "stream",
          "name": "stdout",
          "text": [
            "Moviepy - Done !\n",
            "Moviepy - video ready /content/gdrive/MyDrive/VISIONAAAAA/Dataset Proyecto /02 Muchas_gracias/normalized_muchas_gracias1 - Made with Clipchamp.mp4\n",
            "Normalized video saved as /content/gdrive/MyDrive/VISIONAAAAA/Dataset Proyecto /02 Muchas_gracias/normalized_muchas_gracias1 - Made with Clipchamp.mp4\n",
            "\n",
            "Processing video /content/gdrive/MyDrive/VISIONAAAAA/Dataset Proyecto /02 Muchas_gracias/muchas_gracias2 - Made with Clipchamp.mp4...\n",
            "Moviepy - Building video /content/gdrive/MyDrive/VISIONAAAAA/Dataset Proyecto /02 Muchas_gracias/normalized_muchas_gracias2 - Made with Clipchamp.mp4.\n",
            "Moviepy - Writing video /content/gdrive/MyDrive/VISIONAAAAA/Dataset Proyecto /02 Muchas_gracias/normalized_muchas_gracias2 - Made with Clipchamp.mp4\n",
            "\n"
          ]
        },
        {
          "output_type": "stream",
          "name": "stderr",
          "text": []
        },
        {
          "output_type": "stream",
          "name": "stdout",
          "text": [
            "Moviepy - Done !\n",
            "Moviepy - video ready /content/gdrive/MyDrive/VISIONAAAAA/Dataset Proyecto /02 Muchas_gracias/normalized_muchas_gracias2 - Made with Clipchamp.mp4\n",
            "Normalized video saved as /content/gdrive/MyDrive/VISIONAAAAA/Dataset Proyecto /02 Muchas_gracias/normalized_muchas_gracias2 - Made with Clipchamp.mp4\n",
            "\n",
            "Processing video /content/gdrive/MyDrive/VISIONAAAAA/Dataset Proyecto /02 Muchas_gracias/muchas_gracias3 - Made with Clipchamp.mp4...\n",
            "Moviepy - Building video /content/gdrive/MyDrive/VISIONAAAAA/Dataset Proyecto /02 Muchas_gracias/normalized_muchas_gracias3 - Made with Clipchamp.mp4.\n",
            "Moviepy - Writing video /content/gdrive/MyDrive/VISIONAAAAA/Dataset Proyecto /02 Muchas_gracias/normalized_muchas_gracias3 - Made with Clipchamp.mp4\n",
            "\n"
          ]
        },
        {
          "output_type": "stream",
          "name": "stderr",
          "text": []
        },
        {
          "output_type": "stream",
          "name": "stdout",
          "text": [
            "Moviepy - Done !\n",
            "Moviepy - video ready /content/gdrive/MyDrive/VISIONAAAAA/Dataset Proyecto /02 Muchas_gracias/normalized_muchas_gracias3 - Made with Clipchamp.mp4\n",
            "Normalized video saved as /content/gdrive/MyDrive/VISIONAAAAA/Dataset Proyecto /02 Muchas_gracias/normalized_muchas_gracias3 - Made with Clipchamp.mp4\n",
            "\n",
            "Processing video /content/gdrive/MyDrive/VISIONAAAAA/Dataset Proyecto /02 Muchas_gracias/muchas_gracias4 - Made with Clipchamp.mp4...\n",
            "Moviepy - Building video /content/gdrive/MyDrive/VISIONAAAAA/Dataset Proyecto /02 Muchas_gracias/normalized_muchas_gracias4 - Made with Clipchamp.mp4.\n",
            "Moviepy - Writing video /content/gdrive/MyDrive/VISIONAAAAA/Dataset Proyecto /02 Muchas_gracias/normalized_muchas_gracias4 - Made with Clipchamp.mp4\n",
            "\n"
          ]
        },
        {
          "output_type": "stream",
          "name": "stderr",
          "text": []
        },
        {
          "output_type": "stream",
          "name": "stdout",
          "text": [
            "Moviepy - Done !\n",
            "Moviepy - video ready /content/gdrive/MyDrive/VISIONAAAAA/Dataset Proyecto /02 Muchas_gracias/normalized_muchas_gracias4 - Made with Clipchamp.mp4\n",
            "Normalized video saved as /content/gdrive/MyDrive/VISIONAAAAA/Dataset Proyecto /02 Muchas_gracias/normalized_muchas_gracias4 - Made with Clipchamp.mp4\n",
            "\n",
            "Processing video /content/gdrive/MyDrive/VISIONAAAAA/Dataset Proyecto /02 Muchas_gracias/muchas_gracias5 - Made with Clipchamp.mp4...\n",
            "Moviepy - Building video /content/gdrive/MyDrive/VISIONAAAAA/Dataset Proyecto /02 Muchas_gracias/normalized_muchas_gracias5 - Made with Clipchamp.mp4.\n",
            "Moviepy - Writing video /content/gdrive/MyDrive/VISIONAAAAA/Dataset Proyecto /02 Muchas_gracias/normalized_muchas_gracias5 - Made with Clipchamp.mp4\n",
            "\n"
          ]
        },
        {
          "output_type": "stream",
          "name": "stderr",
          "text": []
        },
        {
          "output_type": "stream",
          "name": "stdout",
          "text": [
            "Moviepy - Done !\n",
            "Moviepy - video ready /content/gdrive/MyDrive/VISIONAAAAA/Dataset Proyecto /02 Muchas_gracias/normalized_muchas_gracias5 - Made with Clipchamp.mp4\n",
            "Normalized video saved as /content/gdrive/MyDrive/VISIONAAAAA/Dataset Proyecto /02 Muchas_gracias/normalized_muchas_gracias5 - Made with Clipchamp.mp4\n",
            "\n",
            "Processing video /content/gdrive/MyDrive/VISIONAAAAA/Dataset Proyecto /02 Muchas_gracias/muchas_gracias6 - Made with Clipchamp.mp4...\n",
            "Moviepy - Building video /content/gdrive/MyDrive/VISIONAAAAA/Dataset Proyecto /02 Muchas_gracias/normalized_muchas_gracias6 - Made with Clipchamp.mp4.\n",
            "Moviepy - Writing video /content/gdrive/MyDrive/VISIONAAAAA/Dataset Proyecto /02 Muchas_gracias/normalized_muchas_gracias6 - Made with Clipchamp.mp4\n",
            "\n"
          ]
        },
        {
          "output_type": "stream",
          "name": "stderr",
          "text": []
        },
        {
          "output_type": "stream",
          "name": "stdout",
          "text": [
            "Moviepy - Done !\n",
            "Moviepy - video ready /content/gdrive/MyDrive/VISIONAAAAA/Dataset Proyecto /02 Muchas_gracias/normalized_muchas_gracias6 - Made with Clipchamp.mp4\n",
            "Normalized video saved as /content/gdrive/MyDrive/VISIONAAAAA/Dataset Proyecto /02 Muchas_gracias/normalized_muchas_gracias6 - Made with Clipchamp.mp4\n",
            "\n",
            "Processing video /content/gdrive/MyDrive/VISIONAAAAA/Dataset Proyecto /02 Muchas_gracias/muchas_gracias7 - Made with Clipchamp.mp4...\n",
            "Moviepy - Building video /content/gdrive/MyDrive/VISIONAAAAA/Dataset Proyecto /02 Muchas_gracias/normalized_muchas_gracias7 - Made with Clipchamp.mp4.\n",
            "Moviepy - Writing video /content/gdrive/MyDrive/VISIONAAAAA/Dataset Proyecto /02 Muchas_gracias/normalized_muchas_gracias7 - Made with Clipchamp.mp4\n",
            "\n"
          ]
        },
        {
          "output_type": "stream",
          "name": "stderr",
          "text": []
        },
        {
          "output_type": "stream",
          "name": "stdout",
          "text": [
            "Moviepy - Done !\n",
            "Moviepy - video ready /content/gdrive/MyDrive/VISIONAAAAA/Dataset Proyecto /02 Muchas_gracias/normalized_muchas_gracias7 - Made with Clipchamp.mp4\n",
            "Normalized video saved as /content/gdrive/MyDrive/VISIONAAAAA/Dataset Proyecto /02 Muchas_gracias/normalized_muchas_gracias7 - Made with Clipchamp.mp4\n",
            "\n",
            "Processing video /content/gdrive/MyDrive/VISIONAAAAA/Dataset Proyecto /02 Muchas_gracias/muchas_gracias8 - Made with Clipchamp.mp4...\n",
            "Moviepy - Building video /content/gdrive/MyDrive/VISIONAAAAA/Dataset Proyecto /02 Muchas_gracias/normalized_muchas_gracias8 - Made with Clipchamp.mp4.\n",
            "Moviepy - Writing video /content/gdrive/MyDrive/VISIONAAAAA/Dataset Proyecto /02 Muchas_gracias/normalized_muchas_gracias8 - Made with Clipchamp.mp4\n",
            "\n"
          ]
        },
        {
          "output_type": "stream",
          "name": "stderr",
          "text": []
        },
        {
          "output_type": "stream",
          "name": "stdout",
          "text": [
            "Moviepy - Done !\n",
            "Moviepy - video ready /content/gdrive/MyDrive/VISIONAAAAA/Dataset Proyecto /02 Muchas_gracias/normalized_muchas_gracias8 - Made with Clipchamp.mp4\n",
            "Normalized video saved as /content/gdrive/MyDrive/VISIONAAAAA/Dataset Proyecto /02 Muchas_gracias/normalized_muchas_gracias8 - Made with Clipchamp.mp4\n",
            "\n",
            "Processing video /content/gdrive/MyDrive/VISIONAAAAA/Dataset Proyecto /02 Muchas_gracias/muchas_gracias9 - Made with Clipchamp.mp4...\n",
            "Moviepy - Building video /content/gdrive/MyDrive/VISIONAAAAA/Dataset Proyecto /02 Muchas_gracias/normalized_muchas_gracias9 - Made with Clipchamp.mp4.\n",
            "Moviepy - Writing video /content/gdrive/MyDrive/VISIONAAAAA/Dataset Proyecto /02 Muchas_gracias/normalized_muchas_gracias9 - Made with Clipchamp.mp4\n",
            "\n"
          ]
        },
        {
          "output_type": "stream",
          "name": "stderr",
          "text": []
        },
        {
          "output_type": "stream",
          "name": "stdout",
          "text": [
            "Moviepy - Done !\n",
            "Moviepy - video ready /content/gdrive/MyDrive/VISIONAAAAA/Dataset Proyecto /02 Muchas_gracias/normalized_muchas_gracias9 - Made with Clipchamp.mp4\n",
            "Normalized video saved as /content/gdrive/MyDrive/VISIONAAAAA/Dataset Proyecto /02 Muchas_gracias/normalized_muchas_gracias9 - Made with Clipchamp.mp4\n",
            "\n",
            "Processing video /content/gdrive/MyDrive/VISIONAAAAA/Dataset Proyecto /02 Muchas_gracias/muchas_gracias10 - Made with Clipchamp.mp4...\n",
            "Moviepy - Building video /content/gdrive/MyDrive/VISIONAAAAA/Dataset Proyecto /02 Muchas_gracias/normalized_muchas_gracias10 - Made with Clipchamp.mp4.\n",
            "Moviepy - Writing video /content/gdrive/MyDrive/VISIONAAAAA/Dataset Proyecto /02 Muchas_gracias/normalized_muchas_gracias10 - Made with Clipchamp.mp4\n",
            "\n"
          ]
        },
        {
          "output_type": "stream",
          "name": "stderr",
          "text": []
        },
        {
          "output_type": "stream",
          "name": "stdout",
          "text": [
            "Moviepy - Done !\n",
            "Moviepy - video ready /content/gdrive/MyDrive/VISIONAAAAA/Dataset Proyecto /02 Muchas_gracias/normalized_muchas_gracias10 - Made with Clipchamp.mp4\n",
            "Normalized video saved as /content/gdrive/MyDrive/VISIONAAAAA/Dataset Proyecto /02 Muchas_gracias/normalized_muchas_gracias10 - Made with Clipchamp.mp4\n",
            "\n",
            "Processing video /content/gdrive/MyDrive/VISIONAAAAA/Dataset Proyecto /02 Muchas_gracias/muchas_gracias11 - Made with Clipchamp.mp4...\n",
            "Moviepy - Building video /content/gdrive/MyDrive/VISIONAAAAA/Dataset Proyecto /02 Muchas_gracias/normalized_muchas_gracias11 - Made with Clipchamp.mp4.\n",
            "Moviepy - Writing video /content/gdrive/MyDrive/VISIONAAAAA/Dataset Proyecto /02 Muchas_gracias/normalized_muchas_gracias11 - Made with Clipchamp.mp4\n",
            "\n"
          ]
        },
        {
          "output_type": "stream",
          "name": "stderr",
          "text": []
        },
        {
          "output_type": "stream",
          "name": "stdout",
          "text": [
            "Moviepy - Done !\n",
            "Moviepy - video ready /content/gdrive/MyDrive/VISIONAAAAA/Dataset Proyecto /02 Muchas_gracias/normalized_muchas_gracias11 - Made with Clipchamp.mp4\n",
            "Normalized video saved as /content/gdrive/MyDrive/VISIONAAAAA/Dataset Proyecto /02 Muchas_gracias/normalized_muchas_gracias11 - Made with Clipchamp.mp4\n",
            "\n",
            "Processing video /content/gdrive/MyDrive/VISIONAAAAA/Dataset Proyecto /02 Muchas_gracias/muchas_gracias12 - Made with Clipchamp.mp4...\n",
            "Moviepy - Building video /content/gdrive/MyDrive/VISIONAAAAA/Dataset Proyecto /02 Muchas_gracias/normalized_muchas_gracias12 - Made with Clipchamp.mp4.\n",
            "Moviepy - Writing video /content/gdrive/MyDrive/VISIONAAAAA/Dataset Proyecto /02 Muchas_gracias/normalized_muchas_gracias12 - Made with Clipchamp.mp4\n",
            "\n"
          ]
        },
        {
          "output_type": "stream",
          "name": "stderr",
          "text": []
        },
        {
          "output_type": "stream",
          "name": "stdout",
          "text": [
            "Moviepy - Done !\n",
            "Moviepy - video ready /content/gdrive/MyDrive/VISIONAAAAA/Dataset Proyecto /02 Muchas_gracias/normalized_muchas_gracias12 - Made with Clipchamp.mp4\n",
            "Normalized video saved as /content/gdrive/MyDrive/VISIONAAAAA/Dataset Proyecto /02 Muchas_gracias/normalized_muchas_gracias12 - Made with Clipchamp.mp4\n",
            "\n",
            "Processing video /content/gdrive/MyDrive/VISIONAAAAA/Dataset Proyecto /02 Muchas_gracias/muchas_gracias13 - Made with Clipchamp.mp4...\n",
            "Moviepy - Building video /content/gdrive/MyDrive/VISIONAAAAA/Dataset Proyecto /02 Muchas_gracias/normalized_muchas_gracias13 - Made with Clipchamp.mp4.\n",
            "Moviepy - Writing video /content/gdrive/MyDrive/VISIONAAAAA/Dataset Proyecto /02 Muchas_gracias/normalized_muchas_gracias13 - Made with Clipchamp.mp4\n",
            "\n"
          ]
        },
        {
          "output_type": "stream",
          "name": "stderr",
          "text": []
        },
        {
          "output_type": "stream",
          "name": "stdout",
          "text": [
            "Moviepy - Done !\n",
            "Moviepy - video ready /content/gdrive/MyDrive/VISIONAAAAA/Dataset Proyecto /02 Muchas_gracias/normalized_muchas_gracias13 - Made with Clipchamp.mp4\n",
            "Normalized video saved as /content/gdrive/MyDrive/VISIONAAAAA/Dataset Proyecto /02 Muchas_gracias/normalized_muchas_gracias13 - Made with Clipchamp.mp4\n",
            "\n",
            "Processing video /content/gdrive/MyDrive/VISIONAAAAA/Dataset Proyecto /02 Muchas_gracias/muchas_gracias14 - Made with Clipchamp.mp4...\n",
            "Moviepy - Building video /content/gdrive/MyDrive/VISIONAAAAA/Dataset Proyecto /02 Muchas_gracias/normalized_muchas_gracias14 - Made with Clipchamp.mp4.\n",
            "Moviepy - Writing video /content/gdrive/MyDrive/VISIONAAAAA/Dataset Proyecto /02 Muchas_gracias/normalized_muchas_gracias14 - Made with Clipchamp.mp4\n",
            "\n"
          ]
        },
        {
          "output_type": "stream",
          "name": "stderr",
          "text": []
        },
        {
          "output_type": "stream",
          "name": "stdout",
          "text": [
            "Moviepy - Done !\n",
            "Moviepy - video ready /content/gdrive/MyDrive/VISIONAAAAA/Dataset Proyecto /02 Muchas_gracias/normalized_muchas_gracias14 - Made with Clipchamp.mp4\n",
            "Normalized video saved as /content/gdrive/MyDrive/VISIONAAAAA/Dataset Proyecto /02 Muchas_gracias/normalized_muchas_gracias14 - Made with Clipchamp.mp4\n",
            "\n",
            "Processing video /content/gdrive/MyDrive/VISIONAAAAA/Dataset Proyecto /02 Muchas_gracias/muchas_gracias15 - Made with Clipchamp.mp4...\n",
            "Moviepy - Building video /content/gdrive/MyDrive/VISIONAAAAA/Dataset Proyecto /02 Muchas_gracias/normalized_muchas_gracias15 - Made with Clipchamp.mp4.\n",
            "Moviepy - Writing video /content/gdrive/MyDrive/VISIONAAAAA/Dataset Proyecto /02 Muchas_gracias/normalized_muchas_gracias15 - Made with Clipchamp.mp4\n",
            "\n"
          ]
        },
        {
          "output_type": "stream",
          "name": "stderr",
          "text": []
        },
        {
          "output_type": "stream",
          "name": "stdout",
          "text": [
            "Moviepy - Done !\n",
            "Moviepy - video ready /content/gdrive/MyDrive/VISIONAAAAA/Dataset Proyecto /02 Muchas_gracias/normalized_muchas_gracias15 - Made with Clipchamp.mp4\n",
            "Normalized video saved as /content/gdrive/MyDrive/VISIONAAAAA/Dataset Proyecto /02 Muchas_gracias/normalized_muchas_gracias15 - Made with Clipchamp.mp4\n",
            "\n",
            "Processing video /content/gdrive/MyDrive/VISIONAAAAA/Dataset Proyecto /02 Muchas_gracias/muchas_gracias16 - Made with Clipchamp.mp4...\n",
            "Moviepy - Building video /content/gdrive/MyDrive/VISIONAAAAA/Dataset Proyecto /02 Muchas_gracias/normalized_muchas_gracias16 - Made with Clipchamp.mp4.\n",
            "Moviepy - Writing video /content/gdrive/MyDrive/VISIONAAAAA/Dataset Proyecto /02 Muchas_gracias/normalized_muchas_gracias16 - Made with Clipchamp.mp4\n",
            "\n"
          ]
        },
        {
          "output_type": "stream",
          "name": "stderr",
          "text": []
        },
        {
          "output_type": "stream",
          "name": "stdout",
          "text": [
            "Moviepy - Done !\n",
            "Moviepy - video ready /content/gdrive/MyDrive/VISIONAAAAA/Dataset Proyecto /02 Muchas_gracias/normalized_muchas_gracias16 - Made with Clipchamp.mp4\n",
            "Normalized video saved as /content/gdrive/MyDrive/VISIONAAAAA/Dataset Proyecto /02 Muchas_gracias/normalized_muchas_gracias16 - Made with Clipchamp.mp4\n",
            "\n",
            "Processing video /content/gdrive/MyDrive/VISIONAAAAA/Dataset Proyecto /02 Muchas_gracias/muchas_gracias17 - Made with Clipchamp.mp4...\n",
            "Moviepy - Building video /content/gdrive/MyDrive/VISIONAAAAA/Dataset Proyecto /02 Muchas_gracias/normalized_muchas_gracias17 - Made with Clipchamp.mp4.\n",
            "Moviepy - Writing video /content/gdrive/MyDrive/VISIONAAAAA/Dataset Proyecto /02 Muchas_gracias/normalized_muchas_gracias17 - Made with Clipchamp.mp4\n",
            "\n"
          ]
        },
        {
          "output_type": "stream",
          "name": "stderr",
          "text": []
        },
        {
          "output_type": "stream",
          "name": "stdout",
          "text": [
            "Moviepy - Done !\n",
            "Moviepy - video ready /content/gdrive/MyDrive/VISIONAAAAA/Dataset Proyecto /02 Muchas_gracias/normalized_muchas_gracias17 - Made with Clipchamp.mp4\n",
            "Normalized video saved as /content/gdrive/MyDrive/VISIONAAAAA/Dataset Proyecto /02 Muchas_gracias/normalized_muchas_gracias17 - Made with Clipchamp.mp4\n",
            "\n",
            "Processing video /content/gdrive/MyDrive/VISIONAAAAA/Dataset Proyecto /02 Muchas_gracias/muchas_gracias18 - Made with Clipchamp.mp4...\n",
            "Moviepy - Building video /content/gdrive/MyDrive/VISIONAAAAA/Dataset Proyecto /02 Muchas_gracias/normalized_muchas_gracias18 - Made with Clipchamp.mp4.\n",
            "Moviepy - Writing video /content/gdrive/MyDrive/VISIONAAAAA/Dataset Proyecto /02 Muchas_gracias/normalized_muchas_gracias18 - Made with Clipchamp.mp4\n",
            "\n"
          ]
        },
        {
          "output_type": "stream",
          "name": "stderr",
          "text": []
        },
        {
          "output_type": "stream",
          "name": "stdout",
          "text": [
            "Moviepy - Done !\n",
            "Moviepy - video ready /content/gdrive/MyDrive/VISIONAAAAA/Dataset Proyecto /02 Muchas_gracias/normalized_muchas_gracias18 - Made with Clipchamp.mp4\n",
            "Normalized video saved as /content/gdrive/MyDrive/VISIONAAAAA/Dataset Proyecto /02 Muchas_gracias/normalized_muchas_gracias18 - Made with Clipchamp.mp4\n",
            "\n",
            "Processing video /content/gdrive/MyDrive/VISIONAAAAA/Dataset Proyecto /02 Muchas_gracias/muchas_gracias19 - Made with Clipchamp.mp4...\n",
            "Moviepy - Building video /content/gdrive/MyDrive/VISIONAAAAA/Dataset Proyecto /02 Muchas_gracias/normalized_muchas_gracias19 - Made with Clipchamp.mp4.\n",
            "Moviepy - Writing video /content/gdrive/MyDrive/VISIONAAAAA/Dataset Proyecto /02 Muchas_gracias/normalized_muchas_gracias19 - Made with Clipchamp.mp4\n",
            "\n"
          ]
        },
        {
          "output_type": "stream",
          "name": "stderr",
          "text": []
        },
        {
          "output_type": "stream",
          "name": "stdout",
          "text": [
            "Moviepy - Done !\n",
            "Moviepy - video ready /content/gdrive/MyDrive/VISIONAAAAA/Dataset Proyecto /02 Muchas_gracias/normalized_muchas_gracias19 - Made with Clipchamp.mp4\n",
            "Normalized video saved as /content/gdrive/MyDrive/VISIONAAAAA/Dataset Proyecto /02 Muchas_gracias/normalized_muchas_gracias19 - Made with Clipchamp.mp4\n",
            "\n",
            "Processing video /content/gdrive/MyDrive/VISIONAAAAA/Dataset Proyecto /02 Muchas_gracias/muchas_gracias20 - Made with Clipchamp.mp4...\n",
            "Moviepy - Building video /content/gdrive/MyDrive/VISIONAAAAA/Dataset Proyecto /02 Muchas_gracias/normalized_muchas_gracias20 - Made with Clipchamp.mp4.\n",
            "Moviepy - Writing video /content/gdrive/MyDrive/VISIONAAAAA/Dataset Proyecto /02 Muchas_gracias/normalized_muchas_gracias20 - Made with Clipchamp.mp4\n",
            "\n"
          ]
        },
        {
          "output_type": "stream",
          "name": "stderr",
          "text": []
        },
        {
          "output_type": "stream",
          "name": "stdout",
          "text": [
            "Moviepy - Done !\n",
            "Moviepy - video ready /content/gdrive/MyDrive/VISIONAAAAA/Dataset Proyecto /02 Muchas_gracias/normalized_muchas_gracias20 - Made with Clipchamp.mp4\n",
            "Normalized video saved as /content/gdrive/MyDrive/VISIONAAAAA/Dataset Proyecto /02 Muchas_gracias/normalized_muchas_gracias20 - Made with Clipchamp.mp4\n",
            "\n",
            "Processing video /content/gdrive/MyDrive/VISIONAAAAA/Dataset Proyecto /02 Muchas_gracias/muchas_gracias21 - Made with Clipchamp.mp4...\n",
            "Moviepy - Building video /content/gdrive/MyDrive/VISIONAAAAA/Dataset Proyecto /02 Muchas_gracias/normalized_muchas_gracias21 - Made with Clipchamp.mp4.\n",
            "Moviepy - Writing video /content/gdrive/MyDrive/VISIONAAAAA/Dataset Proyecto /02 Muchas_gracias/normalized_muchas_gracias21 - Made with Clipchamp.mp4\n",
            "\n"
          ]
        },
        {
          "output_type": "stream",
          "name": "stderr",
          "text": []
        },
        {
          "output_type": "stream",
          "name": "stdout",
          "text": [
            "Moviepy - Done !\n",
            "Moviepy - video ready /content/gdrive/MyDrive/VISIONAAAAA/Dataset Proyecto /02 Muchas_gracias/normalized_muchas_gracias21 - Made with Clipchamp.mp4\n",
            "Normalized video saved as /content/gdrive/MyDrive/VISIONAAAAA/Dataset Proyecto /02 Muchas_gracias/normalized_muchas_gracias21 - Made with Clipchamp.mp4\n",
            "\n",
            "Processing video /content/gdrive/MyDrive/VISIONAAAAA/Dataset Proyecto /02 Muchas_gracias/muchas_gracias22 - Made with Clipchamp.mp4...\n",
            "Moviepy - Building video /content/gdrive/MyDrive/VISIONAAAAA/Dataset Proyecto /02 Muchas_gracias/normalized_muchas_gracias22 - Made with Clipchamp.mp4.\n",
            "Moviepy - Writing video /content/gdrive/MyDrive/VISIONAAAAA/Dataset Proyecto /02 Muchas_gracias/normalized_muchas_gracias22 - Made with Clipchamp.mp4\n",
            "\n"
          ]
        },
        {
          "output_type": "stream",
          "name": "stderr",
          "text": []
        },
        {
          "output_type": "stream",
          "name": "stdout",
          "text": [
            "Moviepy - Done !\n",
            "Moviepy - video ready /content/gdrive/MyDrive/VISIONAAAAA/Dataset Proyecto /02 Muchas_gracias/normalized_muchas_gracias22 - Made with Clipchamp.mp4\n",
            "Normalized video saved as /content/gdrive/MyDrive/VISIONAAAAA/Dataset Proyecto /02 Muchas_gracias/normalized_muchas_gracias22 - Made with Clipchamp.mp4\n",
            "\n",
            "Processing video /content/gdrive/MyDrive/VISIONAAAAA/Dataset Proyecto /02 Muchas_gracias/muchas_gracias23 - Made with Clipchamp.mp4...\n",
            "Moviepy - Building video /content/gdrive/MyDrive/VISIONAAAAA/Dataset Proyecto /02 Muchas_gracias/normalized_muchas_gracias23 - Made with Clipchamp.mp4.\n",
            "Moviepy - Writing video /content/gdrive/MyDrive/VISIONAAAAA/Dataset Proyecto /02 Muchas_gracias/normalized_muchas_gracias23 - Made with Clipchamp.mp4\n",
            "\n"
          ]
        },
        {
          "output_type": "stream",
          "name": "stderr",
          "text": []
        },
        {
          "output_type": "stream",
          "name": "stdout",
          "text": [
            "Moviepy - Done !\n",
            "Moviepy - video ready /content/gdrive/MyDrive/VISIONAAAAA/Dataset Proyecto /02 Muchas_gracias/normalized_muchas_gracias23 - Made with Clipchamp.mp4\n",
            "Normalized video saved as /content/gdrive/MyDrive/VISIONAAAAA/Dataset Proyecto /02 Muchas_gracias/normalized_muchas_gracias23 - Made with Clipchamp.mp4\n",
            "\n",
            "Processing video /content/gdrive/MyDrive/VISIONAAAAA/Dataset Proyecto /02 Muchas_gracias/muchas_gracias24 - Made with Clipchamp.mp4...\n",
            "Moviepy - Building video /content/gdrive/MyDrive/VISIONAAAAA/Dataset Proyecto /02 Muchas_gracias/normalized_muchas_gracias24 - Made with Clipchamp.mp4.\n",
            "Moviepy - Writing video /content/gdrive/MyDrive/VISIONAAAAA/Dataset Proyecto /02 Muchas_gracias/normalized_muchas_gracias24 - Made with Clipchamp.mp4\n",
            "\n"
          ]
        },
        {
          "output_type": "stream",
          "name": "stderr",
          "text": []
        },
        {
          "output_type": "stream",
          "name": "stdout",
          "text": [
            "Moviepy - Done !\n",
            "Moviepy - video ready /content/gdrive/MyDrive/VISIONAAAAA/Dataset Proyecto /02 Muchas_gracias/normalized_muchas_gracias24 - Made with Clipchamp.mp4\n",
            "Normalized video saved as /content/gdrive/MyDrive/VISIONAAAAA/Dataset Proyecto /02 Muchas_gracias/normalized_muchas_gracias24 - Made with Clipchamp.mp4\n",
            "\n",
            "Processing video /content/gdrive/MyDrive/VISIONAAAAA/Dataset Proyecto /02 Muchas_gracias/muchas_gracias25 - Made with Clipchamp.mp4...\n",
            "Moviepy - Building video /content/gdrive/MyDrive/VISIONAAAAA/Dataset Proyecto /02 Muchas_gracias/normalized_muchas_gracias25 - Made with Clipchamp.mp4.\n",
            "Moviepy - Writing video /content/gdrive/MyDrive/VISIONAAAAA/Dataset Proyecto /02 Muchas_gracias/normalized_muchas_gracias25 - Made with Clipchamp.mp4\n",
            "\n"
          ]
        },
        {
          "output_type": "stream",
          "name": "stderr",
          "text": []
        },
        {
          "output_type": "stream",
          "name": "stdout",
          "text": [
            "Moviepy - Done !\n",
            "Moviepy - video ready /content/gdrive/MyDrive/VISIONAAAAA/Dataset Proyecto /02 Muchas_gracias/normalized_muchas_gracias25 - Made with Clipchamp.mp4\n",
            "Normalized video saved as /content/gdrive/MyDrive/VISIONAAAAA/Dataset Proyecto /02 Muchas_gracias/normalized_muchas_gracias25 - Made with Clipchamp.mp4\n",
            "\n",
            "Processing video /content/gdrive/MyDrive/VISIONAAAAA/Dataset Proyecto /02 Muchas_gracias/muchas_gracias26 - Made with Clipchamp.mp4...\n",
            "Moviepy - Building video /content/gdrive/MyDrive/VISIONAAAAA/Dataset Proyecto /02 Muchas_gracias/normalized_muchas_gracias26 - Made with Clipchamp.mp4.\n",
            "Moviepy - Writing video /content/gdrive/MyDrive/VISIONAAAAA/Dataset Proyecto /02 Muchas_gracias/normalized_muchas_gracias26 - Made with Clipchamp.mp4\n",
            "\n"
          ]
        },
        {
          "output_type": "stream",
          "name": "stderr",
          "text": []
        },
        {
          "output_type": "stream",
          "name": "stdout",
          "text": [
            "Moviepy - Done !\n",
            "Moviepy - video ready /content/gdrive/MyDrive/VISIONAAAAA/Dataset Proyecto /02 Muchas_gracias/normalized_muchas_gracias26 - Made with Clipchamp.mp4\n",
            "Normalized video saved as /content/gdrive/MyDrive/VISIONAAAAA/Dataset Proyecto /02 Muchas_gracias/normalized_muchas_gracias26 - Made with Clipchamp.mp4\n",
            "\n",
            "Processing video /content/gdrive/MyDrive/VISIONAAAAA/Dataset Proyecto /02 Muchas_gracias/muchas_gracias27 - Made with Clipchamp.mp4...\n",
            "Moviepy - Building video /content/gdrive/MyDrive/VISIONAAAAA/Dataset Proyecto /02 Muchas_gracias/normalized_muchas_gracias27 - Made with Clipchamp.mp4.\n",
            "Moviepy - Writing video /content/gdrive/MyDrive/VISIONAAAAA/Dataset Proyecto /02 Muchas_gracias/normalized_muchas_gracias27 - Made with Clipchamp.mp4\n",
            "\n"
          ]
        },
        {
          "output_type": "stream",
          "name": "stderr",
          "text": []
        },
        {
          "output_type": "stream",
          "name": "stdout",
          "text": [
            "Moviepy - Done !\n",
            "Moviepy - video ready /content/gdrive/MyDrive/VISIONAAAAA/Dataset Proyecto /02 Muchas_gracias/normalized_muchas_gracias27 - Made with Clipchamp.mp4\n",
            "Normalized video saved as /content/gdrive/MyDrive/VISIONAAAAA/Dataset Proyecto /02 Muchas_gracias/normalized_muchas_gracias27 - Made with Clipchamp.mp4\n",
            "\n",
            "Processing video /content/gdrive/MyDrive/VISIONAAAAA/Dataset Proyecto /02 Muchas_gracias/muchas_gracias28 - Made with Clipchamp.mp4...\n",
            "Moviepy - Building video /content/gdrive/MyDrive/VISIONAAAAA/Dataset Proyecto /02 Muchas_gracias/normalized_muchas_gracias28 - Made with Clipchamp.mp4.\n",
            "Moviepy - Writing video /content/gdrive/MyDrive/VISIONAAAAA/Dataset Proyecto /02 Muchas_gracias/normalized_muchas_gracias28 - Made with Clipchamp.mp4\n",
            "\n"
          ]
        },
        {
          "output_type": "stream",
          "name": "stderr",
          "text": []
        },
        {
          "output_type": "stream",
          "name": "stdout",
          "text": [
            "Moviepy - Done !\n",
            "Moviepy - video ready /content/gdrive/MyDrive/VISIONAAAAA/Dataset Proyecto /02 Muchas_gracias/normalized_muchas_gracias28 - Made with Clipchamp.mp4\n",
            "Normalized video saved as /content/gdrive/MyDrive/VISIONAAAAA/Dataset Proyecto /02 Muchas_gracias/normalized_muchas_gracias28 - Made with Clipchamp.mp4\n",
            "\n",
            "Processing video /content/gdrive/MyDrive/VISIONAAAAA/Dataset Proyecto /02 Muchas_gracias/muchas_gracias29 - Made with Clipchamp.mp4...\n",
            "Moviepy - Building video /content/gdrive/MyDrive/VISIONAAAAA/Dataset Proyecto /02 Muchas_gracias/normalized_muchas_gracias29 - Made with Clipchamp.mp4.\n",
            "Moviepy - Writing video /content/gdrive/MyDrive/VISIONAAAAA/Dataset Proyecto /02 Muchas_gracias/normalized_muchas_gracias29 - Made with Clipchamp.mp4\n",
            "\n"
          ]
        },
        {
          "output_type": "stream",
          "name": "stderr",
          "text": []
        },
        {
          "output_type": "stream",
          "name": "stdout",
          "text": [
            "Moviepy - Done !\n",
            "Moviepy - video ready /content/gdrive/MyDrive/VISIONAAAAA/Dataset Proyecto /02 Muchas_gracias/normalized_muchas_gracias29 - Made with Clipchamp.mp4\n",
            "Normalized video saved as /content/gdrive/MyDrive/VISIONAAAAA/Dataset Proyecto /02 Muchas_gracias/normalized_muchas_gracias29 - Made with Clipchamp.mp4\n",
            "\n",
            "Processing video /content/gdrive/MyDrive/VISIONAAAAA/Dataset Proyecto /02 Muchas_gracias/muchas_gracias30 - Made with Clipchamp.mp4...\n",
            "Moviepy - Building video /content/gdrive/MyDrive/VISIONAAAAA/Dataset Proyecto /02 Muchas_gracias/normalized_muchas_gracias30 - Made with Clipchamp.mp4.\n",
            "Moviepy - Writing video /content/gdrive/MyDrive/VISIONAAAAA/Dataset Proyecto /02 Muchas_gracias/normalized_muchas_gracias30 - Made with Clipchamp.mp4\n",
            "\n"
          ]
        },
        {
          "output_type": "stream",
          "name": "stderr",
          "text": []
        },
        {
          "output_type": "stream",
          "name": "stdout",
          "text": [
            "Moviepy - Done !\n",
            "Moviepy - video ready /content/gdrive/MyDrive/VISIONAAAAA/Dataset Proyecto /02 Muchas_gracias/normalized_muchas_gracias30 - Made with Clipchamp.mp4\n",
            "Normalized video saved as /content/gdrive/MyDrive/VISIONAAAAA/Dataset Proyecto /02 Muchas_gracias/normalized_muchas_gracias30 - Made with Clipchamp.mp4\n",
            "\n",
            "Processing video /content/gdrive/MyDrive/VISIONAAAAA/Dataset Proyecto /02 Muchas_gracias/muchas_gracias31 - Made with Clipchamp.mp4...\n",
            "Moviepy - Building video /content/gdrive/MyDrive/VISIONAAAAA/Dataset Proyecto /02 Muchas_gracias/normalized_muchas_gracias31 - Made with Clipchamp.mp4.\n",
            "Moviepy - Writing video /content/gdrive/MyDrive/VISIONAAAAA/Dataset Proyecto /02 Muchas_gracias/normalized_muchas_gracias31 - Made with Clipchamp.mp4\n",
            "\n"
          ]
        },
        {
          "output_type": "stream",
          "name": "stderr",
          "text": []
        },
        {
          "output_type": "stream",
          "name": "stdout",
          "text": [
            "Moviepy - Done !\n",
            "Moviepy - video ready /content/gdrive/MyDrive/VISIONAAAAA/Dataset Proyecto /02 Muchas_gracias/normalized_muchas_gracias31 - Made with Clipchamp.mp4\n",
            "Normalized video saved as /content/gdrive/MyDrive/VISIONAAAAA/Dataset Proyecto /02 Muchas_gracias/normalized_muchas_gracias31 - Made with Clipchamp.mp4\n",
            "\n",
            "Processing video /content/gdrive/MyDrive/VISIONAAAAA/Dataset Proyecto /02 Muchas_gracias/muchas_gracias32 - Made with Clipchamp.mp4...\n",
            "Moviepy - Building video /content/gdrive/MyDrive/VISIONAAAAA/Dataset Proyecto /02 Muchas_gracias/normalized_muchas_gracias32 - Made with Clipchamp.mp4.\n",
            "Moviepy - Writing video /content/gdrive/MyDrive/VISIONAAAAA/Dataset Proyecto /02 Muchas_gracias/normalized_muchas_gracias32 - Made with Clipchamp.mp4\n",
            "\n"
          ]
        },
        {
          "output_type": "stream",
          "name": "stderr",
          "text": []
        },
        {
          "output_type": "stream",
          "name": "stdout",
          "text": [
            "Moviepy - Done !\n",
            "Moviepy - video ready /content/gdrive/MyDrive/VISIONAAAAA/Dataset Proyecto /02 Muchas_gracias/normalized_muchas_gracias32 - Made with Clipchamp.mp4\n",
            "Normalized video saved as /content/gdrive/MyDrive/VISIONAAAAA/Dataset Proyecto /02 Muchas_gracias/normalized_muchas_gracias32 - Made with Clipchamp.mp4\n",
            "\n",
            "Processing video /content/gdrive/MyDrive/VISIONAAAAA/Dataset Proyecto /02 Muchas_gracias/muchas_gracias33 - Made with Clipchamp.mp4...\n",
            "Moviepy - Building video /content/gdrive/MyDrive/VISIONAAAAA/Dataset Proyecto /02 Muchas_gracias/normalized_muchas_gracias33 - Made with Clipchamp.mp4.\n",
            "Moviepy - Writing video /content/gdrive/MyDrive/VISIONAAAAA/Dataset Proyecto /02 Muchas_gracias/normalized_muchas_gracias33 - Made with Clipchamp.mp4\n",
            "\n"
          ]
        },
        {
          "output_type": "stream",
          "name": "stderr",
          "text": []
        },
        {
          "output_type": "stream",
          "name": "stdout",
          "text": [
            "Moviepy - Done !\n",
            "Moviepy - video ready /content/gdrive/MyDrive/VISIONAAAAA/Dataset Proyecto /02 Muchas_gracias/normalized_muchas_gracias33 - Made with Clipchamp.mp4\n",
            "Normalized video saved as /content/gdrive/MyDrive/VISIONAAAAA/Dataset Proyecto /02 Muchas_gracias/normalized_muchas_gracias33 - Made with Clipchamp.mp4\n",
            "\n",
            "Processing video /content/gdrive/MyDrive/VISIONAAAAA/Dataset Proyecto /02 Muchas_gracias/muchas_gracias34 - Made with Clipchamp.mp4...\n",
            "Moviepy - Building video /content/gdrive/MyDrive/VISIONAAAAA/Dataset Proyecto /02 Muchas_gracias/normalized_muchas_gracias34 - Made with Clipchamp.mp4.\n",
            "Moviepy - Writing video /content/gdrive/MyDrive/VISIONAAAAA/Dataset Proyecto /02 Muchas_gracias/normalized_muchas_gracias34 - Made with Clipchamp.mp4\n",
            "\n"
          ]
        },
        {
          "output_type": "stream",
          "name": "stderr",
          "text": []
        },
        {
          "output_type": "stream",
          "name": "stdout",
          "text": [
            "Moviepy - Done !\n",
            "Moviepy - video ready /content/gdrive/MyDrive/VISIONAAAAA/Dataset Proyecto /02 Muchas_gracias/normalized_muchas_gracias34 - Made with Clipchamp.mp4\n",
            "Normalized video saved as /content/gdrive/MyDrive/VISIONAAAAA/Dataset Proyecto /02 Muchas_gracias/normalized_muchas_gracias34 - Made with Clipchamp.mp4\n",
            "\n",
            "Processing video /content/gdrive/MyDrive/VISIONAAAAA/Dataset Proyecto /02 Muchas_gracias/muchas_gracias35 - Made with Clipchamp.mp4...\n",
            "Moviepy - Building video /content/gdrive/MyDrive/VISIONAAAAA/Dataset Proyecto /02 Muchas_gracias/normalized_muchas_gracias35 - Made with Clipchamp.mp4.\n",
            "Moviepy - Writing video /content/gdrive/MyDrive/VISIONAAAAA/Dataset Proyecto /02 Muchas_gracias/normalized_muchas_gracias35 - Made with Clipchamp.mp4\n",
            "\n"
          ]
        },
        {
          "output_type": "stream",
          "name": "stderr",
          "text": []
        },
        {
          "output_type": "stream",
          "name": "stdout",
          "text": [
            "Moviepy - Done !\n",
            "Moviepy - video ready /content/gdrive/MyDrive/VISIONAAAAA/Dataset Proyecto /02 Muchas_gracias/normalized_muchas_gracias35 - Made with Clipchamp.mp4\n",
            "Normalized video saved as /content/gdrive/MyDrive/VISIONAAAAA/Dataset Proyecto /02 Muchas_gracias/normalized_muchas_gracias35 - Made with Clipchamp.mp4\n",
            "\n",
            "Processing video /content/gdrive/MyDrive/VISIONAAAAA/Dataset Proyecto /02 Muchas_gracias/muchas_gracias36 - Made with Clipchamp.mp4...\n",
            "Moviepy - Building video /content/gdrive/MyDrive/VISIONAAAAA/Dataset Proyecto /02 Muchas_gracias/normalized_muchas_gracias36 - Made with Clipchamp.mp4.\n",
            "Moviepy - Writing video /content/gdrive/MyDrive/VISIONAAAAA/Dataset Proyecto /02 Muchas_gracias/normalized_muchas_gracias36 - Made with Clipchamp.mp4\n",
            "\n"
          ]
        },
        {
          "output_type": "stream",
          "name": "stderr",
          "text": []
        },
        {
          "output_type": "stream",
          "name": "stdout",
          "text": [
            "Moviepy - Done !\n",
            "Moviepy - video ready /content/gdrive/MyDrive/VISIONAAAAA/Dataset Proyecto /02 Muchas_gracias/normalized_muchas_gracias36 - Made with Clipchamp.mp4\n",
            "Normalized video saved as /content/gdrive/MyDrive/VISIONAAAAA/Dataset Proyecto /02 Muchas_gracias/normalized_muchas_gracias36 - Made with Clipchamp.mp4\n",
            "\n",
            "Processing video /content/gdrive/MyDrive/VISIONAAAAA/Dataset Proyecto /02 Muchas_gracias/muchas_gracias37 - Made with Clipchamp.mp4...\n",
            "Moviepy - Building video /content/gdrive/MyDrive/VISIONAAAAA/Dataset Proyecto /02 Muchas_gracias/normalized_muchas_gracias37 - Made with Clipchamp.mp4.\n",
            "Moviepy - Writing video /content/gdrive/MyDrive/VISIONAAAAA/Dataset Proyecto /02 Muchas_gracias/normalized_muchas_gracias37 - Made with Clipchamp.mp4\n",
            "\n"
          ]
        },
        {
          "output_type": "stream",
          "name": "stderr",
          "text": []
        },
        {
          "output_type": "stream",
          "name": "stdout",
          "text": [
            "Moviepy - Done !\n",
            "Moviepy - video ready /content/gdrive/MyDrive/VISIONAAAAA/Dataset Proyecto /02 Muchas_gracias/normalized_muchas_gracias37 - Made with Clipchamp.mp4\n",
            "Normalized video saved as /content/gdrive/MyDrive/VISIONAAAAA/Dataset Proyecto /02 Muchas_gracias/normalized_muchas_gracias37 - Made with Clipchamp.mp4\n",
            "\n",
            "Processing video /content/gdrive/MyDrive/VISIONAAAAA/Dataset Proyecto /02 Muchas_gracias/muchas_gracias38 - Made with Clipchamp.mp4...\n",
            "Moviepy - Building video /content/gdrive/MyDrive/VISIONAAAAA/Dataset Proyecto /02 Muchas_gracias/normalized_muchas_gracias38 - Made with Clipchamp.mp4.\n",
            "Moviepy - Writing video /content/gdrive/MyDrive/VISIONAAAAA/Dataset Proyecto /02 Muchas_gracias/normalized_muchas_gracias38 - Made with Clipchamp.mp4\n",
            "\n"
          ]
        },
        {
          "output_type": "stream",
          "name": "stderr",
          "text": []
        },
        {
          "output_type": "stream",
          "name": "stdout",
          "text": [
            "Moviepy - Done !\n",
            "Moviepy - video ready /content/gdrive/MyDrive/VISIONAAAAA/Dataset Proyecto /02 Muchas_gracias/normalized_muchas_gracias38 - Made with Clipchamp.mp4\n",
            "Normalized video saved as /content/gdrive/MyDrive/VISIONAAAAA/Dataset Proyecto /02 Muchas_gracias/normalized_muchas_gracias38 - Made with Clipchamp.mp4\n",
            "\n",
            "Processing video /content/gdrive/MyDrive/VISIONAAAAA/Dataset Proyecto /02 Muchas_gracias/muchas_gracias39 - Made with Clipchamp.mp4...\n",
            "Moviepy - Building video /content/gdrive/MyDrive/VISIONAAAAA/Dataset Proyecto /02 Muchas_gracias/normalized_muchas_gracias39 - Made with Clipchamp.mp4.\n",
            "Moviepy - Writing video /content/gdrive/MyDrive/VISIONAAAAA/Dataset Proyecto /02 Muchas_gracias/normalized_muchas_gracias39 - Made with Clipchamp.mp4\n",
            "\n"
          ]
        },
        {
          "output_type": "stream",
          "name": "stderr",
          "text": []
        },
        {
          "output_type": "stream",
          "name": "stdout",
          "text": [
            "Moviepy - Done !\n",
            "Moviepy - video ready /content/gdrive/MyDrive/VISIONAAAAA/Dataset Proyecto /02 Muchas_gracias/normalized_muchas_gracias39 - Made with Clipchamp.mp4\n",
            "Normalized video saved as /content/gdrive/MyDrive/VISIONAAAAA/Dataset Proyecto /02 Muchas_gracias/normalized_muchas_gracias39 - Made with Clipchamp.mp4\n",
            "\n",
            "Processing video /content/gdrive/MyDrive/VISIONAAAAA/Dataset Proyecto /02 Muchas_gracias/muchas_gracias40 - Made with Clipchamp.mp4...\n",
            "Moviepy - Building video /content/gdrive/MyDrive/VISIONAAAAA/Dataset Proyecto /02 Muchas_gracias/normalized_muchas_gracias40 - Made with Clipchamp.mp4.\n",
            "Moviepy - Writing video /content/gdrive/MyDrive/VISIONAAAAA/Dataset Proyecto /02 Muchas_gracias/normalized_muchas_gracias40 - Made with Clipchamp.mp4\n",
            "\n"
          ]
        },
        {
          "output_type": "stream",
          "name": "stderr",
          "text": []
        },
        {
          "output_type": "stream",
          "name": "stdout",
          "text": [
            "Moviepy - Done !\n",
            "Moviepy - video ready /content/gdrive/MyDrive/VISIONAAAAA/Dataset Proyecto /02 Muchas_gracias/normalized_muchas_gracias40 - Made with Clipchamp.mp4\n",
            "Normalized video saved as /content/gdrive/MyDrive/VISIONAAAAA/Dataset Proyecto /02 Muchas_gracias/normalized_muchas_gracias40 - Made with Clipchamp.mp4\n",
            "\n",
            "Processing video /content/gdrive/MyDrive/VISIONAAAAA/Dataset Proyecto /02 Muchas_gracias/muchas_gracias41 - Made with Clipchamp.mp4...\n",
            "Moviepy - Building video /content/gdrive/MyDrive/VISIONAAAAA/Dataset Proyecto /02 Muchas_gracias/normalized_muchas_gracias41 - Made with Clipchamp.mp4.\n",
            "Moviepy - Writing video /content/gdrive/MyDrive/VISIONAAAAA/Dataset Proyecto /02 Muchas_gracias/normalized_muchas_gracias41 - Made with Clipchamp.mp4\n",
            "\n"
          ]
        },
        {
          "output_type": "stream",
          "name": "stderr",
          "text": []
        },
        {
          "output_type": "stream",
          "name": "stdout",
          "text": [
            "Moviepy - Done !\n",
            "Moviepy - video ready /content/gdrive/MyDrive/VISIONAAAAA/Dataset Proyecto /02 Muchas_gracias/normalized_muchas_gracias41 - Made with Clipchamp.mp4\n",
            "Normalized video saved as /content/gdrive/MyDrive/VISIONAAAAA/Dataset Proyecto /02 Muchas_gracias/normalized_muchas_gracias41 - Made with Clipchamp.mp4\n",
            "\n",
            "Processing video /content/gdrive/MyDrive/VISIONAAAAA/Dataset Proyecto /02 Muchas_gracias/muchas_gracias42 - Made with Clipchamp.mp4...\n",
            "Moviepy - Building video /content/gdrive/MyDrive/VISIONAAAAA/Dataset Proyecto /02 Muchas_gracias/normalized_muchas_gracias42 - Made with Clipchamp.mp4.\n",
            "Moviepy - Writing video /content/gdrive/MyDrive/VISIONAAAAA/Dataset Proyecto /02 Muchas_gracias/normalized_muchas_gracias42 - Made with Clipchamp.mp4\n",
            "\n"
          ]
        },
        {
          "output_type": "stream",
          "name": "stderr",
          "text": []
        },
        {
          "output_type": "stream",
          "name": "stdout",
          "text": [
            "Moviepy - Done !\n",
            "Moviepy - video ready /content/gdrive/MyDrive/VISIONAAAAA/Dataset Proyecto /02 Muchas_gracias/normalized_muchas_gracias42 - Made with Clipchamp.mp4\n",
            "Normalized video saved as /content/gdrive/MyDrive/VISIONAAAAA/Dataset Proyecto /02 Muchas_gracias/normalized_muchas_gracias42 - Made with Clipchamp.mp4\n",
            "\n",
            "Processing video /content/gdrive/MyDrive/VISIONAAAAA/Dataset Proyecto /02 Muchas_gracias/muchas_gracias43 - Made with Clipchamp.mp4...\n",
            "Moviepy - Building video /content/gdrive/MyDrive/VISIONAAAAA/Dataset Proyecto /02 Muchas_gracias/normalized_muchas_gracias43 - Made with Clipchamp.mp4.\n",
            "Moviepy - Writing video /content/gdrive/MyDrive/VISIONAAAAA/Dataset Proyecto /02 Muchas_gracias/normalized_muchas_gracias43 - Made with Clipchamp.mp4\n",
            "\n"
          ]
        },
        {
          "output_type": "stream",
          "name": "stderr",
          "text": []
        },
        {
          "output_type": "stream",
          "name": "stdout",
          "text": [
            "Moviepy - Done !\n",
            "Moviepy - video ready /content/gdrive/MyDrive/VISIONAAAAA/Dataset Proyecto /02 Muchas_gracias/normalized_muchas_gracias43 - Made with Clipchamp.mp4\n",
            "Normalized video saved as /content/gdrive/MyDrive/VISIONAAAAA/Dataset Proyecto /02 Muchas_gracias/normalized_muchas_gracias43 - Made with Clipchamp.mp4\n",
            "\n",
            "Processing video /content/gdrive/MyDrive/VISIONAAAAA/Dataset Proyecto /02 Muchas_gracias/muchas_gracias44 - Made with Clipchamp.mp4...\n",
            "Moviepy - Building video /content/gdrive/MyDrive/VISIONAAAAA/Dataset Proyecto /02 Muchas_gracias/normalized_muchas_gracias44 - Made with Clipchamp.mp4.\n",
            "Moviepy - Writing video /content/gdrive/MyDrive/VISIONAAAAA/Dataset Proyecto /02 Muchas_gracias/normalized_muchas_gracias44 - Made with Clipchamp.mp4\n",
            "\n"
          ]
        },
        {
          "output_type": "stream",
          "name": "stderr",
          "text": []
        },
        {
          "output_type": "stream",
          "name": "stdout",
          "text": [
            "Moviepy - Done !\n",
            "Moviepy - video ready /content/gdrive/MyDrive/VISIONAAAAA/Dataset Proyecto /02 Muchas_gracias/normalized_muchas_gracias44 - Made with Clipchamp.mp4\n",
            "Normalized video saved as /content/gdrive/MyDrive/VISIONAAAAA/Dataset Proyecto /02 Muchas_gracias/normalized_muchas_gracias44 - Made with Clipchamp.mp4\n",
            "\n",
            "Processing video /content/gdrive/MyDrive/VISIONAAAAA/Dataset Proyecto /02 Muchas_gracias/muchas_gracias45 - Made with Clipchamp.mp4...\n",
            "Moviepy - Building video /content/gdrive/MyDrive/VISIONAAAAA/Dataset Proyecto /02 Muchas_gracias/normalized_muchas_gracias45 - Made with Clipchamp.mp4.\n",
            "Moviepy - Writing video /content/gdrive/MyDrive/VISIONAAAAA/Dataset Proyecto /02 Muchas_gracias/normalized_muchas_gracias45 - Made with Clipchamp.mp4\n",
            "\n"
          ]
        },
        {
          "output_type": "stream",
          "name": "stderr",
          "text": []
        },
        {
          "output_type": "stream",
          "name": "stdout",
          "text": [
            "Moviepy - Done !\n",
            "Moviepy - video ready /content/gdrive/MyDrive/VISIONAAAAA/Dataset Proyecto /02 Muchas_gracias/normalized_muchas_gracias45 - Made with Clipchamp.mp4\n",
            "Normalized video saved as /content/gdrive/MyDrive/VISIONAAAAA/Dataset Proyecto /02 Muchas_gracias/normalized_muchas_gracias45 - Made with Clipchamp.mp4\n",
            "\n",
            "Processing video /content/gdrive/MyDrive/VISIONAAAAA/Dataset Proyecto /02 Muchas_gracias/muchas_gracias46 - Made with Clipchamp.mp4...\n",
            "Moviepy - Building video /content/gdrive/MyDrive/VISIONAAAAA/Dataset Proyecto /02 Muchas_gracias/normalized_muchas_gracias46 - Made with Clipchamp.mp4.\n",
            "Moviepy - Writing video /content/gdrive/MyDrive/VISIONAAAAA/Dataset Proyecto /02 Muchas_gracias/normalized_muchas_gracias46 - Made with Clipchamp.mp4\n",
            "\n"
          ]
        },
        {
          "output_type": "stream",
          "name": "stderr",
          "text": []
        },
        {
          "output_type": "stream",
          "name": "stdout",
          "text": [
            "Moviepy - Done !\n",
            "Moviepy - video ready /content/gdrive/MyDrive/VISIONAAAAA/Dataset Proyecto /02 Muchas_gracias/normalized_muchas_gracias46 - Made with Clipchamp.mp4\n",
            "Normalized video saved as /content/gdrive/MyDrive/VISIONAAAAA/Dataset Proyecto /02 Muchas_gracias/normalized_muchas_gracias46 - Made with Clipchamp.mp4\n",
            "\n",
            "Processing video /content/gdrive/MyDrive/VISIONAAAAA/Dataset Proyecto /02 Muchas_gracias/muchas_gracias47 - Made with Clipchamp.mp4...\n",
            "Moviepy - Building video /content/gdrive/MyDrive/VISIONAAAAA/Dataset Proyecto /02 Muchas_gracias/normalized_muchas_gracias47 - Made with Clipchamp.mp4.\n",
            "Moviepy - Writing video /content/gdrive/MyDrive/VISIONAAAAA/Dataset Proyecto /02 Muchas_gracias/normalized_muchas_gracias47 - Made with Clipchamp.mp4\n",
            "\n"
          ]
        },
        {
          "output_type": "stream",
          "name": "stderr",
          "text": []
        },
        {
          "output_type": "stream",
          "name": "stdout",
          "text": [
            "Moviepy - Done !\n",
            "Moviepy - video ready /content/gdrive/MyDrive/VISIONAAAAA/Dataset Proyecto /02 Muchas_gracias/normalized_muchas_gracias47 - Made with Clipchamp.mp4\n",
            "Normalized video saved as /content/gdrive/MyDrive/VISIONAAAAA/Dataset Proyecto /02 Muchas_gracias/normalized_muchas_gracias47 - Made with Clipchamp.mp4\n",
            "\n",
            "Processing video /content/gdrive/MyDrive/VISIONAAAAA/Dataset Proyecto /02 Muchas_gracias/muchas_gracias48 - Made with Clipchamp.mp4...\n",
            "Moviepy - Building video /content/gdrive/MyDrive/VISIONAAAAA/Dataset Proyecto /02 Muchas_gracias/normalized_muchas_gracias48 - Made with Clipchamp.mp4.\n",
            "Moviepy - Writing video /content/gdrive/MyDrive/VISIONAAAAA/Dataset Proyecto /02 Muchas_gracias/normalized_muchas_gracias48 - Made with Clipchamp.mp4\n",
            "\n"
          ]
        },
        {
          "output_type": "stream",
          "name": "stderr",
          "text": []
        },
        {
          "output_type": "stream",
          "name": "stdout",
          "text": [
            "Moviepy - Done !\n",
            "Moviepy - video ready /content/gdrive/MyDrive/VISIONAAAAA/Dataset Proyecto /02 Muchas_gracias/normalized_muchas_gracias48 - Made with Clipchamp.mp4\n",
            "Normalized video saved as /content/gdrive/MyDrive/VISIONAAAAA/Dataset Proyecto /02 Muchas_gracias/normalized_muchas_gracias48 - Made with Clipchamp.mp4\n",
            "\n",
            "Processing video /content/gdrive/MyDrive/VISIONAAAAA/Dataset Proyecto /02 Muchas_gracias/muchas_gracias49 - Made with Clipchamp.mp4...\n",
            "Moviepy - Building video /content/gdrive/MyDrive/VISIONAAAAA/Dataset Proyecto /02 Muchas_gracias/normalized_muchas_gracias49 - Made with Clipchamp.mp4.\n",
            "Moviepy - Writing video /content/gdrive/MyDrive/VISIONAAAAA/Dataset Proyecto /02 Muchas_gracias/normalized_muchas_gracias49 - Made with Clipchamp.mp4\n",
            "\n"
          ]
        },
        {
          "output_type": "stream",
          "name": "stderr",
          "text": []
        },
        {
          "output_type": "stream",
          "name": "stdout",
          "text": [
            "Moviepy - Done !\n",
            "Moviepy - video ready /content/gdrive/MyDrive/VISIONAAAAA/Dataset Proyecto /02 Muchas_gracias/normalized_muchas_gracias49 - Made with Clipchamp.mp4\n",
            "Normalized video saved as /content/gdrive/MyDrive/VISIONAAAAA/Dataset Proyecto /02 Muchas_gracias/normalized_muchas_gracias49 - Made with Clipchamp.mp4\n",
            "\n",
            "Processing video /content/gdrive/MyDrive/VISIONAAAAA/Dataset Proyecto /02 Muchas_gracias/muchas_gracias50 - Made with Clipchamp.mp4...\n",
            "Moviepy - Building video /content/gdrive/MyDrive/VISIONAAAAA/Dataset Proyecto /02 Muchas_gracias/normalized_muchas_gracias50 - Made with Clipchamp.mp4.\n",
            "Moviepy - Writing video /content/gdrive/MyDrive/VISIONAAAAA/Dataset Proyecto /02 Muchas_gracias/normalized_muchas_gracias50 - Made with Clipchamp.mp4\n",
            "\n"
          ]
        },
        {
          "output_type": "stream",
          "name": "stderr",
          "text": []
        },
        {
          "output_type": "stream",
          "name": "stdout",
          "text": [
            "Moviepy - Done !\n",
            "Moviepy - video ready /content/gdrive/MyDrive/VISIONAAAAA/Dataset Proyecto /02 Muchas_gracias/normalized_muchas_gracias50 - Made with Clipchamp.mp4\n",
            "Normalized video saved as /content/gdrive/MyDrive/VISIONAAAAA/Dataset Proyecto /02 Muchas_gracias/normalized_muchas_gracias50 - Made with Clipchamp.mp4\n",
            "\n",
            "Processing video /content/gdrive/MyDrive/VISIONAAAAA/Dataset Proyecto /02 Muchas_gracias/muchas_gracias51 - Made with Clipchamp.mp4...\n",
            "Moviepy - Building video /content/gdrive/MyDrive/VISIONAAAAA/Dataset Proyecto /02 Muchas_gracias/normalized_muchas_gracias51 - Made with Clipchamp.mp4.\n",
            "Moviepy - Writing video /content/gdrive/MyDrive/VISIONAAAAA/Dataset Proyecto /02 Muchas_gracias/normalized_muchas_gracias51 - Made with Clipchamp.mp4\n",
            "\n"
          ]
        },
        {
          "output_type": "stream",
          "name": "stderr",
          "text": []
        },
        {
          "output_type": "stream",
          "name": "stdout",
          "text": [
            "Moviepy - Done !\n",
            "Moviepy - video ready /content/gdrive/MyDrive/VISIONAAAAA/Dataset Proyecto /02 Muchas_gracias/normalized_muchas_gracias51 - Made with Clipchamp.mp4\n",
            "Normalized video saved as /content/gdrive/MyDrive/VISIONAAAAA/Dataset Proyecto /02 Muchas_gracias/normalized_muchas_gracias51 - Made with Clipchamp.mp4\n",
            "\n",
            "Processing video /content/gdrive/MyDrive/VISIONAAAAA/Dataset Proyecto /02 Muchas_gracias/muchas_gracias52 - Made with Clipchamp.mp4...\n",
            "Moviepy - Building video /content/gdrive/MyDrive/VISIONAAAAA/Dataset Proyecto /02 Muchas_gracias/normalized_muchas_gracias52 - Made with Clipchamp.mp4.\n",
            "Moviepy - Writing video /content/gdrive/MyDrive/VISIONAAAAA/Dataset Proyecto /02 Muchas_gracias/normalized_muchas_gracias52 - Made with Clipchamp.mp4\n",
            "\n"
          ]
        },
        {
          "output_type": "stream",
          "name": "stderr",
          "text": []
        },
        {
          "output_type": "stream",
          "name": "stdout",
          "text": [
            "Moviepy - Done !\n",
            "Moviepy - video ready /content/gdrive/MyDrive/VISIONAAAAA/Dataset Proyecto /02 Muchas_gracias/normalized_muchas_gracias52 - Made with Clipchamp.mp4\n",
            "Normalized video saved as /content/gdrive/MyDrive/VISIONAAAAA/Dataset Proyecto /02 Muchas_gracias/normalized_muchas_gracias52 - Made with Clipchamp.mp4\n",
            "\n",
            "Processing video /content/gdrive/MyDrive/VISIONAAAAA/Dataset Proyecto /02 Muchas_gracias/muchas_gracias53 - Made with Clipchamp.mp4...\n",
            "Moviepy - Building video /content/gdrive/MyDrive/VISIONAAAAA/Dataset Proyecto /02 Muchas_gracias/normalized_muchas_gracias53 - Made with Clipchamp.mp4.\n",
            "Moviepy - Writing video /content/gdrive/MyDrive/VISIONAAAAA/Dataset Proyecto /02 Muchas_gracias/normalized_muchas_gracias53 - Made with Clipchamp.mp4\n",
            "\n"
          ]
        },
        {
          "output_type": "stream",
          "name": "stderr",
          "text": []
        },
        {
          "output_type": "stream",
          "name": "stdout",
          "text": [
            "Moviepy - Done !\n",
            "Moviepy - video ready /content/gdrive/MyDrive/VISIONAAAAA/Dataset Proyecto /02 Muchas_gracias/normalized_muchas_gracias53 - Made with Clipchamp.mp4\n",
            "Normalized video saved as /content/gdrive/MyDrive/VISIONAAAAA/Dataset Proyecto /02 Muchas_gracias/normalized_muchas_gracias53 - Made with Clipchamp.mp4\n",
            "\n",
            "Processing video /content/gdrive/MyDrive/VISIONAAAAA/Dataset Proyecto /02 Muchas_gracias/muchas_gracias54 - Made with Clipchamp.mp4...\n",
            "Moviepy - Building video /content/gdrive/MyDrive/VISIONAAAAA/Dataset Proyecto /02 Muchas_gracias/normalized_muchas_gracias54 - Made with Clipchamp.mp4.\n",
            "Moviepy - Writing video /content/gdrive/MyDrive/VISIONAAAAA/Dataset Proyecto /02 Muchas_gracias/normalized_muchas_gracias54 - Made with Clipchamp.mp4\n",
            "\n"
          ]
        },
        {
          "output_type": "stream",
          "name": "stderr",
          "text": []
        },
        {
          "output_type": "stream",
          "name": "stdout",
          "text": [
            "Moviepy - Done !\n",
            "Moviepy - video ready /content/gdrive/MyDrive/VISIONAAAAA/Dataset Proyecto /02 Muchas_gracias/normalized_muchas_gracias54 - Made with Clipchamp.mp4\n",
            "Normalized video saved as /content/gdrive/MyDrive/VISIONAAAAA/Dataset Proyecto /02 Muchas_gracias/normalized_muchas_gracias54 - Made with Clipchamp.mp4\n",
            "\n",
            "Processing video /content/gdrive/MyDrive/VISIONAAAAA/Dataset Proyecto /02 Muchas_gracias/muchas_gracias55 - Made with Clipchamp.mp4...\n",
            "Moviepy - Building video /content/gdrive/MyDrive/VISIONAAAAA/Dataset Proyecto /02 Muchas_gracias/normalized_muchas_gracias55 - Made with Clipchamp.mp4.\n",
            "Moviepy - Writing video /content/gdrive/MyDrive/VISIONAAAAA/Dataset Proyecto /02 Muchas_gracias/normalized_muchas_gracias55 - Made with Clipchamp.mp4\n",
            "\n"
          ]
        },
        {
          "output_type": "stream",
          "name": "stderr",
          "text": []
        },
        {
          "output_type": "stream",
          "name": "stdout",
          "text": [
            "Moviepy - Done !\n",
            "Moviepy - video ready /content/gdrive/MyDrive/VISIONAAAAA/Dataset Proyecto /02 Muchas_gracias/normalized_muchas_gracias55 - Made with Clipchamp.mp4\n",
            "Normalized video saved as /content/gdrive/MyDrive/VISIONAAAAA/Dataset Proyecto /02 Muchas_gracias/normalized_muchas_gracias55 - Made with Clipchamp.mp4\n",
            "\n",
            "Processing video /content/gdrive/MyDrive/VISIONAAAAA/Dataset Proyecto /02 Muchas_gracias/muchas_gracias56 - Made with Clipchamp.mp4...\n",
            "Moviepy - Building video /content/gdrive/MyDrive/VISIONAAAAA/Dataset Proyecto /02 Muchas_gracias/normalized_muchas_gracias56 - Made with Clipchamp.mp4.\n",
            "Moviepy - Writing video /content/gdrive/MyDrive/VISIONAAAAA/Dataset Proyecto /02 Muchas_gracias/normalized_muchas_gracias56 - Made with Clipchamp.mp4\n",
            "\n"
          ]
        },
        {
          "output_type": "stream",
          "name": "stderr",
          "text": []
        },
        {
          "output_type": "stream",
          "name": "stdout",
          "text": [
            "Moviepy - Done !\n",
            "Moviepy - video ready /content/gdrive/MyDrive/VISIONAAAAA/Dataset Proyecto /02 Muchas_gracias/normalized_muchas_gracias56 - Made with Clipchamp.mp4\n",
            "Normalized video saved as /content/gdrive/MyDrive/VISIONAAAAA/Dataset Proyecto /02 Muchas_gracias/normalized_muchas_gracias56 - Made with Clipchamp.mp4\n",
            "\n",
            "Processing video /content/gdrive/MyDrive/VISIONAAAAA/Dataset Proyecto /02 Muchas_gracias/muchas_gracias57 - Made with Clipchamp.mp4...\n",
            "Moviepy - Building video /content/gdrive/MyDrive/VISIONAAAAA/Dataset Proyecto /02 Muchas_gracias/normalized_muchas_gracias57 - Made with Clipchamp.mp4.\n",
            "Moviepy - Writing video /content/gdrive/MyDrive/VISIONAAAAA/Dataset Proyecto /02 Muchas_gracias/normalized_muchas_gracias57 - Made with Clipchamp.mp4\n",
            "\n"
          ]
        },
        {
          "output_type": "stream",
          "name": "stderr",
          "text": []
        },
        {
          "output_type": "stream",
          "name": "stdout",
          "text": [
            "Moviepy - Done !\n",
            "Moviepy - video ready /content/gdrive/MyDrive/VISIONAAAAA/Dataset Proyecto /02 Muchas_gracias/normalized_muchas_gracias57 - Made with Clipchamp.mp4\n",
            "Normalized video saved as /content/gdrive/MyDrive/VISIONAAAAA/Dataset Proyecto /02 Muchas_gracias/normalized_muchas_gracias57 - Made with Clipchamp.mp4\n",
            "\n",
            "Processing video /content/gdrive/MyDrive/VISIONAAAAA/Dataset Proyecto /02 Muchas_gracias/muchas_gracias58 - Made with Clipchamp.mp4...\n",
            "Moviepy - Building video /content/gdrive/MyDrive/VISIONAAAAA/Dataset Proyecto /02 Muchas_gracias/normalized_muchas_gracias58 - Made with Clipchamp.mp4.\n",
            "Moviepy - Writing video /content/gdrive/MyDrive/VISIONAAAAA/Dataset Proyecto /02 Muchas_gracias/normalized_muchas_gracias58 - Made with Clipchamp.mp4\n",
            "\n"
          ]
        },
        {
          "output_type": "stream",
          "name": "stderr",
          "text": []
        },
        {
          "output_type": "stream",
          "name": "stdout",
          "text": [
            "Moviepy - Done !\n",
            "Moviepy - video ready /content/gdrive/MyDrive/VISIONAAAAA/Dataset Proyecto /02 Muchas_gracias/normalized_muchas_gracias58 - Made with Clipchamp.mp4\n",
            "Normalized video saved as /content/gdrive/MyDrive/VISIONAAAAA/Dataset Proyecto /02 Muchas_gracias/normalized_muchas_gracias58 - Made with Clipchamp.mp4\n",
            "\n",
            "Processing video /content/gdrive/MyDrive/VISIONAAAAA/Dataset Proyecto /02 Muchas_gracias/muchas_gracias59 - Made with Clipchamp.mp4...\n",
            "Moviepy - Building video /content/gdrive/MyDrive/VISIONAAAAA/Dataset Proyecto /02 Muchas_gracias/normalized_muchas_gracias59 - Made with Clipchamp.mp4.\n",
            "Moviepy - Writing video /content/gdrive/MyDrive/VISIONAAAAA/Dataset Proyecto /02 Muchas_gracias/normalized_muchas_gracias59 - Made with Clipchamp.mp4\n",
            "\n"
          ]
        },
        {
          "output_type": "stream",
          "name": "stderr",
          "text": []
        },
        {
          "output_type": "stream",
          "name": "stdout",
          "text": [
            "Moviepy - Done !\n",
            "Moviepy - video ready /content/gdrive/MyDrive/VISIONAAAAA/Dataset Proyecto /02 Muchas_gracias/normalized_muchas_gracias59 - Made with Clipchamp.mp4\n",
            "Normalized video saved as /content/gdrive/MyDrive/VISIONAAAAA/Dataset Proyecto /02 Muchas_gracias/normalized_muchas_gracias59 - Made with Clipchamp.mp4\n",
            "\n",
            "Processing video /content/gdrive/MyDrive/VISIONAAAAA/Dataset Proyecto /02 Muchas_gracias/muchas_gracias60 - Made with Clipchamp.mp4...\n",
            "Moviepy - Building video /content/gdrive/MyDrive/VISIONAAAAA/Dataset Proyecto /02 Muchas_gracias/normalized_muchas_gracias60 - Made with Clipchamp.mp4.\n",
            "Moviepy - Writing video /content/gdrive/MyDrive/VISIONAAAAA/Dataset Proyecto /02 Muchas_gracias/normalized_muchas_gracias60 - Made with Clipchamp.mp4\n",
            "\n"
          ]
        },
        {
          "output_type": "stream",
          "name": "stderr",
          "text": []
        },
        {
          "output_type": "stream",
          "name": "stdout",
          "text": [
            "Moviepy - Done !\n",
            "Moviepy - video ready /content/gdrive/MyDrive/VISIONAAAAA/Dataset Proyecto /02 Muchas_gracias/normalized_muchas_gracias60 - Made with Clipchamp.mp4\n",
            "Normalized video saved as /content/gdrive/MyDrive/VISIONAAAAA/Dataset Proyecto /02 Muchas_gracias/normalized_muchas_gracias60 - Made with Clipchamp.mp4\n",
            "\n",
            "Processing video /content/gdrive/MyDrive/VISIONAAAAA/Dataset Proyecto /02 Muchas_gracias/muchas_gracias61 - Made with Clipchamp.mp4...\n",
            "Moviepy - Building video /content/gdrive/MyDrive/VISIONAAAAA/Dataset Proyecto /02 Muchas_gracias/normalized_muchas_gracias61 - Made with Clipchamp.mp4.\n",
            "Moviepy - Writing video /content/gdrive/MyDrive/VISIONAAAAA/Dataset Proyecto /02 Muchas_gracias/normalized_muchas_gracias61 - Made with Clipchamp.mp4\n",
            "\n"
          ]
        },
        {
          "output_type": "stream",
          "name": "stderr",
          "text": []
        },
        {
          "output_type": "stream",
          "name": "stdout",
          "text": [
            "Moviepy - Done !\n",
            "Moviepy - video ready /content/gdrive/MyDrive/VISIONAAAAA/Dataset Proyecto /02 Muchas_gracias/normalized_muchas_gracias61 - Made with Clipchamp.mp4\n",
            "Normalized video saved as /content/gdrive/MyDrive/VISIONAAAAA/Dataset Proyecto /02 Muchas_gracias/normalized_muchas_gracias61 - Made with Clipchamp.mp4\n",
            "\n",
            "Processing video /content/gdrive/MyDrive/VISIONAAAAA/Dataset Proyecto /02 Muchas_gracias/muchas_gracias62 - Made with Clipchamp.mp4...\n",
            "Moviepy - Building video /content/gdrive/MyDrive/VISIONAAAAA/Dataset Proyecto /02 Muchas_gracias/normalized_muchas_gracias62 - Made with Clipchamp.mp4.\n",
            "Moviepy - Writing video /content/gdrive/MyDrive/VISIONAAAAA/Dataset Proyecto /02 Muchas_gracias/normalized_muchas_gracias62 - Made with Clipchamp.mp4\n",
            "\n"
          ]
        },
        {
          "output_type": "stream",
          "name": "stderr",
          "text": []
        },
        {
          "output_type": "stream",
          "name": "stdout",
          "text": [
            "Moviepy - Done !\n",
            "Moviepy - video ready /content/gdrive/MyDrive/VISIONAAAAA/Dataset Proyecto /02 Muchas_gracias/normalized_muchas_gracias62 - Made with Clipchamp.mp4\n",
            "Normalized video saved as /content/gdrive/MyDrive/VISIONAAAAA/Dataset Proyecto /02 Muchas_gracias/normalized_muchas_gracias62 - Made with Clipchamp.mp4\n",
            "\n",
            "Processing video /content/gdrive/MyDrive/VISIONAAAAA/Dataset Proyecto /02 Muchas_gracias/muchas_gracias63 - Made with Clipchamp.mp4...\n",
            "Moviepy - Building video /content/gdrive/MyDrive/VISIONAAAAA/Dataset Proyecto /02 Muchas_gracias/normalized_muchas_gracias63 - Made with Clipchamp.mp4.\n",
            "Moviepy - Writing video /content/gdrive/MyDrive/VISIONAAAAA/Dataset Proyecto /02 Muchas_gracias/normalized_muchas_gracias63 - Made with Clipchamp.mp4\n",
            "\n"
          ]
        },
        {
          "output_type": "stream",
          "name": "stderr",
          "text": []
        },
        {
          "output_type": "stream",
          "name": "stdout",
          "text": [
            "Moviepy - Done !\n",
            "Moviepy - video ready /content/gdrive/MyDrive/VISIONAAAAA/Dataset Proyecto /02 Muchas_gracias/normalized_muchas_gracias63 - Made with Clipchamp.mp4\n",
            "Normalized video saved as /content/gdrive/MyDrive/VISIONAAAAA/Dataset Proyecto /02 Muchas_gracias/normalized_muchas_gracias63 - Made with Clipchamp.mp4\n",
            "\n",
            "Processing video /content/gdrive/MyDrive/VISIONAAAAA/Dataset Proyecto /02 Muchas_gracias/muchas_gracias64 - Made with Clipchamp.mp4...\n",
            "Moviepy - Building video /content/gdrive/MyDrive/VISIONAAAAA/Dataset Proyecto /02 Muchas_gracias/normalized_muchas_gracias64 - Made with Clipchamp.mp4.\n",
            "Moviepy - Writing video /content/gdrive/MyDrive/VISIONAAAAA/Dataset Proyecto /02 Muchas_gracias/normalized_muchas_gracias64 - Made with Clipchamp.mp4\n",
            "\n"
          ]
        },
        {
          "output_type": "stream",
          "name": "stderr",
          "text": []
        },
        {
          "output_type": "stream",
          "name": "stdout",
          "text": [
            "Moviepy - Done !\n",
            "Moviepy - video ready /content/gdrive/MyDrive/VISIONAAAAA/Dataset Proyecto /02 Muchas_gracias/normalized_muchas_gracias64 - Made with Clipchamp.mp4\n",
            "Normalized video saved as /content/gdrive/MyDrive/VISIONAAAAA/Dataset Proyecto /02 Muchas_gracias/normalized_muchas_gracias64 - Made with Clipchamp.mp4\n",
            "\n",
            "Processing video /content/gdrive/MyDrive/VISIONAAAAA/Dataset Proyecto /02 Muchas_gracias/muchas_gracias65 - Made with Clipchamp.mp4...\n",
            "Moviepy - Building video /content/gdrive/MyDrive/VISIONAAAAA/Dataset Proyecto /02 Muchas_gracias/normalized_muchas_gracias65 - Made with Clipchamp.mp4.\n",
            "Moviepy - Writing video /content/gdrive/MyDrive/VISIONAAAAA/Dataset Proyecto /02 Muchas_gracias/normalized_muchas_gracias65 - Made with Clipchamp.mp4\n",
            "\n"
          ]
        },
        {
          "output_type": "stream",
          "name": "stderr",
          "text": []
        },
        {
          "output_type": "stream",
          "name": "stdout",
          "text": [
            "Moviepy - Done !\n",
            "Moviepy - video ready /content/gdrive/MyDrive/VISIONAAAAA/Dataset Proyecto /02 Muchas_gracias/normalized_muchas_gracias65 - Made with Clipchamp.mp4\n",
            "Normalized video saved as /content/gdrive/MyDrive/VISIONAAAAA/Dataset Proyecto /02 Muchas_gracias/normalized_muchas_gracias65 - Made with Clipchamp.mp4\n",
            "\n",
            "Processing video /content/gdrive/MyDrive/VISIONAAAAA/Dataset Proyecto /02 Muchas_gracias/muchas_gracias66 - Made with Clipchamp.mp4...\n",
            "Moviepy - Building video /content/gdrive/MyDrive/VISIONAAAAA/Dataset Proyecto /02 Muchas_gracias/normalized_muchas_gracias66 - Made with Clipchamp.mp4.\n",
            "Moviepy - Writing video /content/gdrive/MyDrive/VISIONAAAAA/Dataset Proyecto /02 Muchas_gracias/normalized_muchas_gracias66 - Made with Clipchamp.mp4\n",
            "\n"
          ]
        },
        {
          "output_type": "stream",
          "name": "stderr",
          "text": []
        },
        {
          "output_type": "stream",
          "name": "stdout",
          "text": [
            "Moviepy - Done !\n",
            "Moviepy - video ready /content/gdrive/MyDrive/VISIONAAAAA/Dataset Proyecto /02 Muchas_gracias/normalized_muchas_gracias66 - Made with Clipchamp.mp4\n",
            "Normalized video saved as /content/gdrive/MyDrive/VISIONAAAAA/Dataset Proyecto /02 Muchas_gracias/normalized_muchas_gracias66 - Made with Clipchamp.mp4\n",
            "\n",
            "Processing video /content/gdrive/MyDrive/VISIONAAAAA/Dataset Proyecto /02 Muchas_gracias/muchas_gracias67 - Made with Clipchamp.mp4...\n",
            "Moviepy - Building video /content/gdrive/MyDrive/VISIONAAAAA/Dataset Proyecto /02 Muchas_gracias/normalized_muchas_gracias67 - Made with Clipchamp.mp4.\n",
            "Moviepy - Writing video /content/gdrive/MyDrive/VISIONAAAAA/Dataset Proyecto /02 Muchas_gracias/normalized_muchas_gracias67 - Made with Clipchamp.mp4\n",
            "\n"
          ]
        },
        {
          "output_type": "stream",
          "name": "stderr",
          "text": []
        },
        {
          "output_type": "stream",
          "name": "stdout",
          "text": [
            "Moviepy - Done !\n",
            "Moviepy - video ready /content/gdrive/MyDrive/VISIONAAAAA/Dataset Proyecto /02 Muchas_gracias/normalized_muchas_gracias67 - Made with Clipchamp.mp4\n",
            "Normalized video saved as /content/gdrive/MyDrive/VISIONAAAAA/Dataset Proyecto /02 Muchas_gracias/normalized_muchas_gracias67 - Made with Clipchamp.mp4\n",
            "\n",
            "Processing video /content/gdrive/MyDrive/VISIONAAAAA/Dataset Proyecto /02 Muchas_gracias/muchas_gracias68 - Made with Clipchamp.mp4...\n",
            "Moviepy - Building video /content/gdrive/MyDrive/VISIONAAAAA/Dataset Proyecto /02 Muchas_gracias/normalized_muchas_gracias68 - Made with Clipchamp.mp4.\n",
            "Moviepy - Writing video /content/gdrive/MyDrive/VISIONAAAAA/Dataset Proyecto /02 Muchas_gracias/normalized_muchas_gracias68 - Made with Clipchamp.mp4\n",
            "\n"
          ]
        },
        {
          "output_type": "stream",
          "name": "stderr",
          "text": []
        },
        {
          "output_type": "stream",
          "name": "stdout",
          "text": [
            "Moviepy - Done !\n",
            "Moviepy - video ready /content/gdrive/MyDrive/VISIONAAAAA/Dataset Proyecto /02 Muchas_gracias/normalized_muchas_gracias68 - Made with Clipchamp.mp4\n",
            "Normalized video saved as /content/gdrive/MyDrive/VISIONAAAAA/Dataset Proyecto /02 Muchas_gracias/normalized_muchas_gracias68 - Made with Clipchamp.mp4\n",
            "\n",
            "Processing video /content/gdrive/MyDrive/VISIONAAAAA/Dataset Proyecto /02 Muchas_gracias/muchas_gracias69 - Made with Clipchamp.mp4...\n",
            "Moviepy - Building video /content/gdrive/MyDrive/VISIONAAAAA/Dataset Proyecto /02 Muchas_gracias/normalized_muchas_gracias69 - Made with Clipchamp.mp4.\n",
            "Moviepy - Writing video /content/gdrive/MyDrive/VISIONAAAAA/Dataset Proyecto /02 Muchas_gracias/normalized_muchas_gracias69 - Made with Clipchamp.mp4\n",
            "\n"
          ]
        },
        {
          "output_type": "stream",
          "name": "stderr",
          "text": []
        },
        {
          "output_type": "stream",
          "name": "stdout",
          "text": [
            "Moviepy - Done !\n",
            "Moviepy - video ready /content/gdrive/MyDrive/VISIONAAAAA/Dataset Proyecto /02 Muchas_gracias/normalized_muchas_gracias69 - Made with Clipchamp.mp4\n",
            "Normalized video saved as /content/gdrive/MyDrive/VISIONAAAAA/Dataset Proyecto /02 Muchas_gracias/normalized_muchas_gracias69 - Made with Clipchamp.mp4\n",
            "\n",
            "Processing video /content/gdrive/MyDrive/VISIONAAAAA/Dataset Proyecto /02 Muchas_gracias/muchas_gracias70 - Made with Clipchamp.mp4...\n",
            "Moviepy - Building video /content/gdrive/MyDrive/VISIONAAAAA/Dataset Proyecto /02 Muchas_gracias/normalized_muchas_gracias70 - Made with Clipchamp.mp4.\n",
            "Moviepy - Writing video /content/gdrive/MyDrive/VISIONAAAAA/Dataset Proyecto /02 Muchas_gracias/normalized_muchas_gracias70 - Made with Clipchamp.mp4\n",
            "\n"
          ]
        },
        {
          "output_type": "stream",
          "name": "stderr",
          "text": []
        },
        {
          "output_type": "stream",
          "name": "stdout",
          "text": [
            "Moviepy - Done !\n",
            "Moviepy - video ready /content/gdrive/MyDrive/VISIONAAAAA/Dataset Proyecto /02 Muchas_gracias/normalized_muchas_gracias70 - Made with Clipchamp.mp4\n",
            "Normalized video saved as /content/gdrive/MyDrive/VISIONAAAAA/Dataset Proyecto /02 Muchas_gracias/normalized_muchas_gracias70 - Made with Clipchamp.mp4\n",
            "\n",
            "Processing video /content/gdrive/MyDrive/VISIONAAAAA/Dataset Proyecto /02 Muchas_gracias/muchas_gracias71 - Made with Clipchamp.mp4...\n",
            "Moviepy - Building video /content/gdrive/MyDrive/VISIONAAAAA/Dataset Proyecto /02 Muchas_gracias/normalized_muchas_gracias71 - Made with Clipchamp.mp4.\n",
            "Moviepy - Writing video /content/gdrive/MyDrive/VISIONAAAAA/Dataset Proyecto /02 Muchas_gracias/normalized_muchas_gracias71 - Made with Clipchamp.mp4\n",
            "\n"
          ]
        },
        {
          "output_type": "stream",
          "name": "stderr",
          "text": []
        },
        {
          "output_type": "stream",
          "name": "stdout",
          "text": [
            "Moviepy - Done !\n",
            "Moviepy - video ready /content/gdrive/MyDrive/VISIONAAAAA/Dataset Proyecto /02 Muchas_gracias/normalized_muchas_gracias71 - Made with Clipchamp.mp4\n",
            "Normalized video saved as /content/gdrive/MyDrive/VISIONAAAAA/Dataset Proyecto /02 Muchas_gracias/normalized_muchas_gracias71 - Made with Clipchamp.mp4\n",
            "\n",
            "Processing video /content/gdrive/MyDrive/VISIONAAAAA/Dataset Proyecto /02 Muchas_gracias/muchas_gracias72 - Made with Clipchamp.mp4...\n",
            "Moviepy - Building video /content/gdrive/MyDrive/VISIONAAAAA/Dataset Proyecto /02 Muchas_gracias/normalized_muchas_gracias72 - Made with Clipchamp.mp4.\n",
            "Moviepy - Writing video /content/gdrive/MyDrive/VISIONAAAAA/Dataset Proyecto /02 Muchas_gracias/normalized_muchas_gracias72 - Made with Clipchamp.mp4\n",
            "\n"
          ]
        },
        {
          "output_type": "stream",
          "name": "stderr",
          "text": []
        },
        {
          "output_type": "stream",
          "name": "stdout",
          "text": [
            "Moviepy - Done !\n",
            "Moviepy - video ready /content/gdrive/MyDrive/VISIONAAAAA/Dataset Proyecto /02 Muchas_gracias/normalized_muchas_gracias72 - Made with Clipchamp.mp4\n",
            "Normalized video saved as /content/gdrive/MyDrive/VISIONAAAAA/Dataset Proyecto /02 Muchas_gracias/normalized_muchas_gracias72 - Made with Clipchamp.mp4\n",
            "\n",
            "Processing video /content/gdrive/MyDrive/VISIONAAAAA/Dataset Proyecto /02 Muchas_gracias/muchas_gracias73 - Made with Clipchamp.mp4...\n",
            "Moviepy - Building video /content/gdrive/MyDrive/VISIONAAAAA/Dataset Proyecto /02 Muchas_gracias/normalized_muchas_gracias73 - Made with Clipchamp.mp4.\n",
            "Moviepy - Writing video /content/gdrive/MyDrive/VISIONAAAAA/Dataset Proyecto /02 Muchas_gracias/normalized_muchas_gracias73 - Made with Clipchamp.mp4\n",
            "\n"
          ]
        },
        {
          "output_type": "stream",
          "name": "stderr",
          "text": []
        },
        {
          "output_type": "stream",
          "name": "stdout",
          "text": [
            "Moviepy - Done !\n",
            "Moviepy - video ready /content/gdrive/MyDrive/VISIONAAAAA/Dataset Proyecto /02 Muchas_gracias/normalized_muchas_gracias73 - Made with Clipchamp.mp4\n",
            "Normalized video saved as /content/gdrive/MyDrive/VISIONAAAAA/Dataset Proyecto /02 Muchas_gracias/normalized_muchas_gracias73 - Made with Clipchamp.mp4\n",
            "\n",
            "Processing video /content/gdrive/MyDrive/VISIONAAAAA/Dataset Proyecto /02 Muchas_gracias/muchas_gracias74 - Made with Clipchamp.mp4...\n",
            "Moviepy - Building video /content/gdrive/MyDrive/VISIONAAAAA/Dataset Proyecto /02 Muchas_gracias/normalized_muchas_gracias74 - Made with Clipchamp.mp4.\n",
            "Moviepy - Writing video /content/gdrive/MyDrive/VISIONAAAAA/Dataset Proyecto /02 Muchas_gracias/normalized_muchas_gracias74 - Made with Clipchamp.mp4\n",
            "\n"
          ]
        },
        {
          "output_type": "stream",
          "name": "stderr",
          "text": []
        },
        {
          "output_type": "stream",
          "name": "stdout",
          "text": [
            "Moviepy - Done !\n",
            "Moviepy - video ready /content/gdrive/MyDrive/VISIONAAAAA/Dataset Proyecto /02 Muchas_gracias/normalized_muchas_gracias74 - Made with Clipchamp.mp4\n",
            "Normalized video saved as /content/gdrive/MyDrive/VISIONAAAAA/Dataset Proyecto /02 Muchas_gracias/normalized_muchas_gracias74 - Made with Clipchamp.mp4\n",
            "\n",
            "Processing video /content/gdrive/MyDrive/VISIONAAAAA/Dataset Proyecto /02 Muchas_gracias/muchas_gracias75 - Made with Clipchamp.mp4...\n",
            "Moviepy - Building video /content/gdrive/MyDrive/VISIONAAAAA/Dataset Proyecto /02 Muchas_gracias/normalized_muchas_gracias75 - Made with Clipchamp.mp4.\n",
            "Moviepy - Writing video /content/gdrive/MyDrive/VISIONAAAAA/Dataset Proyecto /02 Muchas_gracias/normalized_muchas_gracias75 - Made with Clipchamp.mp4\n",
            "\n"
          ]
        },
        {
          "output_type": "stream",
          "name": "stderr",
          "text": []
        },
        {
          "output_type": "stream",
          "name": "stdout",
          "text": [
            "Moviepy - Done !\n",
            "Moviepy - video ready /content/gdrive/MyDrive/VISIONAAAAA/Dataset Proyecto /02 Muchas_gracias/normalized_muchas_gracias75 - Made with Clipchamp.mp4\n",
            "Normalized video saved as /content/gdrive/MyDrive/VISIONAAAAA/Dataset Proyecto /02 Muchas_gracias/normalized_muchas_gracias75 - Made with Clipchamp.mp4\n",
            "\n",
            "Processing video /content/gdrive/MyDrive/VISIONAAAAA/Dataset Proyecto /02 Muchas_gracias/muchas_gracias76 - Made with Clipchamp.mp4...\n",
            "Moviepy - Building video /content/gdrive/MyDrive/VISIONAAAAA/Dataset Proyecto /02 Muchas_gracias/normalized_muchas_gracias76 - Made with Clipchamp.mp4.\n",
            "Moviepy - Writing video /content/gdrive/MyDrive/VISIONAAAAA/Dataset Proyecto /02 Muchas_gracias/normalized_muchas_gracias76 - Made with Clipchamp.mp4\n",
            "\n"
          ]
        },
        {
          "output_type": "stream",
          "name": "stderr",
          "text": []
        },
        {
          "output_type": "stream",
          "name": "stdout",
          "text": [
            "Moviepy - Done !\n",
            "Moviepy - video ready /content/gdrive/MyDrive/VISIONAAAAA/Dataset Proyecto /02 Muchas_gracias/normalized_muchas_gracias76 - Made with Clipchamp.mp4\n",
            "Normalized video saved as /content/gdrive/MyDrive/VISIONAAAAA/Dataset Proyecto /02 Muchas_gracias/normalized_muchas_gracias76 - Made with Clipchamp.mp4\n",
            "\n",
            "Processing video /content/gdrive/MyDrive/VISIONAAAAA/Dataset Proyecto /02 Muchas_gracias/muchas_gracias77 - Made with Clipchamp.mp4...\n",
            "Moviepy - Building video /content/gdrive/MyDrive/VISIONAAAAA/Dataset Proyecto /02 Muchas_gracias/normalized_muchas_gracias77 - Made with Clipchamp.mp4.\n",
            "Moviepy - Writing video /content/gdrive/MyDrive/VISIONAAAAA/Dataset Proyecto /02 Muchas_gracias/normalized_muchas_gracias77 - Made with Clipchamp.mp4\n",
            "\n"
          ]
        },
        {
          "output_type": "stream",
          "name": "stderr",
          "text": []
        },
        {
          "output_type": "stream",
          "name": "stdout",
          "text": [
            "Moviepy - Done !\n",
            "Moviepy - video ready /content/gdrive/MyDrive/VISIONAAAAA/Dataset Proyecto /02 Muchas_gracias/normalized_muchas_gracias77 - Made with Clipchamp.mp4\n",
            "Normalized video saved as /content/gdrive/MyDrive/VISIONAAAAA/Dataset Proyecto /02 Muchas_gracias/normalized_muchas_gracias77 - Made with Clipchamp.mp4\n",
            "\n",
            "Processing video /content/gdrive/MyDrive/VISIONAAAAA/Dataset Proyecto /02 Muchas_gracias/muchas_gracias78 - Made with Clipchamp.mp4...\n",
            "Moviepy - Building video /content/gdrive/MyDrive/VISIONAAAAA/Dataset Proyecto /02 Muchas_gracias/normalized_muchas_gracias78 - Made with Clipchamp.mp4.\n",
            "Moviepy - Writing video /content/gdrive/MyDrive/VISIONAAAAA/Dataset Proyecto /02 Muchas_gracias/normalized_muchas_gracias78 - Made with Clipchamp.mp4\n",
            "\n"
          ]
        },
        {
          "output_type": "stream",
          "name": "stderr",
          "text": []
        },
        {
          "output_type": "stream",
          "name": "stdout",
          "text": [
            "Moviepy - Done !\n",
            "Moviepy - video ready /content/gdrive/MyDrive/VISIONAAAAA/Dataset Proyecto /02 Muchas_gracias/normalized_muchas_gracias78 - Made with Clipchamp.mp4\n",
            "Normalized video saved as /content/gdrive/MyDrive/VISIONAAAAA/Dataset Proyecto /02 Muchas_gracias/normalized_muchas_gracias78 - Made with Clipchamp.mp4\n",
            "\n",
            "Processing video /content/gdrive/MyDrive/VISIONAAAAA/Dataset Proyecto /02 Muchas_gracias/muchas_gracias79 - Made with Clipchamp.mp4...\n",
            "Moviepy - Building video /content/gdrive/MyDrive/VISIONAAAAA/Dataset Proyecto /02 Muchas_gracias/normalized_muchas_gracias79 - Made with Clipchamp.mp4.\n",
            "Moviepy - Writing video /content/gdrive/MyDrive/VISIONAAAAA/Dataset Proyecto /02 Muchas_gracias/normalized_muchas_gracias79 - Made with Clipchamp.mp4\n",
            "\n"
          ]
        },
        {
          "output_type": "stream",
          "name": "stderr",
          "text": []
        },
        {
          "output_type": "stream",
          "name": "stdout",
          "text": [
            "Moviepy - Done !\n",
            "Moviepy - video ready /content/gdrive/MyDrive/VISIONAAAAA/Dataset Proyecto /02 Muchas_gracias/normalized_muchas_gracias79 - Made with Clipchamp.mp4\n",
            "Normalized video saved as /content/gdrive/MyDrive/VISIONAAAAA/Dataset Proyecto /02 Muchas_gracias/normalized_muchas_gracias79 - Made with Clipchamp.mp4\n",
            "\n",
            "Processing video /content/gdrive/MyDrive/VISIONAAAAA/Dataset Proyecto /02 Muchas_gracias/muchas_gracias80 - Made with Clipchamp.mp4...\n",
            "Moviepy - Building video /content/gdrive/MyDrive/VISIONAAAAA/Dataset Proyecto /02 Muchas_gracias/normalized_muchas_gracias80 - Made with Clipchamp.mp4.\n",
            "Moviepy - Writing video /content/gdrive/MyDrive/VISIONAAAAA/Dataset Proyecto /02 Muchas_gracias/normalized_muchas_gracias80 - Made with Clipchamp.mp4\n",
            "\n"
          ]
        },
        {
          "output_type": "stream",
          "name": "stderr",
          "text": []
        },
        {
          "output_type": "stream",
          "name": "stdout",
          "text": [
            "Moviepy - Done !\n",
            "Moviepy - video ready /content/gdrive/MyDrive/VISIONAAAAA/Dataset Proyecto /02 Muchas_gracias/normalized_muchas_gracias80 - Made with Clipchamp.mp4\n",
            "Normalized video saved as /content/gdrive/MyDrive/VISIONAAAAA/Dataset Proyecto /02 Muchas_gracias/normalized_muchas_gracias80 - Made with Clipchamp.mp4\n",
            "\n",
            "Processing video /content/gdrive/MyDrive/VISIONAAAAA/Dataset Proyecto /02 Muchas_gracias/muchas_gracias81 - Made with Clipchamp.mp4...\n",
            "Moviepy - Building video /content/gdrive/MyDrive/VISIONAAAAA/Dataset Proyecto /02 Muchas_gracias/normalized_muchas_gracias81 - Made with Clipchamp.mp4.\n",
            "Moviepy - Writing video /content/gdrive/MyDrive/VISIONAAAAA/Dataset Proyecto /02 Muchas_gracias/normalized_muchas_gracias81 - Made with Clipchamp.mp4\n",
            "\n"
          ]
        },
        {
          "output_type": "stream",
          "name": "stderr",
          "text": []
        },
        {
          "output_type": "stream",
          "name": "stdout",
          "text": [
            "Moviepy - Done !\n",
            "Moviepy - video ready /content/gdrive/MyDrive/VISIONAAAAA/Dataset Proyecto /02 Muchas_gracias/normalized_muchas_gracias81 - Made with Clipchamp.mp4\n",
            "Normalized video saved as /content/gdrive/MyDrive/VISIONAAAAA/Dataset Proyecto /02 Muchas_gracias/normalized_muchas_gracias81 - Made with Clipchamp.mp4\n",
            "\n",
            "Processing video /content/gdrive/MyDrive/VISIONAAAAA/Dataset Proyecto /02 Muchas_gracias/muchas_gracias82 - Made with Clipchamp.mp4...\n",
            "Moviepy - Building video /content/gdrive/MyDrive/VISIONAAAAA/Dataset Proyecto /02 Muchas_gracias/normalized_muchas_gracias82 - Made with Clipchamp.mp4.\n",
            "Moviepy - Writing video /content/gdrive/MyDrive/VISIONAAAAA/Dataset Proyecto /02 Muchas_gracias/normalized_muchas_gracias82 - Made with Clipchamp.mp4\n",
            "\n"
          ]
        },
        {
          "output_type": "stream",
          "name": "stderr",
          "text": []
        },
        {
          "output_type": "stream",
          "name": "stdout",
          "text": [
            "Moviepy - Done !\n",
            "Moviepy - video ready /content/gdrive/MyDrive/VISIONAAAAA/Dataset Proyecto /02 Muchas_gracias/normalized_muchas_gracias82 - Made with Clipchamp.mp4\n",
            "Normalized video saved as /content/gdrive/MyDrive/VISIONAAAAA/Dataset Proyecto /02 Muchas_gracias/normalized_muchas_gracias82 - Made with Clipchamp.mp4\n",
            "\n",
            "Processing video /content/gdrive/MyDrive/VISIONAAAAA/Dataset Proyecto /02 Muchas_gracias/muchas_gracias83 - Made with Clipchamp.mp4...\n",
            "Moviepy - Building video /content/gdrive/MyDrive/VISIONAAAAA/Dataset Proyecto /02 Muchas_gracias/normalized_muchas_gracias83 - Made with Clipchamp.mp4.\n",
            "Moviepy - Writing video /content/gdrive/MyDrive/VISIONAAAAA/Dataset Proyecto /02 Muchas_gracias/normalized_muchas_gracias83 - Made with Clipchamp.mp4\n",
            "\n"
          ]
        },
        {
          "output_type": "stream",
          "name": "stderr",
          "text": []
        },
        {
          "output_type": "stream",
          "name": "stdout",
          "text": [
            "Moviepy - Done !\n",
            "Moviepy - video ready /content/gdrive/MyDrive/VISIONAAAAA/Dataset Proyecto /02 Muchas_gracias/normalized_muchas_gracias83 - Made with Clipchamp.mp4\n",
            "Normalized video saved as /content/gdrive/MyDrive/VISIONAAAAA/Dataset Proyecto /02 Muchas_gracias/normalized_muchas_gracias83 - Made with Clipchamp.mp4\n",
            "\n",
            "Processing video /content/gdrive/MyDrive/VISIONAAAAA/Dataset Proyecto /02 Muchas_gracias/muchas_gracias84 - Made with Clipchamp.mp4...\n",
            "Moviepy - Building video /content/gdrive/MyDrive/VISIONAAAAA/Dataset Proyecto /02 Muchas_gracias/normalized_muchas_gracias84 - Made with Clipchamp.mp4.\n",
            "Moviepy - Writing video /content/gdrive/MyDrive/VISIONAAAAA/Dataset Proyecto /02 Muchas_gracias/normalized_muchas_gracias84 - Made with Clipchamp.mp4\n",
            "\n"
          ]
        },
        {
          "output_type": "stream",
          "name": "stderr",
          "text": []
        },
        {
          "output_type": "stream",
          "name": "stdout",
          "text": [
            "Moviepy - Done !\n",
            "Moviepy - video ready /content/gdrive/MyDrive/VISIONAAAAA/Dataset Proyecto /02 Muchas_gracias/normalized_muchas_gracias84 - Made with Clipchamp.mp4\n",
            "Normalized video saved as /content/gdrive/MyDrive/VISIONAAAAA/Dataset Proyecto /02 Muchas_gracias/normalized_muchas_gracias84 - Made with Clipchamp.mp4\n",
            "\n",
            "Processing video /content/gdrive/MyDrive/VISIONAAAAA/Dataset Proyecto /02 Muchas_gracias/muchas_gracias85 - Made with Clipchamp.mp4...\n",
            "Moviepy - Building video /content/gdrive/MyDrive/VISIONAAAAA/Dataset Proyecto /02 Muchas_gracias/normalized_muchas_gracias85 - Made with Clipchamp.mp4.\n",
            "Moviepy - Writing video /content/gdrive/MyDrive/VISIONAAAAA/Dataset Proyecto /02 Muchas_gracias/normalized_muchas_gracias85 - Made with Clipchamp.mp4\n",
            "\n"
          ]
        },
        {
          "output_type": "stream",
          "name": "stderr",
          "text": []
        },
        {
          "output_type": "stream",
          "name": "stdout",
          "text": [
            "Moviepy - Done !\n",
            "Moviepy - video ready /content/gdrive/MyDrive/VISIONAAAAA/Dataset Proyecto /02 Muchas_gracias/normalized_muchas_gracias85 - Made with Clipchamp.mp4\n",
            "Normalized video saved as /content/gdrive/MyDrive/VISIONAAAAA/Dataset Proyecto /02 Muchas_gracias/normalized_muchas_gracias85 - Made with Clipchamp.mp4\n",
            "\n",
            "Processing video /content/gdrive/MyDrive/VISIONAAAAA/Dataset Proyecto /02 Muchas_gracias/muchas_gracias86 - Made with Clipchamp.mp4...\n",
            "Moviepy - Building video /content/gdrive/MyDrive/VISIONAAAAA/Dataset Proyecto /02 Muchas_gracias/normalized_muchas_gracias86 - Made with Clipchamp.mp4.\n",
            "Moviepy - Writing video /content/gdrive/MyDrive/VISIONAAAAA/Dataset Proyecto /02 Muchas_gracias/normalized_muchas_gracias86 - Made with Clipchamp.mp4\n",
            "\n"
          ]
        },
        {
          "output_type": "stream",
          "name": "stderr",
          "text": []
        },
        {
          "output_type": "stream",
          "name": "stdout",
          "text": [
            "Moviepy - Done !\n",
            "Moviepy - video ready /content/gdrive/MyDrive/VISIONAAAAA/Dataset Proyecto /02 Muchas_gracias/normalized_muchas_gracias86 - Made with Clipchamp.mp4\n",
            "Normalized video saved as /content/gdrive/MyDrive/VISIONAAAAA/Dataset Proyecto /02 Muchas_gracias/normalized_muchas_gracias86 - Made with Clipchamp.mp4\n",
            "\n",
            "Processing video /content/gdrive/MyDrive/VISIONAAAAA/Dataset Proyecto /02 Muchas_gracias/muchas_gracias87 - Made with Clipchamp.mp4...\n",
            "Moviepy - Building video /content/gdrive/MyDrive/VISIONAAAAA/Dataset Proyecto /02 Muchas_gracias/normalized_muchas_gracias87 - Made with Clipchamp.mp4.\n",
            "Moviepy - Writing video /content/gdrive/MyDrive/VISIONAAAAA/Dataset Proyecto /02 Muchas_gracias/normalized_muchas_gracias87 - Made with Clipchamp.mp4\n",
            "\n"
          ]
        },
        {
          "output_type": "stream",
          "name": "stderr",
          "text": []
        },
        {
          "output_type": "stream",
          "name": "stdout",
          "text": [
            "Moviepy - Done !\n",
            "Moviepy - video ready /content/gdrive/MyDrive/VISIONAAAAA/Dataset Proyecto /02 Muchas_gracias/normalized_muchas_gracias87 - Made with Clipchamp.mp4\n",
            "Normalized video saved as /content/gdrive/MyDrive/VISIONAAAAA/Dataset Proyecto /02 Muchas_gracias/normalized_muchas_gracias87 - Made with Clipchamp.mp4\n",
            "\n",
            "Processing video /content/gdrive/MyDrive/VISIONAAAAA/Dataset Proyecto /02 Muchas_gracias/muchas_gracias88 - Made with Clipchamp.mp4...\n",
            "Moviepy - Building video /content/gdrive/MyDrive/VISIONAAAAA/Dataset Proyecto /02 Muchas_gracias/normalized_muchas_gracias88 - Made with Clipchamp.mp4.\n",
            "Moviepy - Writing video /content/gdrive/MyDrive/VISIONAAAAA/Dataset Proyecto /02 Muchas_gracias/normalized_muchas_gracias88 - Made with Clipchamp.mp4\n",
            "\n"
          ]
        },
        {
          "output_type": "stream",
          "name": "stderr",
          "text": []
        },
        {
          "output_type": "stream",
          "name": "stdout",
          "text": [
            "Moviepy - Done !\n",
            "Moviepy - video ready /content/gdrive/MyDrive/VISIONAAAAA/Dataset Proyecto /02 Muchas_gracias/normalized_muchas_gracias88 - Made with Clipchamp.mp4\n",
            "Normalized video saved as /content/gdrive/MyDrive/VISIONAAAAA/Dataset Proyecto /02 Muchas_gracias/normalized_muchas_gracias88 - Made with Clipchamp.mp4\n",
            "\n",
            "Processing video /content/gdrive/MyDrive/VISIONAAAAA/Dataset Proyecto /02 Muchas_gracias/muchas_gracias89 - Made with Clipchamp.mp4...\n",
            "Moviepy - Building video /content/gdrive/MyDrive/VISIONAAAAA/Dataset Proyecto /02 Muchas_gracias/normalized_muchas_gracias89 - Made with Clipchamp.mp4.\n",
            "Moviepy - Writing video /content/gdrive/MyDrive/VISIONAAAAA/Dataset Proyecto /02 Muchas_gracias/normalized_muchas_gracias89 - Made with Clipchamp.mp4\n",
            "\n"
          ]
        },
        {
          "output_type": "stream",
          "name": "stderr",
          "text": []
        },
        {
          "output_type": "stream",
          "name": "stdout",
          "text": [
            "Moviepy - Done !\n",
            "Moviepy - video ready /content/gdrive/MyDrive/VISIONAAAAA/Dataset Proyecto /02 Muchas_gracias/normalized_muchas_gracias89 - Made with Clipchamp.mp4\n",
            "Normalized video saved as /content/gdrive/MyDrive/VISIONAAAAA/Dataset Proyecto /02 Muchas_gracias/normalized_muchas_gracias89 - Made with Clipchamp.mp4\n",
            "\n",
            "Processing video /content/gdrive/MyDrive/VISIONAAAAA/Dataset Proyecto /02 Muchas_gracias/muchas_gracias90 - Made with Clipchamp.mp4...\n",
            "Moviepy - Building video /content/gdrive/MyDrive/VISIONAAAAA/Dataset Proyecto /02 Muchas_gracias/normalized_muchas_gracias90 - Made with Clipchamp.mp4.\n",
            "Moviepy - Writing video /content/gdrive/MyDrive/VISIONAAAAA/Dataset Proyecto /02 Muchas_gracias/normalized_muchas_gracias90 - Made with Clipchamp.mp4\n",
            "\n"
          ]
        },
        {
          "output_type": "stream",
          "name": "stderr",
          "text": []
        },
        {
          "output_type": "stream",
          "name": "stdout",
          "text": [
            "Moviepy - Done !\n",
            "Moviepy - video ready /content/gdrive/MyDrive/VISIONAAAAA/Dataset Proyecto /02 Muchas_gracias/normalized_muchas_gracias90 - Made with Clipchamp.mp4\n",
            "Normalized video saved as /content/gdrive/MyDrive/VISIONAAAAA/Dataset Proyecto /02 Muchas_gracias/normalized_muchas_gracias90 - Made with Clipchamp.mp4\n",
            "\n",
            "Processing video /content/gdrive/MyDrive/VISIONAAAAA/Dataset Proyecto /02 Muchas_gracias/muchas_gracias91 - Made with Clipchamp.mp4...\n",
            "Moviepy - Building video /content/gdrive/MyDrive/VISIONAAAAA/Dataset Proyecto /02 Muchas_gracias/normalized_muchas_gracias91 - Made with Clipchamp.mp4.\n",
            "Moviepy - Writing video /content/gdrive/MyDrive/VISIONAAAAA/Dataset Proyecto /02 Muchas_gracias/normalized_muchas_gracias91 - Made with Clipchamp.mp4\n",
            "\n"
          ]
        },
        {
          "output_type": "stream",
          "name": "stderr",
          "text": []
        },
        {
          "output_type": "stream",
          "name": "stdout",
          "text": [
            "Moviepy - Done !\n",
            "Moviepy - video ready /content/gdrive/MyDrive/VISIONAAAAA/Dataset Proyecto /02 Muchas_gracias/normalized_muchas_gracias91 - Made with Clipchamp.mp4\n",
            "Normalized video saved as /content/gdrive/MyDrive/VISIONAAAAA/Dataset Proyecto /02 Muchas_gracias/normalized_muchas_gracias91 - Made with Clipchamp.mp4\n",
            "\n",
            "Processing video /content/gdrive/MyDrive/VISIONAAAAA/Dataset Proyecto /02 Muchas_gracias/muchas_gracias92 - Made with Clipchamp.mp4...\n",
            "Moviepy - Building video /content/gdrive/MyDrive/VISIONAAAAA/Dataset Proyecto /02 Muchas_gracias/normalized_muchas_gracias92 - Made with Clipchamp.mp4.\n",
            "Moviepy - Writing video /content/gdrive/MyDrive/VISIONAAAAA/Dataset Proyecto /02 Muchas_gracias/normalized_muchas_gracias92 - Made with Clipchamp.mp4\n",
            "\n"
          ]
        },
        {
          "output_type": "stream",
          "name": "stderr",
          "text": []
        },
        {
          "output_type": "stream",
          "name": "stdout",
          "text": [
            "Moviepy - Done !\n",
            "Moviepy - video ready /content/gdrive/MyDrive/VISIONAAAAA/Dataset Proyecto /02 Muchas_gracias/normalized_muchas_gracias92 - Made with Clipchamp.mp4\n",
            "Normalized video saved as /content/gdrive/MyDrive/VISIONAAAAA/Dataset Proyecto /02 Muchas_gracias/normalized_muchas_gracias92 - Made with Clipchamp.mp4\n",
            "\n",
            "Processing video /content/gdrive/MyDrive/VISIONAAAAA/Dataset Proyecto /02 Muchas_gracias/muchas_gracias93 - Made with Clipchamp.mp4...\n",
            "Moviepy - Building video /content/gdrive/MyDrive/VISIONAAAAA/Dataset Proyecto /02 Muchas_gracias/normalized_muchas_gracias93 - Made with Clipchamp.mp4.\n",
            "Moviepy - Writing video /content/gdrive/MyDrive/VISIONAAAAA/Dataset Proyecto /02 Muchas_gracias/normalized_muchas_gracias93 - Made with Clipchamp.mp4\n",
            "\n"
          ]
        },
        {
          "output_type": "stream",
          "name": "stderr",
          "text": []
        },
        {
          "output_type": "stream",
          "name": "stdout",
          "text": [
            "Moviepy - Done !\n",
            "Moviepy - video ready /content/gdrive/MyDrive/VISIONAAAAA/Dataset Proyecto /02 Muchas_gracias/normalized_muchas_gracias93 - Made with Clipchamp.mp4\n",
            "Normalized video saved as /content/gdrive/MyDrive/VISIONAAAAA/Dataset Proyecto /02 Muchas_gracias/normalized_muchas_gracias93 - Made with Clipchamp.mp4\n",
            "\n",
            "Processing video /content/gdrive/MyDrive/VISIONAAAAA/Dataset Proyecto /02 Muchas_gracias/muchas_gracias94 - Made with Clipchamp.mp4...\n",
            "Moviepy - Building video /content/gdrive/MyDrive/VISIONAAAAA/Dataset Proyecto /02 Muchas_gracias/normalized_muchas_gracias94 - Made with Clipchamp.mp4.\n",
            "Moviepy - Writing video /content/gdrive/MyDrive/VISIONAAAAA/Dataset Proyecto /02 Muchas_gracias/normalized_muchas_gracias94 - Made with Clipchamp.mp4\n",
            "\n"
          ]
        },
        {
          "output_type": "stream",
          "name": "stderr",
          "text": []
        },
        {
          "output_type": "stream",
          "name": "stdout",
          "text": [
            "Moviepy - Done !\n",
            "Moviepy - video ready /content/gdrive/MyDrive/VISIONAAAAA/Dataset Proyecto /02 Muchas_gracias/normalized_muchas_gracias94 - Made with Clipchamp.mp4\n",
            "Normalized video saved as /content/gdrive/MyDrive/VISIONAAAAA/Dataset Proyecto /02 Muchas_gracias/normalized_muchas_gracias94 - Made with Clipchamp.mp4\n",
            "\n",
            "Processing video /content/gdrive/MyDrive/VISIONAAAAA/Dataset Proyecto /02 Muchas_gracias/muchas_gracias95 - Made with Clipchamp.mp4...\n",
            "Moviepy - Building video /content/gdrive/MyDrive/VISIONAAAAA/Dataset Proyecto /02 Muchas_gracias/normalized_muchas_gracias95 - Made with Clipchamp.mp4.\n",
            "Moviepy - Writing video /content/gdrive/MyDrive/VISIONAAAAA/Dataset Proyecto /02 Muchas_gracias/normalized_muchas_gracias95 - Made with Clipchamp.mp4\n",
            "\n"
          ]
        },
        {
          "output_type": "stream",
          "name": "stderr",
          "text": []
        },
        {
          "output_type": "stream",
          "name": "stdout",
          "text": [
            "Moviepy - Done !\n",
            "Moviepy - video ready /content/gdrive/MyDrive/VISIONAAAAA/Dataset Proyecto /02 Muchas_gracias/normalized_muchas_gracias95 - Made with Clipchamp.mp4\n",
            "Normalized video saved as /content/gdrive/MyDrive/VISIONAAAAA/Dataset Proyecto /02 Muchas_gracias/normalized_muchas_gracias95 - Made with Clipchamp.mp4\n",
            "\n",
            "Processing video /content/gdrive/MyDrive/VISIONAAAAA/Dataset Proyecto /02 Muchas_gracias/muchas_gracias96 - Made with Clipchamp.mp4...\n",
            "Moviepy - Building video /content/gdrive/MyDrive/VISIONAAAAA/Dataset Proyecto /02 Muchas_gracias/normalized_muchas_gracias96 - Made with Clipchamp.mp4.\n",
            "Moviepy - Writing video /content/gdrive/MyDrive/VISIONAAAAA/Dataset Proyecto /02 Muchas_gracias/normalized_muchas_gracias96 - Made with Clipchamp.mp4\n",
            "\n"
          ]
        },
        {
          "output_type": "stream",
          "name": "stderr",
          "text": []
        },
        {
          "output_type": "stream",
          "name": "stdout",
          "text": [
            "Moviepy - Done !\n",
            "Moviepy - video ready /content/gdrive/MyDrive/VISIONAAAAA/Dataset Proyecto /02 Muchas_gracias/normalized_muchas_gracias96 - Made with Clipchamp.mp4\n",
            "Normalized video saved as /content/gdrive/MyDrive/VISIONAAAAA/Dataset Proyecto /02 Muchas_gracias/normalized_muchas_gracias96 - Made with Clipchamp.mp4\n",
            "\n",
            "Processing video /content/gdrive/MyDrive/VISIONAAAAA/Dataset Proyecto /02 Muchas_gracias/muchas_gracias97 - Made with Clipchamp.mp4...\n",
            "Moviepy - Building video /content/gdrive/MyDrive/VISIONAAAAA/Dataset Proyecto /02 Muchas_gracias/normalized_muchas_gracias97 - Made with Clipchamp.mp4.\n",
            "Moviepy - Writing video /content/gdrive/MyDrive/VISIONAAAAA/Dataset Proyecto /02 Muchas_gracias/normalized_muchas_gracias97 - Made with Clipchamp.mp4\n",
            "\n"
          ]
        },
        {
          "output_type": "stream",
          "name": "stderr",
          "text": []
        },
        {
          "output_type": "stream",
          "name": "stdout",
          "text": [
            "Moviepy - Done !\n",
            "Moviepy - video ready /content/gdrive/MyDrive/VISIONAAAAA/Dataset Proyecto /02 Muchas_gracias/normalized_muchas_gracias97 - Made with Clipchamp.mp4\n",
            "Normalized video saved as /content/gdrive/MyDrive/VISIONAAAAA/Dataset Proyecto /02 Muchas_gracias/normalized_muchas_gracias97 - Made with Clipchamp.mp4\n",
            "\n",
            "Processing video /content/gdrive/MyDrive/VISIONAAAAA/Dataset Proyecto /02 Muchas_gracias/muchas_gracias98 - Made with Clipchamp.mp4...\n",
            "Moviepy - Building video /content/gdrive/MyDrive/VISIONAAAAA/Dataset Proyecto /02 Muchas_gracias/normalized_muchas_gracias98 - Made with Clipchamp.mp4.\n",
            "Moviepy - Writing video /content/gdrive/MyDrive/VISIONAAAAA/Dataset Proyecto /02 Muchas_gracias/normalized_muchas_gracias98 - Made with Clipchamp.mp4\n",
            "\n"
          ]
        },
        {
          "output_type": "stream",
          "name": "stderr",
          "text": []
        },
        {
          "output_type": "stream",
          "name": "stdout",
          "text": [
            "Moviepy - Done !\n",
            "Moviepy - video ready /content/gdrive/MyDrive/VISIONAAAAA/Dataset Proyecto /02 Muchas_gracias/normalized_muchas_gracias98 - Made with Clipchamp.mp4\n",
            "Normalized video saved as /content/gdrive/MyDrive/VISIONAAAAA/Dataset Proyecto /02 Muchas_gracias/normalized_muchas_gracias98 - Made with Clipchamp.mp4\n",
            "\n",
            "Processing video /content/gdrive/MyDrive/VISIONAAAAA/Dataset Proyecto /02 Muchas_gracias/muchas_gracias99 - Made with Clipchamp.mp4...\n",
            "Moviepy - Building video /content/gdrive/MyDrive/VISIONAAAAA/Dataset Proyecto /02 Muchas_gracias/normalized_muchas_gracias99 - Made with Clipchamp.mp4.\n",
            "Moviepy - Writing video /content/gdrive/MyDrive/VISIONAAAAA/Dataset Proyecto /02 Muchas_gracias/normalized_muchas_gracias99 - Made with Clipchamp.mp4\n",
            "\n"
          ]
        },
        {
          "output_type": "stream",
          "name": "stderr",
          "text": []
        },
        {
          "output_type": "stream",
          "name": "stdout",
          "text": [
            "Moviepy - Done !\n",
            "Moviepy - video ready /content/gdrive/MyDrive/VISIONAAAAA/Dataset Proyecto /02 Muchas_gracias/normalized_muchas_gracias99 - Made with Clipchamp.mp4\n",
            "Normalized video saved as /content/gdrive/MyDrive/VISIONAAAAA/Dataset Proyecto /02 Muchas_gracias/normalized_muchas_gracias99 - Made with Clipchamp.mp4\n",
            "\n",
            "Processing video /content/gdrive/MyDrive/VISIONAAAAA/Dataset Proyecto /02 Muchas_gracias/muchas_gracias100 - Made with Clipchamp.mp4...\n",
            "Moviepy - Building video /content/gdrive/MyDrive/VISIONAAAAA/Dataset Proyecto /02 Muchas_gracias/normalized_muchas_gracias100 - Made with Clipchamp.mp4.\n",
            "Moviepy - Writing video /content/gdrive/MyDrive/VISIONAAAAA/Dataset Proyecto /02 Muchas_gracias/normalized_muchas_gracias100 - Made with Clipchamp.mp4\n",
            "\n"
          ]
        },
        {
          "output_type": "stream",
          "name": "stderr",
          "text": []
        },
        {
          "output_type": "stream",
          "name": "stdout",
          "text": [
            "Moviepy - Done !\n",
            "Moviepy - video ready /content/gdrive/MyDrive/VISIONAAAAA/Dataset Proyecto /02 Muchas_gracias/normalized_muchas_gracias100 - Made with Clipchamp.mp4\n",
            "Normalized video saved as /content/gdrive/MyDrive/VISIONAAAAA/Dataset Proyecto /02 Muchas_gracias/normalized_muchas_gracias100 - Made with Clipchamp.mp4\n",
            "\n",
            "Processing video /content/gdrive/MyDrive/VISIONAAAAA/Dataset Proyecto /02 Muchas_gracias/muchas_gracias101 - Made with Clipchamp.mp4...\n",
            "Moviepy - Building video /content/gdrive/MyDrive/VISIONAAAAA/Dataset Proyecto /02 Muchas_gracias/normalized_muchas_gracias101 - Made with Clipchamp.mp4.\n",
            "Moviepy - Writing video /content/gdrive/MyDrive/VISIONAAAAA/Dataset Proyecto /02 Muchas_gracias/normalized_muchas_gracias101 - Made with Clipchamp.mp4\n",
            "\n"
          ]
        },
        {
          "output_type": "stream",
          "name": "stderr",
          "text": []
        },
        {
          "output_type": "stream",
          "name": "stdout",
          "text": [
            "Moviepy - Done !\n",
            "Moviepy - video ready /content/gdrive/MyDrive/VISIONAAAAA/Dataset Proyecto /02 Muchas_gracias/normalized_muchas_gracias101 - Made with Clipchamp.mp4\n",
            "Normalized video saved as /content/gdrive/MyDrive/VISIONAAAAA/Dataset Proyecto /02 Muchas_gracias/normalized_muchas_gracias101 - Made with Clipchamp.mp4\n",
            "\n",
            "Processing video /content/gdrive/MyDrive/VISIONAAAAA/Dataset Proyecto /02 Muchas_gracias/muchas_gracias102 - Made with Clipchamp.mp4...\n",
            "Moviepy - Building video /content/gdrive/MyDrive/VISIONAAAAA/Dataset Proyecto /02 Muchas_gracias/normalized_muchas_gracias102 - Made with Clipchamp.mp4.\n",
            "Moviepy - Writing video /content/gdrive/MyDrive/VISIONAAAAA/Dataset Proyecto /02 Muchas_gracias/normalized_muchas_gracias102 - Made with Clipchamp.mp4\n",
            "\n"
          ]
        },
        {
          "output_type": "stream",
          "name": "stderr",
          "text": []
        },
        {
          "output_type": "stream",
          "name": "stdout",
          "text": [
            "Moviepy - Done !\n",
            "Moviepy - video ready /content/gdrive/MyDrive/VISIONAAAAA/Dataset Proyecto /02 Muchas_gracias/normalized_muchas_gracias102 - Made with Clipchamp.mp4\n",
            "Normalized video saved as /content/gdrive/MyDrive/VISIONAAAAA/Dataset Proyecto /02 Muchas_gracias/normalized_muchas_gracias102 - Made with Clipchamp.mp4\n",
            "\n",
            "Processing video /content/gdrive/MyDrive/VISIONAAAAA/Dataset Proyecto /02 Muchas_gracias/muchas_gracias103 - Made with Clipchamp.mp4...\n",
            "Moviepy - Building video /content/gdrive/MyDrive/VISIONAAAAA/Dataset Proyecto /02 Muchas_gracias/normalized_muchas_gracias103 - Made with Clipchamp.mp4.\n",
            "Moviepy - Writing video /content/gdrive/MyDrive/VISIONAAAAA/Dataset Proyecto /02 Muchas_gracias/normalized_muchas_gracias103 - Made with Clipchamp.mp4\n",
            "\n"
          ]
        },
        {
          "output_type": "stream",
          "name": "stderr",
          "text": []
        },
        {
          "output_type": "stream",
          "name": "stdout",
          "text": [
            "Moviepy - Done !\n",
            "Moviepy - video ready /content/gdrive/MyDrive/VISIONAAAAA/Dataset Proyecto /02 Muchas_gracias/normalized_muchas_gracias103 - Made with Clipchamp.mp4\n",
            "Normalized video saved as /content/gdrive/MyDrive/VISIONAAAAA/Dataset Proyecto /02 Muchas_gracias/normalized_muchas_gracias103 - Made with Clipchamp.mp4\n",
            "\n",
            "Processing video /content/gdrive/MyDrive/VISIONAAAAA/Dataset Proyecto /02 Muchas_gracias/muchas_gracias104 - Made with Clipchamp.mp4...\n",
            "Moviepy - Building video /content/gdrive/MyDrive/VISIONAAAAA/Dataset Proyecto /02 Muchas_gracias/normalized_muchas_gracias104 - Made with Clipchamp.mp4.\n",
            "Moviepy - Writing video /content/gdrive/MyDrive/VISIONAAAAA/Dataset Proyecto /02 Muchas_gracias/normalized_muchas_gracias104 - Made with Clipchamp.mp4\n",
            "\n"
          ]
        },
        {
          "output_type": "stream",
          "name": "stderr",
          "text": []
        },
        {
          "output_type": "stream",
          "name": "stdout",
          "text": [
            "Moviepy - Done !\n",
            "Moviepy - video ready /content/gdrive/MyDrive/VISIONAAAAA/Dataset Proyecto /02 Muchas_gracias/normalized_muchas_gracias104 - Made with Clipchamp.mp4\n",
            "Normalized video saved as /content/gdrive/MyDrive/VISIONAAAAA/Dataset Proyecto /02 Muchas_gracias/normalized_muchas_gracias104 - Made with Clipchamp.mp4\n",
            "\n",
            "Processing video /content/gdrive/MyDrive/VISIONAAAAA/Dataset Proyecto /02 Muchas_gracias/muchas_gracias105 - Made with Clipchamp.mp4...\n",
            "Moviepy - Building video /content/gdrive/MyDrive/VISIONAAAAA/Dataset Proyecto /02 Muchas_gracias/normalized_muchas_gracias105 - Made with Clipchamp.mp4.\n",
            "Moviepy - Writing video /content/gdrive/MyDrive/VISIONAAAAA/Dataset Proyecto /02 Muchas_gracias/normalized_muchas_gracias105 - Made with Clipchamp.mp4\n",
            "\n"
          ]
        },
        {
          "output_type": "stream",
          "name": "stderr",
          "text": []
        },
        {
          "output_type": "stream",
          "name": "stdout",
          "text": [
            "Moviepy - Done !\n",
            "Moviepy - video ready /content/gdrive/MyDrive/VISIONAAAAA/Dataset Proyecto /02 Muchas_gracias/normalized_muchas_gracias105 - Made with Clipchamp.mp4\n",
            "Normalized video saved as /content/gdrive/MyDrive/VISIONAAAAA/Dataset Proyecto /02 Muchas_gracias/normalized_muchas_gracias105 - Made with Clipchamp.mp4\n",
            "\n",
            "Processing video /content/gdrive/MyDrive/VISIONAAAAA/Dataset Proyecto /02 Muchas_gracias/muchas_gracias106 - Made with Clipchamp.mp4...\n",
            "Moviepy - Building video /content/gdrive/MyDrive/VISIONAAAAA/Dataset Proyecto /02 Muchas_gracias/normalized_muchas_gracias106 - Made with Clipchamp.mp4.\n",
            "Moviepy - Writing video /content/gdrive/MyDrive/VISIONAAAAA/Dataset Proyecto /02 Muchas_gracias/normalized_muchas_gracias106 - Made with Clipchamp.mp4\n",
            "\n"
          ]
        },
        {
          "output_type": "stream",
          "name": "stderr",
          "text": []
        },
        {
          "output_type": "stream",
          "name": "stdout",
          "text": [
            "Moviepy - Done !\n",
            "Moviepy - video ready /content/gdrive/MyDrive/VISIONAAAAA/Dataset Proyecto /02 Muchas_gracias/normalized_muchas_gracias106 - Made with Clipchamp.mp4\n",
            "Normalized video saved as /content/gdrive/MyDrive/VISIONAAAAA/Dataset Proyecto /02 Muchas_gracias/normalized_muchas_gracias106 - Made with Clipchamp.mp4\n",
            "\n",
            "Processing video /content/gdrive/MyDrive/VISIONAAAAA/Dataset Proyecto /02 Muchas_gracias/muchas_gracias107 - Made with Clipchamp.mp4...\n",
            "Moviepy - Building video /content/gdrive/MyDrive/VISIONAAAAA/Dataset Proyecto /02 Muchas_gracias/normalized_muchas_gracias107 - Made with Clipchamp.mp4.\n",
            "Moviepy - Writing video /content/gdrive/MyDrive/VISIONAAAAA/Dataset Proyecto /02 Muchas_gracias/normalized_muchas_gracias107 - Made with Clipchamp.mp4\n",
            "\n"
          ]
        },
        {
          "output_type": "stream",
          "name": "stderr",
          "text": []
        },
        {
          "output_type": "stream",
          "name": "stdout",
          "text": [
            "Moviepy - Done !\n",
            "Moviepy - video ready /content/gdrive/MyDrive/VISIONAAAAA/Dataset Proyecto /02 Muchas_gracias/normalized_muchas_gracias107 - Made with Clipchamp.mp4\n",
            "Normalized video saved as /content/gdrive/MyDrive/VISIONAAAAA/Dataset Proyecto /02 Muchas_gracias/normalized_muchas_gracias107 - Made with Clipchamp.mp4\n",
            "\n",
            "Processing video /content/gdrive/MyDrive/VISIONAAAAA/Dataset Proyecto /02 Muchas_gracias/muchas_gracias108 - Made with Clipchamp.mp4...\n",
            "Moviepy - Building video /content/gdrive/MyDrive/VISIONAAAAA/Dataset Proyecto /02 Muchas_gracias/normalized_muchas_gracias108 - Made with Clipchamp.mp4.\n",
            "Moviepy - Writing video /content/gdrive/MyDrive/VISIONAAAAA/Dataset Proyecto /02 Muchas_gracias/normalized_muchas_gracias108 - Made with Clipchamp.mp4\n",
            "\n"
          ]
        },
        {
          "output_type": "stream",
          "name": "stderr",
          "text": []
        },
        {
          "output_type": "stream",
          "name": "stdout",
          "text": [
            "Moviepy - Done !\n",
            "Moviepy - video ready /content/gdrive/MyDrive/VISIONAAAAA/Dataset Proyecto /02 Muchas_gracias/normalized_muchas_gracias108 - Made with Clipchamp.mp4\n",
            "Normalized video saved as /content/gdrive/MyDrive/VISIONAAAAA/Dataset Proyecto /02 Muchas_gracias/normalized_muchas_gracias108 - Made with Clipchamp.mp4\n",
            "\n",
            "Processing video /content/gdrive/MyDrive/VISIONAAAAA/Dataset Proyecto /02 Muchas_gracias/muchas_gracias109 - Made with Clipchamp.mp4...\n",
            "Moviepy - Building video /content/gdrive/MyDrive/VISIONAAAAA/Dataset Proyecto /02 Muchas_gracias/normalized_muchas_gracias109 - Made with Clipchamp.mp4.\n",
            "Moviepy - Writing video /content/gdrive/MyDrive/VISIONAAAAA/Dataset Proyecto /02 Muchas_gracias/normalized_muchas_gracias109 - Made with Clipchamp.mp4\n",
            "\n"
          ]
        },
        {
          "output_type": "stream",
          "name": "stderr",
          "text": []
        },
        {
          "output_type": "stream",
          "name": "stdout",
          "text": [
            "Moviepy - Done !\n",
            "Moviepy - video ready /content/gdrive/MyDrive/VISIONAAAAA/Dataset Proyecto /02 Muchas_gracias/normalized_muchas_gracias109 - Made with Clipchamp.mp4\n",
            "Normalized video saved as /content/gdrive/MyDrive/VISIONAAAAA/Dataset Proyecto /02 Muchas_gracias/normalized_muchas_gracias109 - Made with Clipchamp.mp4\n",
            "\n",
            "Processing video /content/gdrive/MyDrive/VISIONAAAAA/Dataset Proyecto /02 Muchas_gracias/muchas_gracias110 - Made with Clipchamp.mp4...\n",
            "Moviepy - Building video /content/gdrive/MyDrive/VISIONAAAAA/Dataset Proyecto /02 Muchas_gracias/normalized_muchas_gracias110 - Made with Clipchamp.mp4.\n",
            "Moviepy - Writing video /content/gdrive/MyDrive/VISIONAAAAA/Dataset Proyecto /02 Muchas_gracias/normalized_muchas_gracias110 - Made with Clipchamp.mp4\n",
            "\n"
          ]
        },
        {
          "output_type": "stream",
          "name": "stderr",
          "text": []
        },
        {
          "output_type": "stream",
          "name": "stdout",
          "text": [
            "Moviepy - Done !\n",
            "Moviepy - video ready /content/gdrive/MyDrive/VISIONAAAAA/Dataset Proyecto /02 Muchas_gracias/normalized_muchas_gracias110 - Made with Clipchamp.mp4\n",
            "Normalized video saved as /content/gdrive/MyDrive/VISIONAAAAA/Dataset Proyecto /02 Muchas_gracias/normalized_muchas_gracias110 - Made with Clipchamp.mp4\n",
            "\n",
            "Processing video /content/gdrive/MyDrive/VISIONAAAAA/Dataset Proyecto /02 Muchas_gracias/muchas_gracias111 - Made with Clipchamp.mp4...\n",
            "Moviepy - Building video /content/gdrive/MyDrive/VISIONAAAAA/Dataset Proyecto /02 Muchas_gracias/normalized_muchas_gracias111 - Made with Clipchamp.mp4.\n",
            "Moviepy - Writing video /content/gdrive/MyDrive/VISIONAAAAA/Dataset Proyecto /02 Muchas_gracias/normalized_muchas_gracias111 - Made with Clipchamp.mp4\n",
            "\n"
          ]
        },
        {
          "output_type": "stream",
          "name": "stderr",
          "text": []
        },
        {
          "output_type": "stream",
          "name": "stdout",
          "text": [
            "Moviepy - Done !\n",
            "Moviepy - video ready /content/gdrive/MyDrive/VISIONAAAAA/Dataset Proyecto /02 Muchas_gracias/normalized_muchas_gracias111 - Made with Clipchamp.mp4\n",
            "Normalized video saved as /content/gdrive/MyDrive/VISIONAAAAA/Dataset Proyecto /02 Muchas_gracias/normalized_muchas_gracias111 - Made with Clipchamp.mp4\n",
            "\n",
            "Processing video /content/gdrive/MyDrive/VISIONAAAAA/Dataset Proyecto /02 Muchas_gracias/muchas_gracias112 - Made with Clipchamp.mp4...\n",
            "Moviepy - Building video /content/gdrive/MyDrive/VISIONAAAAA/Dataset Proyecto /02 Muchas_gracias/normalized_muchas_gracias112 - Made with Clipchamp.mp4.\n",
            "Moviepy - Writing video /content/gdrive/MyDrive/VISIONAAAAA/Dataset Proyecto /02 Muchas_gracias/normalized_muchas_gracias112 - Made with Clipchamp.mp4\n",
            "\n"
          ]
        },
        {
          "output_type": "stream",
          "name": "stderr",
          "text": []
        },
        {
          "output_type": "stream",
          "name": "stdout",
          "text": [
            "Moviepy - Done !\n",
            "Moviepy - video ready /content/gdrive/MyDrive/VISIONAAAAA/Dataset Proyecto /02 Muchas_gracias/normalized_muchas_gracias112 - Made with Clipchamp.mp4\n",
            "Normalized video saved as /content/gdrive/MyDrive/VISIONAAAAA/Dataset Proyecto /02 Muchas_gracias/normalized_muchas_gracias112 - Made with Clipchamp.mp4\n",
            "\n",
            "Processing video /content/gdrive/MyDrive/VISIONAAAAA/Dataset Proyecto /02 Muchas_gracias/muchas_gracias113 - Made with Clipchamp.mp4...\n",
            "Moviepy - Building video /content/gdrive/MyDrive/VISIONAAAAA/Dataset Proyecto /02 Muchas_gracias/normalized_muchas_gracias113 - Made with Clipchamp.mp4.\n",
            "Moviepy - Writing video /content/gdrive/MyDrive/VISIONAAAAA/Dataset Proyecto /02 Muchas_gracias/normalized_muchas_gracias113 - Made with Clipchamp.mp4\n",
            "\n"
          ]
        },
        {
          "output_type": "stream",
          "name": "stderr",
          "text": []
        },
        {
          "output_type": "stream",
          "name": "stdout",
          "text": [
            "Moviepy - Done !\n",
            "Moviepy - video ready /content/gdrive/MyDrive/VISIONAAAAA/Dataset Proyecto /02 Muchas_gracias/normalized_muchas_gracias113 - Made with Clipchamp.mp4\n",
            "Normalized video saved as /content/gdrive/MyDrive/VISIONAAAAA/Dataset Proyecto /02 Muchas_gracias/normalized_muchas_gracias113 - Made with Clipchamp.mp4\n",
            "\n",
            "Processing video /content/gdrive/MyDrive/VISIONAAAAA/Dataset Proyecto /02 Muchas_gracias/muchas_gracias114 - Made with Clipchamp.mp4...\n",
            "Moviepy - Building video /content/gdrive/MyDrive/VISIONAAAAA/Dataset Proyecto /02 Muchas_gracias/normalized_muchas_gracias114 - Made with Clipchamp.mp4.\n",
            "Moviepy - Writing video /content/gdrive/MyDrive/VISIONAAAAA/Dataset Proyecto /02 Muchas_gracias/normalized_muchas_gracias114 - Made with Clipchamp.mp4\n",
            "\n"
          ]
        },
        {
          "output_type": "stream",
          "name": "stderr",
          "text": []
        },
        {
          "output_type": "stream",
          "name": "stdout",
          "text": [
            "Moviepy - Done !\n",
            "Moviepy - video ready /content/gdrive/MyDrive/VISIONAAAAA/Dataset Proyecto /02 Muchas_gracias/normalized_muchas_gracias114 - Made with Clipchamp.mp4\n",
            "Normalized video saved as /content/gdrive/MyDrive/VISIONAAAAA/Dataset Proyecto /02 Muchas_gracias/normalized_muchas_gracias114 - Made with Clipchamp.mp4\n",
            "\n",
            "Processing video /content/gdrive/MyDrive/VISIONAAAAA/Dataset Proyecto /02 Muchas_gracias/muchas_gracias115 - Made with Clipchamp.mp4...\n",
            "Moviepy - Building video /content/gdrive/MyDrive/VISIONAAAAA/Dataset Proyecto /02 Muchas_gracias/normalized_muchas_gracias115 - Made with Clipchamp.mp4.\n",
            "Moviepy - Writing video /content/gdrive/MyDrive/VISIONAAAAA/Dataset Proyecto /02 Muchas_gracias/normalized_muchas_gracias115 - Made with Clipchamp.mp4\n",
            "\n"
          ]
        },
        {
          "output_type": "stream",
          "name": "stderr",
          "text": []
        },
        {
          "output_type": "stream",
          "name": "stdout",
          "text": [
            "Moviepy - Done !\n",
            "Moviepy - video ready /content/gdrive/MyDrive/VISIONAAAAA/Dataset Proyecto /02 Muchas_gracias/normalized_muchas_gracias115 - Made with Clipchamp.mp4\n",
            "Normalized video saved as /content/gdrive/MyDrive/VISIONAAAAA/Dataset Proyecto /02 Muchas_gracias/normalized_muchas_gracias115 - Made with Clipchamp.mp4\n",
            "\n",
            "Processing video /content/gdrive/MyDrive/VISIONAAAAA/Dataset Proyecto /02 Muchas_gracias/muchas_gracias116 - Made with Clipchamp.mp4...\n",
            "Moviepy - Building video /content/gdrive/MyDrive/VISIONAAAAA/Dataset Proyecto /02 Muchas_gracias/normalized_muchas_gracias116 - Made with Clipchamp.mp4.\n",
            "Moviepy - Writing video /content/gdrive/MyDrive/VISIONAAAAA/Dataset Proyecto /02 Muchas_gracias/normalized_muchas_gracias116 - Made with Clipchamp.mp4\n",
            "\n"
          ]
        },
        {
          "output_type": "stream",
          "name": "stderr",
          "text": []
        },
        {
          "output_type": "stream",
          "name": "stdout",
          "text": [
            "Moviepy - Done !\n",
            "Moviepy - video ready /content/gdrive/MyDrive/VISIONAAAAA/Dataset Proyecto /02 Muchas_gracias/normalized_muchas_gracias116 - Made with Clipchamp.mp4\n",
            "Normalized video saved as /content/gdrive/MyDrive/VISIONAAAAA/Dataset Proyecto /02 Muchas_gracias/normalized_muchas_gracias116 - Made with Clipchamp.mp4\n",
            "\n",
            "Processing video /content/gdrive/MyDrive/VISIONAAAAA/Dataset Proyecto /02 Muchas_gracias/muchas_gracias117 - Made with Clipchamp.mp4...\n",
            "Moviepy - Building video /content/gdrive/MyDrive/VISIONAAAAA/Dataset Proyecto /02 Muchas_gracias/normalized_muchas_gracias117 - Made with Clipchamp.mp4.\n",
            "Moviepy - Writing video /content/gdrive/MyDrive/VISIONAAAAA/Dataset Proyecto /02 Muchas_gracias/normalized_muchas_gracias117 - Made with Clipchamp.mp4\n",
            "\n"
          ]
        },
        {
          "output_type": "stream",
          "name": "stderr",
          "text": []
        },
        {
          "output_type": "stream",
          "name": "stdout",
          "text": [
            "Moviepy - Done !\n",
            "Moviepy - video ready /content/gdrive/MyDrive/VISIONAAAAA/Dataset Proyecto /02 Muchas_gracias/normalized_muchas_gracias117 - Made with Clipchamp.mp4\n",
            "Normalized video saved as /content/gdrive/MyDrive/VISIONAAAAA/Dataset Proyecto /02 Muchas_gracias/normalized_muchas_gracias117 - Made with Clipchamp.mp4\n",
            "\n",
            "Processing video /content/gdrive/MyDrive/VISIONAAAAA/Dataset Proyecto /02 Muchas_gracias/muchas_gracias118 - Made with Clipchamp.mp4...\n",
            "Moviepy - Building video /content/gdrive/MyDrive/VISIONAAAAA/Dataset Proyecto /02 Muchas_gracias/normalized_muchas_gracias118 - Made with Clipchamp.mp4.\n",
            "Moviepy - Writing video /content/gdrive/MyDrive/VISIONAAAAA/Dataset Proyecto /02 Muchas_gracias/normalized_muchas_gracias118 - Made with Clipchamp.mp4\n",
            "\n"
          ]
        },
        {
          "output_type": "stream",
          "name": "stderr",
          "text": []
        },
        {
          "output_type": "stream",
          "name": "stdout",
          "text": [
            "Moviepy - Done !\n",
            "Moviepy - video ready /content/gdrive/MyDrive/VISIONAAAAA/Dataset Proyecto /02 Muchas_gracias/normalized_muchas_gracias118 - Made with Clipchamp.mp4\n",
            "Normalized video saved as /content/gdrive/MyDrive/VISIONAAAAA/Dataset Proyecto /02 Muchas_gracias/normalized_muchas_gracias118 - Made with Clipchamp.mp4\n",
            "\n",
            "Processing video /content/gdrive/MyDrive/VISIONAAAAA/Dataset Proyecto /02 Muchas_gracias/muchas_gracias119 - Made with Clipchamp.mp4...\n",
            "Moviepy - Building video /content/gdrive/MyDrive/VISIONAAAAA/Dataset Proyecto /02 Muchas_gracias/normalized_muchas_gracias119 - Made with Clipchamp.mp4.\n",
            "Moviepy - Writing video /content/gdrive/MyDrive/VISIONAAAAA/Dataset Proyecto /02 Muchas_gracias/normalized_muchas_gracias119 - Made with Clipchamp.mp4\n",
            "\n"
          ]
        },
        {
          "output_type": "stream",
          "name": "stderr",
          "text": []
        },
        {
          "output_type": "stream",
          "name": "stdout",
          "text": [
            "Moviepy - Done !\n",
            "Moviepy - video ready /content/gdrive/MyDrive/VISIONAAAAA/Dataset Proyecto /02 Muchas_gracias/normalized_muchas_gracias119 - Made with Clipchamp.mp4\n",
            "Normalized video saved as /content/gdrive/MyDrive/VISIONAAAAA/Dataset Proyecto /02 Muchas_gracias/normalized_muchas_gracias119 - Made with Clipchamp.mp4\n",
            "\n",
            "Processing video /content/gdrive/MyDrive/VISIONAAAAA/Dataset Proyecto /02 Muchas_gracias/muchas_gracias120 - Made with Clipchamp.mp4...\n",
            "Moviepy - Building video /content/gdrive/MyDrive/VISIONAAAAA/Dataset Proyecto /02 Muchas_gracias/normalized_muchas_gracias120 - Made with Clipchamp.mp4.\n",
            "Moviepy - Writing video /content/gdrive/MyDrive/VISIONAAAAA/Dataset Proyecto /02 Muchas_gracias/normalized_muchas_gracias120 - Made with Clipchamp.mp4\n",
            "\n"
          ]
        },
        {
          "output_type": "stream",
          "name": "stderr",
          "text": []
        },
        {
          "output_type": "stream",
          "name": "stdout",
          "text": [
            "Moviepy - Done !\n",
            "Moviepy - video ready /content/gdrive/MyDrive/VISIONAAAAA/Dataset Proyecto /02 Muchas_gracias/normalized_muchas_gracias120 - Made with Clipchamp.mp4\n",
            "Normalized video saved as /content/gdrive/MyDrive/VISIONAAAAA/Dataset Proyecto /02 Muchas_gracias/normalized_muchas_gracias120 - Made with Clipchamp.mp4\n",
            "\n",
            "Processing video /content/gdrive/MyDrive/VISIONAAAAA/Dataset Proyecto /02 Muchas_gracias/muchas_gracias121 - Made with Clipchamp.mp4...\n",
            "Moviepy - Building video /content/gdrive/MyDrive/VISIONAAAAA/Dataset Proyecto /02 Muchas_gracias/normalized_muchas_gracias121 - Made with Clipchamp.mp4.\n",
            "Moviepy - Writing video /content/gdrive/MyDrive/VISIONAAAAA/Dataset Proyecto /02 Muchas_gracias/normalized_muchas_gracias121 - Made with Clipchamp.mp4\n",
            "\n"
          ]
        },
        {
          "output_type": "stream",
          "name": "stderr",
          "text": []
        },
        {
          "output_type": "stream",
          "name": "stdout",
          "text": [
            "Moviepy - Done !\n",
            "Moviepy - video ready /content/gdrive/MyDrive/VISIONAAAAA/Dataset Proyecto /02 Muchas_gracias/normalized_muchas_gracias121 - Made with Clipchamp.mp4\n",
            "Normalized video saved as /content/gdrive/MyDrive/VISIONAAAAA/Dataset Proyecto /02 Muchas_gracias/normalized_muchas_gracias121 - Made with Clipchamp.mp4\n",
            "\n",
            "Processing video /content/gdrive/MyDrive/VISIONAAAAA/Dataset Proyecto /02 Muchas_gracias/muchas_gracias122 - Made with Clipchamp.mp4...\n",
            "Moviepy - Building video /content/gdrive/MyDrive/VISIONAAAAA/Dataset Proyecto /02 Muchas_gracias/normalized_muchas_gracias122 - Made with Clipchamp.mp4.\n",
            "Moviepy - Writing video /content/gdrive/MyDrive/VISIONAAAAA/Dataset Proyecto /02 Muchas_gracias/normalized_muchas_gracias122 - Made with Clipchamp.mp4\n",
            "\n"
          ]
        },
        {
          "output_type": "stream",
          "name": "stderr",
          "text": []
        },
        {
          "output_type": "stream",
          "name": "stdout",
          "text": [
            "Moviepy - Done !\n",
            "Moviepy - video ready /content/gdrive/MyDrive/VISIONAAAAA/Dataset Proyecto /02 Muchas_gracias/normalized_muchas_gracias122 - Made with Clipchamp.mp4\n",
            "Normalized video saved as /content/gdrive/MyDrive/VISIONAAAAA/Dataset Proyecto /02 Muchas_gracias/normalized_muchas_gracias122 - Made with Clipchamp.mp4\n",
            "\n",
            "Processing video /content/gdrive/MyDrive/VISIONAAAAA/Dataset Proyecto /02 Muchas_gracias/muchas_gracias123 - Made with Clipchamp.mp4...\n",
            "Moviepy - Building video /content/gdrive/MyDrive/VISIONAAAAA/Dataset Proyecto /02 Muchas_gracias/normalized_muchas_gracias123 - Made with Clipchamp.mp4.\n",
            "Moviepy - Writing video /content/gdrive/MyDrive/VISIONAAAAA/Dataset Proyecto /02 Muchas_gracias/normalized_muchas_gracias123 - Made with Clipchamp.mp4\n",
            "\n"
          ]
        },
        {
          "output_type": "stream",
          "name": "stderr",
          "text": []
        },
        {
          "output_type": "stream",
          "name": "stdout",
          "text": [
            "Moviepy - Done !\n",
            "Moviepy - video ready /content/gdrive/MyDrive/VISIONAAAAA/Dataset Proyecto /02 Muchas_gracias/normalized_muchas_gracias123 - Made with Clipchamp.mp4\n",
            "Normalized video saved as /content/gdrive/MyDrive/VISIONAAAAA/Dataset Proyecto /02 Muchas_gracias/normalized_muchas_gracias123 - Made with Clipchamp.mp4\n",
            "\n",
            "Processing video /content/gdrive/MyDrive/VISIONAAAAA/Dataset Proyecto /02 Muchas_gracias/muchas_gracias124 - Made with Clipchamp.mp4...\n",
            "Moviepy - Building video /content/gdrive/MyDrive/VISIONAAAAA/Dataset Proyecto /02 Muchas_gracias/normalized_muchas_gracias124 - Made with Clipchamp.mp4.\n",
            "Moviepy - Writing video /content/gdrive/MyDrive/VISIONAAAAA/Dataset Proyecto /02 Muchas_gracias/normalized_muchas_gracias124 - Made with Clipchamp.mp4\n",
            "\n"
          ]
        },
        {
          "output_type": "stream",
          "name": "stderr",
          "text": []
        },
        {
          "output_type": "stream",
          "name": "stdout",
          "text": [
            "Moviepy - Done !\n",
            "Moviepy - video ready /content/gdrive/MyDrive/VISIONAAAAA/Dataset Proyecto /02 Muchas_gracias/normalized_muchas_gracias124 - Made with Clipchamp.mp4\n",
            "Normalized video saved as /content/gdrive/MyDrive/VISIONAAAAA/Dataset Proyecto /02 Muchas_gracias/normalized_muchas_gracias124 - Made with Clipchamp.mp4\n",
            "\n",
            "Processing video /content/gdrive/MyDrive/VISIONAAAAA/Dataset Proyecto /02 Muchas_gracias/muchas_gracias125 - Made with Clipchamp.mp4...\n",
            "Moviepy - Building video /content/gdrive/MyDrive/VISIONAAAAA/Dataset Proyecto /02 Muchas_gracias/normalized_muchas_gracias125 - Made with Clipchamp.mp4.\n",
            "Moviepy - Writing video /content/gdrive/MyDrive/VISIONAAAAA/Dataset Proyecto /02 Muchas_gracias/normalized_muchas_gracias125 - Made with Clipchamp.mp4\n",
            "\n"
          ]
        },
        {
          "output_type": "stream",
          "name": "stderr",
          "text": []
        },
        {
          "output_type": "stream",
          "name": "stdout",
          "text": [
            "Moviepy - Done !\n",
            "Moviepy - video ready /content/gdrive/MyDrive/VISIONAAAAA/Dataset Proyecto /02 Muchas_gracias/normalized_muchas_gracias125 - Made with Clipchamp.mp4\n",
            "Normalized video saved as /content/gdrive/MyDrive/VISIONAAAAA/Dataset Proyecto /02 Muchas_gracias/normalized_muchas_gracias125 - Made with Clipchamp.mp4\n",
            "\n",
            "Processing video /content/gdrive/MyDrive/VISIONAAAAA/Dataset Proyecto /02 Muchas_gracias/muchas_gracias126 - Made with Clipchamp.mp4...\n",
            "Moviepy - Building video /content/gdrive/MyDrive/VISIONAAAAA/Dataset Proyecto /02 Muchas_gracias/normalized_muchas_gracias126 - Made with Clipchamp.mp4.\n",
            "Moviepy - Writing video /content/gdrive/MyDrive/VISIONAAAAA/Dataset Proyecto /02 Muchas_gracias/normalized_muchas_gracias126 - Made with Clipchamp.mp4\n",
            "\n"
          ]
        },
        {
          "output_type": "stream",
          "name": "stderr",
          "text": []
        },
        {
          "output_type": "stream",
          "name": "stdout",
          "text": [
            "Moviepy - Done !\n",
            "Moviepy - video ready /content/gdrive/MyDrive/VISIONAAAAA/Dataset Proyecto /02 Muchas_gracias/normalized_muchas_gracias126 - Made with Clipchamp.mp4\n",
            "Normalized video saved as /content/gdrive/MyDrive/VISIONAAAAA/Dataset Proyecto /02 Muchas_gracias/normalized_muchas_gracias126 - Made with Clipchamp.mp4\n",
            "\n",
            "Processing video /content/gdrive/MyDrive/VISIONAAAAA/Dataset Proyecto /02 Muchas_gracias/muchas_gracias127 - Made with Clipchamp.mp4...\n",
            "Moviepy - Building video /content/gdrive/MyDrive/VISIONAAAAA/Dataset Proyecto /02 Muchas_gracias/normalized_muchas_gracias127 - Made with Clipchamp.mp4.\n",
            "Moviepy - Writing video /content/gdrive/MyDrive/VISIONAAAAA/Dataset Proyecto /02 Muchas_gracias/normalized_muchas_gracias127 - Made with Clipchamp.mp4\n",
            "\n"
          ]
        },
        {
          "output_type": "stream",
          "name": "stderr",
          "text": []
        },
        {
          "output_type": "stream",
          "name": "stdout",
          "text": [
            "Moviepy - Done !\n",
            "Moviepy - video ready /content/gdrive/MyDrive/VISIONAAAAA/Dataset Proyecto /02 Muchas_gracias/normalized_muchas_gracias127 - Made with Clipchamp.mp4\n",
            "Normalized video saved as /content/gdrive/MyDrive/VISIONAAAAA/Dataset Proyecto /02 Muchas_gracias/normalized_muchas_gracias127 - Made with Clipchamp.mp4\n",
            "\n",
            "Processing video /content/gdrive/MyDrive/VISIONAAAAA/Dataset Proyecto /02 Muchas_gracias/muchas_gracias128 - Made with Clipchamp.mp4...\n",
            "Moviepy - Building video /content/gdrive/MyDrive/VISIONAAAAA/Dataset Proyecto /02 Muchas_gracias/normalized_muchas_gracias128 - Made with Clipchamp.mp4.\n",
            "Moviepy - Writing video /content/gdrive/MyDrive/VISIONAAAAA/Dataset Proyecto /02 Muchas_gracias/normalized_muchas_gracias128 - Made with Clipchamp.mp4\n",
            "\n"
          ]
        },
        {
          "output_type": "stream",
          "name": "stderr",
          "text": []
        },
        {
          "output_type": "stream",
          "name": "stdout",
          "text": [
            "Moviepy - Done !\n",
            "Moviepy - video ready /content/gdrive/MyDrive/VISIONAAAAA/Dataset Proyecto /02 Muchas_gracias/normalized_muchas_gracias128 - Made with Clipchamp.mp4\n",
            "Normalized video saved as /content/gdrive/MyDrive/VISIONAAAAA/Dataset Proyecto /02 Muchas_gracias/normalized_muchas_gracias128 - Made with Clipchamp.mp4\n",
            "\n",
            "Processing video /content/gdrive/MyDrive/VISIONAAAAA/Dataset Proyecto /02 Muchas_gracias/muchas_gracias129 - Made with Clipchamp.mp4...\n",
            "Moviepy - Building video /content/gdrive/MyDrive/VISIONAAAAA/Dataset Proyecto /02 Muchas_gracias/normalized_muchas_gracias129 - Made with Clipchamp.mp4.\n",
            "Moviepy - Writing video /content/gdrive/MyDrive/VISIONAAAAA/Dataset Proyecto /02 Muchas_gracias/normalized_muchas_gracias129 - Made with Clipchamp.mp4\n",
            "\n"
          ]
        },
        {
          "output_type": "stream",
          "name": "stderr",
          "text": []
        },
        {
          "output_type": "stream",
          "name": "stdout",
          "text": [
            "Moviepy - Done !\n",
            "Moviepy - video ready /content/gdrive/MyDrive/VISIONAAAAA/Dataset Proyecto /02 Muchas_gracias/normalized_muchas_gracias129 - Made with Clipchamp.mp4\n",
            "Normalized video saved as /content/gdrive/MyDrive/VISIONAAAAA/Dataset Proyecto /02 Muchas_gracias/normalized_muchas_gracias129 - Made with Clipchamp.mp4\n",
            "\n",
            "Processing video /content/gdrive/MyDrive/VISIONAAAAA/Dataset Proyecto /02 Muchas_gracias/muchas_gracias130 - Made with Clipchamp.mp4...\n",
            "Moviepy - Building video /content/gdrive/MyDrive/VISIONAAAAA/Dataset Proyecto /02 Muchas_gracias/normalized_muchas_gracias130 - Made with Clipchamp.mp4.\n",
            "Moviepy - Writing video /content/gdrive/MyDrive/VISIONAAAAA/Dataset Proyecto /02 Muchas_gracias/normalized_muchas_gracias130 - Made with Clipchamp.mp4\n",
            "\n"
          ]
        },
        {
          "output_type": "stream",
          "name": "stderr",
          "text": []
        },
        {
          "output_type": "stream",
          "name": "stdout",
          "text": [
            "Moviepy - Done !\n",
            "Moviepy - video ready /content/gdrive/MyDrive/VISIONAAAAA/Dataset Proyecto /02 Muchas_gracias/normalized_muchas_gracias130 - Made with Clipchamp.mp4\n",
            "Normalized video saved as /content/gdrive/MyDrive/VISIONAAAAA/Dataset Proyecto /02 Muchas_gracias/normalized_muchas_gracias130 - Made with Clipchamp.mp4\n",
            "\n",
            "Processing video /content/gdrive/MyDrive/VISIONAAAAA/Dataset Proyecto /02 Muchas_gracias/muchas_gracias131 - Made with Clipchamp.mp4...\n",
            "Moviepy - Building video /content/gdrive/MyDrive/VISIONAAAAA/Dataset Proyecto /02 Muchas_gracias/normalized_muchas_gracias131 - Made with Clipchamp.mp4.\n",
            "Moviepy - Writing video /content/gdrive/MyDrive/VISIONAAAAA/Dataset Proyecto /02 Muchas_gracias/normalized_muchas_gracias131 - Made with Clipchamp.mp4\n",
            "\n"
          ]
        },
        {
          "output_type": "stream",
          "name": "stderr",
          "text": []
        },
        {
          "output_type": "stream",
          "name": "stdout",
          "text": [
            "Moviepy - Done !\n",
            "Moviepy - video ready /content/gdrive/MyDrive/VISIONAAAAA/Dataset Proyecto /02 Muchas_gracias/normalized_muchas_gracias131 - Made with Clipchamp.mp4\n",
            "Normalized video saved as /content/gdrive/MyDrive/VISIONAAAAA/Dataset Proyecto /02 Muchas_gracias/normalized_muchas_gracias131 - Made with Clipchamp.mp4\n",
            "\n",
            "Processing video /content/gdrive/MyDrive/VISIONAAAAA/Dataset Proyecto /02 Muchas_gracias/muchas_gracias132 - Made with Clipchamp.mp4...\n",
            "Moviepy - Building video /content/gdrive/MyDrive/VISIONAAAAA/Dataset Proyecto /02 Muchas_gracias/normalized_muchas_gracias132 - Made with Clipchamp.mp4.\n",
            "Moviepy - Writing video /content/gdrive/MyDrive/VISIONAAAAA/Dataset Proyecto /02 Muchas_gracias/normalized_muchas_gracias132 - Made with Clipchamp.mp4\n",
            "\n"
          ]
        },
        {
          "output_type": "stream",
          "name": "stderr",
          "text": []
        },
        {
          "output_type": "stream",
          "name": "stdout",
          "text": [
            "Moviepy - Done !\n",
            "Moviepy - video ready /content/gdrive/MyDrive/VISIONAAAAA/Dataset Proyecto /02 Muchas_gracias/normalized_muchas_gracias132 - Made with Clipchamp.mp4\n",
            "Normalized video saved as /content/gdrive/MyDrive/VISIONAAAAA/Dataset Proyecto /02 Muchas_gracias/normalized_muchas_gracias132 - Made with Clipchamp.mp4\n",
            "\n",
            "Processing video /content/gdrive/MyDrive/VISIONAAAAA/Dataset Proyecto /02 Muchas_gracias/muchas_gracias133 - Made with Clipchamp.mp4...\n",
            "Moviepy - Building video /content/gdrive/MyDrive/VISIONAAAAA/Dataset Proyecto /02 Muchas_gracias/normalized_muchas_gracias133 - Made with Clipchamp.mp4.\n",
            "Moviepy - Writing video /content/gdrive/MyDrive/VISIONAAAAA/Dataset Proyecto /02 Muchas_gracias/normalized_muchas_gracias133 - Made with Clipchamp.mp4\n",
            "\n"
          ]
        },
        {
          "output_type": "stream",
          "name": "stderr",
          "text": []
        },
        {
          "output_type": "stream",
          "name": "stdout",
          "text": [
            "Moviepy - Done !\n",
            "Moviepy - video ready /content/gdrive/MyDrive/VISIONAAAAA/Dataset Proyecto /02 Muchas_gracias/normalized_muchas_gracias133 - Made with Clipchamp.mp4\n",
            "Normalized video saved as /content/gdrive/MyDrive/VISIONAAAAA/Dataset Proyecto /02 Muchas_gracias/normalized_muchas_gracias133 - Made with Clipchamp.mp4\n",
            "\n",
            "Processing video /content/gdrive/MyDrive/VISIONAAAAA/Dataset Proyecto /02 Muchas_gracias/muchas_gracias134 - Made with Clipchamp.mp4...\n",
            "Moviepy - Building video /content/gdrive/MyDrive/VISIONAAAAA/Dataset Proyecto /02 Muchas_gracias/normalized_muchas_gracias134 - Made with Clipchamp.mp4.\n",
            "Moviepy - Writing video /content/gdrive/MyDrive/VISIONAAAAA/Dataset Proyecto /02 Muchas_gracias/normalized_muchas_gracias134 - Made with Clipchamp.mp4\n",
            "\n"
          ]
        },
        {
          "output_type": "stream",
          "name": "stderr",
          "text": []
        },
        {
          "output_type": "stream",
          "name": "stdout",
          "text": [
            "Moviepy - Done !\n",
            "Moviepy - video ready /content/gdrive/MyDrive/VISIONAAAAA/Dataset Proyecto /02 Muchas_gracias/normalized_muchas_gracias134 - Made with Clipchamp.mp4\n",
            "Normalized video saved as /content/gdrive/MyDrive/VISIONAAAAA/Dataset Proyecto /02 Muchas_gracias/normalized_muchas_gracias134 - Made with Clipchamp.mp4\n",
            "\n",
            "Processing video /content/gdrive/MyDrive/VISIONAAAAA/Dataset Proyecto /02 Muchas_gracias/muchas_gracias135 - Made with Clipchamp.mp4...\n",
            "Moviepy - Building video /content/gdrive/MyDrive/VISIONAAAAA/Dataset Proyecto /02 Muchas_gracias/normalized_muchas_gracias135 - Made with Clipchamp.mp4.\n",
            "Moviepy - Writing video /content/gdrive/MyDrive/VISIONAAAAA/Dataset Proyecto /02 Muchas_gracias/normalized_muchas_gracias135 - Made with Clipchamp.mp4\n",
            "\n"
          ]
        },
        {
          "output_type": "stream",
          "name": "stderr",
          "text": []
        },
        {
          "output_type": "stream",
          "name": "stdout",
          "text": [
            "Moviepy - Done !\n",
            "Moviepy - video ready /content/gdrive/MyDrive/VISIONAAAAA/Dataset Proyecto /02 Muchas_gracias/normalized_muchas_gracias135 - Made with Clipchamp.mp4\n",
            "Normalized video saved as /content/gdrive/MyDrive/VISIONAAAAA/Dataset Proyecto /02 Muchas_gracias/normalized_muchas_gracias135 - Made with Clipchamp.mp4\n",
            "\n",
            "Processing video /content/gdrive/MyDrive/VISIONAAAAA/Dataset Proyecto /02 Muchas_gracias/muchas_gracias136 - Made with Clipchamp.mp4...\n",
            "Moviepy - Building video /content/gdrive/MyDrive/VISIONAAAAA/Dataset Proyecto /02 Muchas_gracias/normalized_muchas_gracias136 - Made with Clipchamp.mp4.\n",
            "Moviepy - Writing video /content/gdrive/MyDrive/VISIONAAAAA/Dataset Proyecto /02 Muchas_gracias/normalized_muchas_gracias136 - Made with Clipchamp.mp4\n",
            "\n"
          ]
        },
        {
          "output_type": "stream",
          "name": "stderr",
          "text": []
        },
        {
          "output_type": "stream",
          "name": "stdout",
          "text": [
            "Moviepy - Done !\n",
            "Moviepy - video ready /content/gdrive/MyDrive/VISIONAAAAA/Dataset Proyecto /02 Muchas_gracias/normalized_muchas_gracias136 - Made with Clipchamp.mp4\n",
            "Normalized video saved as /content/gdrive/MyDrive/VISIONAAAAA/Dataset Proyecto /02 Muchas_gracias/normalized_muchas_gracias136 - Made with Clipchamp.mp4\n",
            "\n",
            "Processing video /content/gdrive/MyDrive/VISIONAAAAA/Dataset Proyecto /02 Muchas_gracias/muchas_gracias137 - Made with Clipchamp.mp4...\n",
            "Moviepy - Building video /content/gdrive/MyDrive/VISIONAAAAA/Dataset Proyecto /02 Muchas_gracias/normalized_muchas_gracias137 - Made with Clipchamp.mp4.\n",
            "Moviepy - Writing video /content/gdrive/MyDrive/VISIONAAAAA/Dataset Proyecto /02 Muchas_gracias/normalized_muchas_gracias137 - Made with Clipchamp.mp4\n",
            "\n"
          ]
        },
        {
          "output_type": "stream",
          "name": "stderr",
          "text": []
        },
        {
          "output_type": "stream",
          "name": "stdout",
          "text": [
            "Moviepy - Done !\n",
            "Moviepy - video ready /content/gdrive/MyDrive/VISIONAAAAA/Dataset Proyecto /02 Muchas_gracias/normalized_muchas_gracias137 - Made with Clipchamp.mp4\n",
            "Normalized video saved as /content/gdrive/MyDrive/VISIONAAAAA/Dataset Proyecto /02 Muchas_gracias/normalized_muchas_gracias137 - Made with Clipchamp.mp4\n",
            "\n",
            "Processing video /content/gdrive/MyDrive/VISIONAAAAA/Dataset Proyecto /02 Muchas_gracias/muchas_gracias138 - Made with Clipchamp.mp4...\n",
            "Moviepy - Building video /content/gdrive/MyDrive/VISIONAAAAA/Dataset Proyecto /02 Muchas_gracias/normalized_muchas_gracias138 - Made with Clipchamp.mp4.\n",
            "Moviepy - Writing video /content/gdrive/MyDrive/VISIONAAAAA/Dataset Proyecto /02 Muchas_gracias/normalized_muchas_gracias138 - Made with Clipchamp.mp4\n",
            "\n"
          ]
        },
        {
          "output_type": "stream",
          "name": "stderr",
          "text": []
        },
        {
          "output_type": "stream",
          "name": "stdout",
          "text": [
            "Moviepy - Done !\n",
            "Moviepy - video ready /content/gdrive/MyDrive/VISIONAAAAA/Dataset Proyecto /02 Muchas_gracias/normalized_muchas_gracias138 - Made with Clipchamp.mp4\n",
            "Normalized video saved as /content/gdrive/MyDrive/VISIONAAAAA/Dataset Proyecto /02 Muchas_gracias/normalized_muchas_gracias138 - Made with Clipchamp.mp4\n",
            "\n",
            "Processing video /content/gdrive/MyDrive/VISIONAAAAA/Dataset Proyecto /02 Muchas_gracias/muchas_gracias139 - Made with Clipchamp.mp4...\n",
            "Moviepy - Building video /content/gdrive/MyDrive/VISIONAAAAA/Dataset Proyecto /02 Muchas_gracias/normalized_muchas_gracias139 - Made with Clipchamp.mp4.\n",
            "Moviepy - Writing video /content/gdrive/MyDrive/VISIONAAAAA/Dataset Proyecto /02 Muchas_gracias/normalized_muchas_gracias139 - Made with Clipchamp.mp4\n",
            "\n"
          ]
        },
        {
          "output_type": "stream",
          "name": "stderr",
          "text": []
        },
        {
          "output_type": "stream",
          "name": "stdout",
          "text": [
            "Moviepy - Done !\n",
            "Moviepy - video ready /content/gdrive/MyDrive/VISIONAAAAA/Dataset Proyecto /02 Muchas_gracias/normalized_muchas_gracias139 - Made with Clipchamp.mp4\n",
            "Normalized video saved as /content/gdrive/MyDrive/VISIONAAAAA/Dataset Proyecto /02 Muchas_gracias/normalized_muchas_gracias139 - Made with Clipchamp.mp4\n",
            "\n",
            "Processing video /content/gdrive/MyDrive/VISIONAAAAA/Dataset Proyecto /02 Muchas_gracias/muchas_gracias140 - Made with Clipchamp.mp4...\n",
            "Moviepy - Building video /content/gdrive/MyDrive/VISIONAAAAA/Dataset Proyecto /02 Muchas_gracias/normalized_muchas_gracias140 - Made with Clipchamp.mp4.\n",
            "Moviepy - Writing video /content/gdrive/MyDrive/VISIONAAAAA/Dataset Proyecto /02 Muchas_gracias/normalized_muchas_gracias140 - Made with Clipchamp.mp4\n",
            "\n"
          ]
        },
        {
          "output_type": "stream",
          "name": "stderr",
          "text": []
        },
        {
          "output_type": "stream",
          "name": "stdout",
          "text": [
            "Moviepy - Done !\n",
            "Moviepy - video ready /content/gdrive/MyDrive/VISIONAAAAA/Dataset Proyecto /02 Muchas_gracias/normalized_muchas_gracias140 - Made with Clipchamp.mp4\n",
            "Normalized video saved as /content/gdrive/MyDrive/VISIONAAAAA/Dataset Proyecto /02 Muchas_gracias/normalized_muchas_gracias140 - Made with Clipchamp.mp4\n",
            "\n",
            "Processing video /content/gdrive/MyDrive/VISIONAAAAA/Dataset Proyecto /02 Muchas_gracias/muchas_gracias141 - Made with Clipchamp.mp4...\n",
            "Moviepy - Building video /content/gdrive/MyDrive/VISIONAAAAA/Dataset Proyecto /02 Muchas_gracias/normalized_muchas_gracias141 - Made with Clipchamp.mp4.\n",
            "Moviepy - Writing video /content/gdrive/MyDrive/VISIONAAAAA/Dataset Proyecto /02 Muchas_gracias/normalized_muchas_gracias141 - Made with Clipchamp.mp4\n",
            "\n"
          ]
        },
        {
          "output_type": "stream",
          "name": "stderr",
          "text": []
        },
        {
          "output_type": "stream",
          "name": "stdout",
          "text": [
            "Moviepy - Done !\n",
            "Moviepy - video ready /content/gdrive/MyDrive/VISIONAAAAA/Dataset Proyecto /02 Muchas_gracias/normalized_muchas_gracias141 - Made with Clipchamp.mp4\n",
            "Normalized video saved as /content/gdrive/MyDrive/VISIONAAAAA/Dataset Proyecto /02 Muchas_gracias/normalized_muchas_gracias141 - Made with Clipchamp.mp4\n",
            "\n",
            "Processing video /content/gdrive/MyDrive/VISIONAAAAA/Dataset Proyecto /02 Muchas_gracias/muchas_gracias142 - Made with Clipchamp.mp4...\n",
            "Moviepy - Building video /content/gdrive/MyDrive/VISIONAAAAA/Dataset Proyecto /02 Muchas_gracias/normalized_muchas_gracias142 - Made with Clipchamp.mp4.\n",
            "Moviepy - Writing video /content/gdrive/MyDrive/VISIONAAAAA/Dataset Proyecto /02 Muchas_gracias/normalized_muchas_gracias142 - Made with Clipchamp.mp4\n",
            "\n"
          ]
        },
        {
          "output_type": "stream",
          "name": "stderr",
          "text": []
        },
        {
          "output_type": "stream",
          "name": "stdout",
          "text": [
            "Moviepy - Done !\n",
            "Moviepy - video ready /content/gdrive/MyDrive/VISIONAAAAA/Dataset Proyecto /02 Muchas_gracias/normalized_muchas_gracias142 - Made with Clipchamp.mp4\n",
            "Normalized video saved as /content/gdrive/MyDrive/VISIONAAAAA/Dataset Proyecto /02 Muchas_gracias/normalized_muchas_gracias142 - Made with Clipchamp.mp4\n",
            "\n",
            "Processing video /content/gdrive/MyDrive/VISIONAAAAA/Dataset Proyecto /02 Muchas_gracias/muchas_gracias143 - Made with Clipchamp.mp4...\n",
            "Moviepy - Building video /content/gdrive/MyDrive/VISIONAAAAA/Dataset Proyecto /02 Muchas_gracias/normalized_muchas_gracias143 - Made with Clipchamp.mp4.\n",
            "Moviepy - Writing video /content/gdrive/MyDrive/VISIONAAAAA/Dataset Proyecto /02 Muchas_gracias/normalized_muchas_gracias143 - Made with Clipchamp.mp4\n",
            "\n"
          ]
        },
        {
          "output_type": "stream",
          "name": "stderr",
          "text": []
        },
        {
          "output_type": "stream",
          "name": "stdout",
          "text": [
            "Moviepy - Done !\n",
            "Moviepy - video ready /content/gdrive/MyDrive/VISIONAAAAA/Dataset Proyecto /02 Muchas_gracias/normalized_muchas_gracias143 - Made with Clipchamp.mp4\n",
            "Normalized video saved as /content/gdrive/MyDrive/VISIONAAAAA/Dataset Proyecto /02 Muchas_gracias/normalized_muchas_gracias143 - Made with Clipchamp.mp4\n",
            "\n",
            "Processing video /content/gdrive/MyDrive/VISIONAAAAA/Dataset Proyecto /02 Muchas_gracias/muchas_gracias144 - Made with Clipchamp.mp4...\n",
            "Moviepy - Building video /content/gdrive/MyDrive/VISIONAAAAA/Dataset Proyecto /02 Muchas_gracias/normalized_muchas_gracias144 - Made with Clipchamp.mp4.\n",
            "Moviepy - Writing video /content/gdrive/MyDrive/VISIONAAAAA/Dataset Proyecto /02 Muchas_gracias/normalized_muchas_gracias144 - Made with Clipchamp.mp4\n",
            "\n"
          ]
        },
        {
          "output_type": "stream",
          "name": "stderr",
          "text": []
        },
        {
          "output_type": "stream",
          "name": "stdout",
          "text": [
            "Moviepy - Done !\n",
            "Moviepy - video ready /content/gdrive/MyDrive/VISIONAAAAA/Dataset Proyecto /02 Muchas_gracias/normalized_muchas_gracias144 - Made with Clipchamp.mp4\n",
            "Normalized video saved as /content/gdrive/MyDrive/VISIONAAAAA/Dataset Proyecto /02 Muchas_gracias/normalized_muchas_gracias144 - Made with Clipchamp.mp4\n",
            "\n",
            "Processing video /content/gdrive/MyDrive/VISIONAAAAA/Dataset Proyecto /02 Muchas_gracias/muchas_gracias145 - Made with Clipchamp.mp4...\n",
            "Moviepy - Building video /content/gdrive/MyDrive/VISIONAAAAA/Dataset Proyecto /02 Muchas_gracias/normalized_muchas_gracias145 - Made with Clipchamp.mp4.\n",
            "Moviepy - Writing video /content/gdrive/MyDrive/VISIONAAAAA/Dataset Proyecto /02 Muchas_gracias/normalized_muchas_gracias145 - Made with Clipchamp.mp4\n",
            "\n"
          ]
        },
        {
          "output_type": "stream",
          "name": "stderr",
          "text": []
        },
        {
          "output_type": "stream",
          "name": "stdout",
          "text": [
            "Moviepy - Done !\n",
            "Moviepy - video ready /content/gdrive/MyDrive/VISIONAAAAA/Dataset Proyecto /02 Muchas_gracias/normalized_muchas_gracias145 - Made with Clipchamp.mp4\n",
            "Normalized video saved as /content/gdrive/MyDrive/VISIONAAAAA/Dataset Proyecto /02 Muchas_gracias/normalized_muchas_gracias145 - Made with Clipchamp.mp4\n",
            "\n",
            "Processing video /content/gdrive/MyDrive/VISIONAAAAA/Dataset Proyecto /02 Muchas_gracias/muchas_gracias146 - Made with Clipchamp.mp4...\n",
            "Moviepy - Building video /content/gdrive/MyDrive/VISIONAAAAA/Dataset Proyecto /02 Muchas_gracias/normalized_muchas_gracias146 - Made with Clipchamp.mp4.\n",
            "Moviepy - Writing video /content/gdrive/MyDrive/VISIONAAAAA/Dataset Proyecto /02 Muchas_gracias/normalized_muchas_gracias146 - Made with Clipchamp.mp4\n",
            "\n"
          ]
        },
        {
          "output_type": "stream",
          "name": "stderr",
          "text": []
        },
        {
          "output_type": "stream",
          "name": "stdout",
          "text": [
            "Moviepy - Done !\n",
            "Moviepy - video ready /content/gdrive/MyDrive/VISIONAAAAA/Dataset Proyecto /02 Muchas_gracias/normalized_muchas_gracias146 - Made with Clipchamp.mp4\n",
            "Normalized video saved as /content/gdrive/MyDrive/VISIONAAAAA/Dataset Proyecto /02 Muchas_gracias/normalized_muchas_gracias146 - Made with Clipchamp.mp4\n",
            "\n",
            "Processing video /content/gdrive/MyDrive/VISIONAAAAA/Dataset Proyecto /02 Muchas_gracias/muchas_gracias147 - Made with Clipchamp.mp4...\n",
            "Moviepy - Building video /content/gdrive/MyDrive/VISIONAAAAA/Dataset Proyecto /02 Muchas_gracias/normalized_muchas_gracias147 - Made with Clipchamp.mp4.\n",
            "Moviepy - Writing video /content/gdrive/MyDrive/VISIONAAAAA/Dataset Proyecto /02 Muchas_gracias/normalized_muchas_gracias147 - Made with Clipchamp.mp4\n",
            "\n"
          ]
        },
        {
          "output_type": "stream",
          "name": "stderr",
          "text": []
        },
        {
          "output_type": "stream",
          "name": "stdout",
          "text": [
            "Moviepy - Done !\n",
            "Moviepy - video ready /content/gdrive/MyDrive/VISIONAAAAA/Dataset Proyecto /02 Muchas_gracias/normalized_muchas_gracias147 - Made with Clipchamp.mp4\n",
            "Normalized video saved as /content/gdrive/MyDrive/VISIONAAAAA/Dataset Proyecto /02 Muchas_gracias/normalized_muchas_gracias147 - Made with Clipchamp.mp4\n",
            "\n",
            "Processing video /content/gdrive/MyDrive/VISIONAAAAA/Dataset Proyecto /02 Muchas_gracias/muchas_gracias148 - Made with Clipchamp.mp4...\n",
            "Moviepy - Building video /content/gdrive/MyDrive/VISIONAAAAA/Dataset Proyecto /02 Muchas_gracias/normalized_muchas_gracias148 - Made with Clipchamp.mp4.\n",
            "Moviepy - Writing video /content/gdrive/MyDrive/VISIONAAAAA/Dataset Proyecto /02 Muchas_gracias/normalized_muchas_gracias148 - Made with Clipchamp.mp4\n",
            "\n"
          ]
        },
        {
          "output_type": "stream",
          "name": "stderr",
          "text": []
        },
        {
          "output_type": "stream",
          "name": "stdout",
          "text": [
            "Moviepy - Done !\n",
            "Moviepy - video ready /content/gdrive/MyDrive/VISIONAAAAA/Dataset Proyecto /02 Muchas_gracias/normalized_muchas_gracias148 - Made with Clipchamp.mp4\n",
            "Normalized video saved as /content/gdrive/MyDrive/VISIONAAAAA/Dataset Proyecto /02 Muchas_gracias/normalized_muchas_gracias148 - Made with Clipchamp.mp4\n",
            "\n",
            "Processing video /content/gdrive/MyDrive/VISIONAAAAA/Dataset Proyecto /02 Muchas_gracias/muchas_gracias149 - Made with Clipchamp.mp4...\n",
            "Moviepy - Building video /content/gdrive/MyDrive/VISIONAAAAA/Dataset Proyecto /02 Muchas_gracias/normalized_muchas_gracias149 - Made with Clipchamp.mp4.\n",
            "Moviepy - Writing video /content/gdrive/MyDrive/VISIONAAAAA/Dataset Proyecto /02 Muchas_gracias/normalized_muchas_gracias149 - Made with Clipchamp.mp4\n",
            "\n"
          ]
        },
        {
          "output_type": "stream",
          "name": "stderr",
          "text": []
        },
        {
          "output_type": "stream",
          "name": "stdout",
          "text": [
            "Moviepy - Done !\n",
            "Moviepy - video ready /content/gdrive/MyDrive/VISIONAAAAA/Dataset Proyecto /02 Muchas_gracias/normalized_muchas_gracias149 - Made with Clipchamp.mp4\n",
            "Normalized video saved as /content/gdrive/MyDrive/VISIONAAAAA/Dataset Proyecto /02 Muchas_gracias/normalized_muchas_gracias149 - Made with Clipchamp.mp4\n",
            "\n",
            "Processing video /content/gdrive/MyDrive/VISIONAAAAA/Dataset Proyecto /02 Muchas_gracias/muchas_gracias150 - Made with Clipchamp.mp4...\n",
            "Moviepy - Building video /content/gdrive/MyDrive/VISIONAAAAA/Dataset Proyecto /02 Muchas_gracias/normalized_muchas_gracias150 - Made with Clipchamp.mp4.\n",
            "Moviepy - Writing video /content/gdrive/MyDrive/VISIONAAAAA/Dataset Proyecto /02 Muchas_gracias/normalized_muchas_gracias150 - Made with Clipchamp.mp4\n",
            "\n"
          ]
        },
        {
          "output_type": "stream",
          "name": "stderr",
          "text": []
        },
        {
          "output_type": "stream",
          "name": "stdout",
          "text": [
            "Moviepy - Done !\n",
            "Moviepy - video ready /content/gdrive/MyDrive/VISIONAAAAA/Dataset Proyecto /02 Muchas_gracias/normalized_muchas_gracias150 - Made with Clipchamp.mp4\n",
            "Normalized video saved as /content/gdrive/MyDrive/VISIONAAAAA/Dataset Proyecto /02 Muchas_gracias/normalized_muchas_gracias150 - Made with Clipchamp.mp4\n",
            "\n",
            "Processing video /content/gdrive/MyDrive/VISIONAAAAA/Dataset Proyecto /02 Muchas_gracias/muchas_gracias151 - Made with Clipchamp.mp4...\n",
            "Moviepy - Building video /content/gdrive/MyDrive/VISIONAAAAA/Dataset Proyecto /02 Muchas_gracias/normalized_muchas_gracias151 - Made with Clipchamp.mp4.\n",
            "Moviepy - Writing video /content/gdrive/MyDrive/VISIONAAAAA/Dataset Proyecto /02 Muchas_gracias/normalized_muchas_gracias151 - Made with Clipchamp.mp4\n",
            "\n"
          ]
        },
        {
          "output_type": "stream",
          "name": "stderr",
          "text": []
        },
        {
          "output_type": "stream",
          "name": "stdout",
          "text": [
            "Moviepy - Done !\n",
            "Moviepy - video ready /content/gdrive/MyDrive/VISIONAAAAA/Dataset Proyecto /02 Muchas_gracias/normalized_muchas_gracias151 - Made with Clipchamp.mp4\n",
            "Normalized video saved as /content/gdrive/MyDrive/VISIONAAAAA/Dataset Proyecto /02 Muchas_gracias/normalized_muchas_gracias151 - Made with Clipchamp.mp4\n",
            "\n",
            "Processing video /content/gdrive/MyDrive/VISIONAAAAA/Dataset Proyecto /02 Muchas_gracias/muchas_gracias152 - Made with Clipchamp.mp4...\n",
            "Moviepy - Building video /content/gdrive/MyDrive/VISIONAAAAA/Dataset Proyecto /02 Muchas_gracias/normalized_muchas_gracias152 - Made with Clipchamp.mp4.\n",
            "Moviepy - Writing video /content/gdrive/MyDrive/VISIONAAAAA/Dataset Proyecto /02 Muchas_gracias/normalized_muchas_gracias152 - Made with Clipchamp.mp4\n",
            "\n"
          ]
        },
        {
          "output_type": "stream",
          "name": "stderr",
          "text": []
        },
        {
          "output_type": "stream",
          "name": "stdout",
          "text": [
            "Moviepy - Done !\n",
            "Moviepy - video ready /content/gdrive/MyDrive/VISIONAAAAA/Dataset Proyecto /02 Muchas_gracias/normalized_muchas_gracias152 - Made with Clipchamp.mp4\n",
            "Normalized video saved as /content/gdrive/MyDrive/VISIONAAAAA/Dataset Proyecto /02 Muchas_gracias/normalized_muchas_gracias152 - Made with Clipchamp.mp4\n",
            "\n",
            "Processing video /content/gdrive/MyDrive/VISIONAAAAA/Dataset Proyecto /02 Muchas_gracias/muchas_gracias153 - Made with Clipchamp.mp4...\n",
            "Moviepy - Building video /content/gdrive/MyDrive/VISIONAAAAA/Dataset Proyecto /02 Muchas_gracias/normalized_muchas_gracias153 - Made with Clipchamp.mp4.\n",
            "Moviepy - Writing video /content/gdrive/MyDrive/VISIONAAAAA/Dataset Proyecto /02 Muchas_gracias/normalized_muchas_gracias153 - Made with Clipchamp.mp4\n",
            "\n"
          ]
        },
        {
          "output_type": "stream",
          "name": "stderr",
          "text": []
        },
        {
          "output_type": "stream",
          "name": "stdout",
          "text": [
            "Moviepy - Done !\n",
            "Moviepy - video ready /content/gdrive/MyDrive/VISIONAAAAA/Dataset Proyecto /02 Muchas_gracias/normalized_muchas_gracias153 - Made with Clipchamp.mp4\n",
            "Normalized video saved as /content/gdrive/MyDrive/VISIONAAAAA/Dataset Proyecto /02 Muchas_gracias/normalized_muchas_gracias153 - Made with Clipchamp.mp4\n",
            "\n",
            "Processing video /content/gdrive/MyDrive/VISIONAAAAA/Dataset Proyecto /02 Muchas_gracias/muchas_gracias154 - Made with Clipchamp.mp4...\n",
            "Moviepy - Building video /content/gdrive/MyDrive/VISIONAAAAA/Dataset Proyecto /02 Muchas_gracias/normalized_muchas_gracias154 - Made with Clipchamp.mp4.\n",
            "Moviepy - Writing video /content/gdrive/MyDrive/VISIONAAAAA/Dataset Proyecto /02 Muchas_gracias/normalized_muchas_gracias154 - Made with Clipchamp.mp4\n",
            "\n"
          ]
        },
        {
          "output_type": "stream",
          "name": "stderr",
          "text": []
        },
        {
          "output_type": "stream",
          "name": "stdout",
          "text": [
            "Moviepy - Done !\n",
            "Moviepy - video ready /content/gdrive/MyDrive/VISIONAAAAA/Dataset Proyecto /02 Muchas_gracias/normalized_muchas_gracias154 - Made with Clipchamp.mp4\n",
            "Normalized video saved as /content/gdrive/MyDrive/VISIONAAAAA/Dataset Proyecto /02 Muchas_gracias/normalized_muchas_gracias154 - Made with Clipchamp.mp4\n",
            "\n",
            "Processing video /content/gdrive/MyDrive/VISIONAAAAA/Dataset Proyecto /02 Muchas_gracias/muchas_gracias155 - Made with Clipchamp.mp4...\n",
            "Moviepy - Building video /content/gdrive/MyDrive/VISIONAAAAA/Dataset Proyecto /02 Muchas_gracias/normalized_muchas_gracias155 - Made with Clipchamp.mp4.\n",
            "Moviepy - Writing video /content/gdrive/MyDrive/VISIONAAAAA/Dataset Proyecto /02 Muchas_gracias/normalized_muchas_gracias155 - Made with Clipchamp.mp4\n",
            "\n"
          ]
        },
        {
          "output_type": "stream",
          "name": "stderr",
          "text": []
        },
        {
          "output_type": "stream",
          "name": "stdout",
          "text": [
            "Moviepy - Done !\n",
            "Moviepy - video ready /content/gdrive/MyDrive/VISIONAAAAA/Dataset Proyecto /02 Muchas_gracias/normalized_muchas_gracias155 - Made with Clipchamp.mp4\n",
            "Normalized video saved as /content/gdrive/MyDrive/VISIONAAAAA/Dataset Proyecto /02 Muchas_gracias/normalized_muchas_gracias155 - Made with Clipchamp.mp4\n",
            "\n",
            "Processing video /content/gdrive/MyDrive/VISIONAAAAA/Dataset Proyecto /02 Muchas_gracias/muchas_gracias156 - Made with Clipchamp.mp4...\n",
            "Moviepy - Building video /content/gdrive/MyDrive/VISIONAAAAA/Dataset Proyecto /02 Muchas_gracias/normalized_muchas_gracias156 - Made with Clipchamp.mp4.\n",
            "Moviepy - Writing video /content/gdrive/MyDrive/VISIONAAAAA/Dataset Proyecto /02 Muchas_gracias/normalized_muchas_gracias156 - Made with Clipchamp.mp4\n",
            "\n"
          ]
        },
        {
          "output_type": "stream",
          "name": "stderr",
          "text": []
        },
        {
          "output_type": "stream",
          "name": "stdout",
          "text": [
            "Moviepy - Done !\n",
            "Moviepy - video ready /content/gdrive/MyDrive/VISIONAAAAA/Dataset Proyecto /02 Muchas_gracias/normalized_muchas_gracias156 - Made with Clipchamp.mp4\n",
            "Normalized video saved as /content/gdrive/MyDrive/VISIONAAAAA/Dataset Proyecto /02 Muchas_gracias/normalized_muchas_gracias156 - Made with Clipchamp.mp4\n",
            "\n",
            "Processing video /content/gdrive/MyDrive/VISIONAAAAA/Dataset Proyecto /02 Muchas_gracias/muchas_gracias157 - Made with Clipchamp.mp4...\n",
            "Moviepy - Building video /content/gdrive/MyDrive/VISIONAAAAA/Dataset Proyecto /02 Muchas_gracias/normalized_muchas_gracias157 - Made with Clipchamp.mp4.\n",
            "Moviepy - Writing video /content/gdrive/MyDrive/VISIONAAAAA/Dataset Proyecto /02 Muchas_gracias/normalized_muchas_gracias157 - Made with Clipchamp.mp4\n",
            "\n"
          ]
        },
        {
          "output_type": "stream",
          "name": "stderr",
          "text": []
        },
        {
          "output_type": "stream",
          "name": "stdout",
          "text": [
            "Moviepy - Done !\n",
            "Moviepy - video ready /content/gdrive/MyDrive/VISIONAAAAA/Dataset Proyecto /02 Muchas_gracias/normalized_muchas_gracias157 - Made with Clipchamp.mp4\n",
            "Normalized video saved as /content/gdrive/MyDrive/VISIONAAAAA/Dataset Proyecto /02 Muchas_gracias/normalized_muchas_gracias157 - Made with Clipchamp.mp4\n",
            "\n",
            "Processing video /content/gdrive/MyDrive/VISIONAAAAA/Dataset Proyecto /02 Muchas_gracias/muchas_gracias158 - Made with Clipchamp.mp4...\n",
            "Moviepy - Building video /content/gdrive/MyDrive/VISIONAAAAA/Dataset Proyecto /02 Muchas_gracias/normalized_muchas_gracias158 - Made with Clipchamp.mp4.\n",
            "Moviepy - Writing video /content/gdrive/MyDrive/VISIONAAAAA/Dataset Proyecto /02 Muchas_gracias/normalized_muchas_gracias158 - Made with Clipchamp.mp4\n",
            "\n"
          ]
        },
        {
          "output_type": "stream",
          "name": "stderr",
          "text": []
        },
        {
          "output_type": "stream",
          "name": "stdout",
          "text": [
            "Moviepy - Done !\n",
            "Moviepy - video ready /content/gdrive/MyDrive/VISIONAAAAA/Dataset Proyecto /02 Muchas_gracias/normalized_muchas_gracias158 - Made with Clipchamp.mp4\n",
            "Normalized video saved as /content/gdrive/MyDrive/VISIONAAAAA/Dataset Proyecto /02 Muchas_gracias/normalized_muchas_gracias158 - Made with Clipchamp.mp4\n",
            "\n",
            "Processing video /content/gdrive/MyDrive/VISIONAAAAA/Dataset Proyecto /02 Muchas_gracias/muchas_gracias159 - Made with Clipchamp.mp4...\n",
            "Moviepy - Building video /content/gdrive/MyDrive/VISIONAAAAA/Dataset Proyecto /02 Muchas_gracias/normalized_muchas_gracias159 - Made with Clipchamp.mp4.\n",
            "Moviepy - Writing video /content/gdrive/MyDrive/VISIONAAAAA/Dataset Proyecto /02 Muchas_gracias/normalized_muchas_gracias159 - Made with Clipchamp.mp4\n",
            "\n"
          ]
        },
        {
          "output_type": "stream",
          "name": "stderr",
          "text": []
        },
        {
          "output_type": "stream",
          "name": "stdout",
          "text": [
            "Moviepy - Done !\n",
            "Moviepy - video ready /content/gdrive/MyDrive/VISIONAAAAA/Dataset Proyecto /02 Muchas_gracias/normalized_muchas_gracias159 - Made with Clipchamp.mp4\n",
            "Normalized video saved as /content/gdrive/MyDrive/VISIONAAAAA/Dataset Proyecto /02 Muchas_gracias/normalized_muchas_gracias159 - Made with Clipchamp.mp4\n",
            "\n",
            "Processing video /content/gdrive/MyDrive/VISIONAAAAA/Dataset Proyecto /02 Muchas_gracias/muchas_gracias160 - Made with Clipchamp.mp4...\n",
            "Moviepy - Building video /content/gdrive/MyDrive/VISIONAAAAA/Dataset Proyecto /02 Muchas_gracias/normalized_muchas_gracias160 - Made with Clipchamp.mp4.\n",
            "Moviepy - Writing video /content/gdrive/MyDrive/VISIONAAAAA/Dataset Proyecto /02 Muchas_gracias/normalized_muchas_gracias160 - Made with Clipchamp.mp4\n",
            "\n"
          ]
        },
        {
          "output_type": "stream",
          "name": "stderr",
          "text": []
        },
        {
          "output_type": "stream",
          "name": "stdout",
          "text": [
            "Moviepy - Done !\n",
            "Moviepy - video ready /content/gdrive/MyDrive/VISIONAAAAA/Dataset Proyecto /02 Muchas_gracias/normalized_muchas_gracias160 - Made with Clipchamp.mp4\n",
            "Normalized video saved as /content/gdrive/MyDrive/VISIONAAAAA/Dataset Proyecto /02 Muchas_gracias/normalized_muchas_gracias160 - Made with Clipchamp.mp4\n",
            "\n",
            "All videos have been processed.\n"
          ]
        }
      ],
      "source": [
        "import os\n",
        "from moviepy.editor import VideoFileClip\n",
        "from google.colab import drive\n",
        "drive.mount('/content/gdrive')\n",
        "\n",
        "\n",
        "def normalize_video(video_path, output_path, target_fps):\n",
        "    clip = VideoFileClip(video_path)\n",
        "    clip = clip.set_duration(clip.duration).set_fps(target_fps)\n",
        "    clip.write_videofile(output_path, fps=target_fps)\n",
        "\n",
        "base_dir = '/content/gdrive/MyDrive/VISIONAAAAA/Dataset Proyecto /02 Muchas_gracias'\n",
        "\n",
        "target_fps = 80\n",
        "\n",
        "for root, dirs, files in os.walk(base_dir):\n",
        "    for file in files:\n",
        "        if file.endswith('.mp4'):  # Check if the file is a .mp4 video\n",
        "            input_video_path = os.path.join(root, file)\n",
        "            output_video_path = os.path.join(root, f'normalized_{file}')\n",
        "            \n",
        "            print(f'Processing video {input_video_path}...')\n",
        "            normalize_video(input_video_path, output_video_path, target_fps)\n",
        "            print(f'Normalized video saved as {output_video_path}\\n')\n",
        "\n",
        "print('All videos have been processed.')\n"
      ]
    }
  ]
}